{
  "nbformat": 4,
  "nbformat_minor": 0,
  "metadata": {
    "colab": {
      "name": "Fraud detection.ipynb",
      "provenance": [],
      "collapsed_sections": [
        "-6BD65dyVWao",
        "PaKY2p4xW636"
      ]
    },
    "kernelspec": {
      "name": "python3",
      "display_name": "Python 3"
    },
    "language_info": {
      "name": "python"
    },
    "accelerator": "GPU"
  },
  "cells": [
    {
      "cell_type": "markdown",
      "source": [
        "##Details on Dataset"
      ],
      "metadata": {
        "id": "YazE2jDRE79j"
      }
    },
    {
      "cell_type": "code",
      "source": [
        "from google.colab import drive\n",
        "drive.mount(\"/content/gdrive\", force_remount=True)"
      ],
      "metadata": {
        "colab": {
          "base_uri": "https://localhost:8080/"
        },
        "id": "apsuaSZvDRnc",
        "outputId": "145f919b-c3a8-4080-f80b-e733b41d0f05"
      },
      "execution_count": 1,
      "outputs": [
        {
          "output_type": "stream",
          "name": "stdout",
          "text": [
            "Mounted at /content/gdrive\n"
          ]
        }
      ]
    },
    {
      "cell_type": "code",
      "source": [
        "import pandas as pd\n",
        "\n",
        "df = pd.read_csv('/content/gdrive/MyDrive/creditcard.csv')\n",
        "df.head()"
      ],
      "metadata": {
        "colab": {
          "base_uri": "https://localhost:8080/",
          "height": 299
        },
        "id": "UbEkq3cTDTZk",
        "outputId": "a123b822-c4bc-4d62-9e17-2116ac5229d3"
      },
      "execution_count": 2,
      "outputs": [
        {
          "output_type": "execute_result",
          "data": {
            "text/plain": [
              "   Time        V1        V2        V3        V4        V5        V6        V7  \\\n",
              "0   0.0 -1.359807 -0.072781  2.536347  1.378155 -0.338321  0.462388  0.239599   \n",
              "1   0.0  1.191857  0.266151  0.166480  0.448154  0.060018 -0.082361 -0.078803   \n",
              "2   1.0 -1.358354 -1.340163  1.773209  0.379780 -0.503198  1.800499  0.791461   \n",
              "3   1.0 -0.966272 -0.185226  1.792993 -0.863291 -0.010309  1.247203  0.237609   \n",
              "4   2.0 -1.158233  0.877737  1.548718  0.403034 -0.407193  0.095921  0.592941   \n",
              "\n",
              "         V8        V9  ...       V21       V22       V23       V24       V25  \\\n",
              "0  0.098698  0.363787  ... -0.018307  0.277838 -0.110474  0.066928  0.128539   \n",
              "1  0.085102 -0.255425  ... -0.225775 -0.638672  0.101288 -0.339846  0.167170   \n",
              "2  0.247676 -1.514654  ...  0.247998  0.771679  0.909412 -0.689281 -0.327642   \n",
              "3  0.377436 -1.387024  ... -0.108300  0.005274 -0.190321 -1.175575  0.647376   \n",
              "4 -0.270533  0.817739  ... -0.009431  0.798278 -0.137458  0.141267 -0.206010   \n",
              "\n",
              "        V26       V27       V28  Amount  Class  \n",
              "0 -0.189115  0.133558 -0.021053  149.62      0  \n",
              "1  0.125895 -0.008983  0.014724    2.69      0  \n",
              "2 -0.139097 -0.055353 -0.059752  378.66      0  \n",
              "3 -0.221929  0.062723  0.061458  123.50      0  \n",
              "4  0.502292  0.219422  0.215153   69.99      0  \n",
              "\n",
              "[5 rows x 31 columns]"
            ],
            "text/html": [
              "\n",
              "  <div id=\"df-3dae6e6d-78e5-4c9a-9883-07c821c6ddfa\">\n",
              "    <div class=\"colab-df-container\">\n",
              "      <div>\n",
              "<style scoped>\n",
              "    .dataframe tbody tr th:only-of-type {\n",
              "        vertical-align: middle;\n",
              "    }\n",
              "\n",
              "    .dataframe tbody tr th {\n",
              "        vertical-align: top;\n",
              "    }\n",
              "\n",
              "    .dataframe thead th {\n",
              "        text-align: right;\n",
              "    }\n",
              "</style>\n",
              "<table border=\"1\" class=\"dataframe\">\n",
              "  <thead>\n",
              "    <tr style=\"text-align: right;\">\n",
              "      <th></th>\n",
              "      <th>Time</th>\n",
              "      <th>V1</th>\n",
              "      <th>V2</th>\n",
              "      <th>V3</th>\n",
              "      <th>V4</th>\n",
              "      <th>V5</th>\n",
              "      <th>V6</th>\n",
              "      <th>V7</th>\n",
              "      <th>V8</th>\n",
              "      <th>V9</th>\n",
              "      <th>...</th>\n",
              "      <th>V21</th>\n",
              "      <th>V22</th>\n",
              "      <th>V23</th>\n",
              "      <th>V24</th>\n",
              "      <th>V25</th>\n",
              "      <th>V26</th>\n",
              "      <th>V27</th>\n",
              "      <th>V28</th>\n",
              "      <th>Amount</th>\n",
              "      <th>Class</th>\n",
              "    </tr>\n",
              "  </thead>\n",
              "  <tbody>\n",
              "    <tr>\n",
              "      <th>0</th>\n",
              "      <td>0.0</td>\n",
              "      <td>-1.359807</td>\n",
              "      <td>-0.072781</td>\n",
              "      <td>2.536347</td>\n",
              "      <td>1.378155</td>\n",
              "      <td>-0.338321</td>\n",
              "      <td>0.462388</td>\n",
              "      <td>0.239599</td>\n",
              "      <td>0.098698</td>\n",
              "      <td>0.363787</td>\n",
              "      <td>...</td>\n",
              "      <td>-0.018307</td>\n",
              "      <td>0.277838</td>\n",
              "      <td>-0.110474</td>\n",
              "      <td>0.066928</td>\n",
              "      <td>0.128539</td>\n",
              "      <td>-0.189115</td>\n",
              "      <td>0.133558</td>\n",
              "      <td>-0.021053</td>\n",
              "      <td>149.62</td>\n",
              "      <td>0</td>\n",
              "    </tr>\n",
              "    <tr>\n",
              "      <th>1</th>\n",
              "      <td>0.0</td>\n",
              "      <td>1.191857</td>\n",
              "      <td>0.266151</td>\n",
              "      <td>0.166480</td>\n",
              "      <td>0.448154</td>\n",
              "      <td>0.060018</td>\n",
              "      <td>-0.082361</td>\n",
              "      <td>-0.078803</td>\n",
              "      <td>0.085102</td>\n",
              "      <td>-0.255425</td>\n",
              "      <td>...</td>\n",
              "      <td>-0.225775</td>\n",
              "      <td>-0.638672</td>\n",
              "      <td>0.101288</td>\n",
              "      <td>-0.339846</td>\n",
              "      <td>0.167170</td>\n",
              "      <td>0.125895</td>\n",
              "      <td>-0.008983</td>\n",
              "      <td>0.014724</td>\n",
              "      <td>2.69</td>\n",
              "      <td>0</td>\n",
              "    </tr>\n",
              "    <tr>\n",
              "      <th>2</th>\n",
              "      <td>1.0</td>\n",
              "      <td>-1.358354</td>\n",
              "      <td>-1.340163</td>\n",
              "      <td>1.773209</td>\n",
              "      <td>0.379780</td>\n",
              "      <td>-0.503198</td>\n",
              "      <td>1.800499</td>\n",
              "      <td>0.791461</td>\n",
              "      <td>0.247676</td>\n",
              "      <td>-1.514654</td>\n",
              "      <td>...</td>\n",
              "      <td>0.247998</td>\n",
              "      <td>0.771679</td>\n",
              "      <td>0.909412</td>\n",
              "      <td>-0.689281</td>\n",
              "      <td>-0.327642</td>\n",
              "      <td>-0.139097</td>\n",
              "      <td>-0.055353</td>\n",
              "      <td>-0.059752</td>\n",
              "      <td>378.66</td>\n",
              "      <td>0</td>\n",
              "    </tr>\n",
              "    <tr>\n",
              "      <th>3</th>\n",
              "      <td>1.0</td>\n",
              "      <td>-0.966272</td>\n",
              "      <td>-0.185226</td>\n",
              "      <td>1.792993</td>\n",
              "      <td>-0.863291</td>\n",
              "      <td>-0.010309</td>\n",
              "      <td>1.247203</td>\n",
              "      <td>0.237609</td>\n",
              "      <td>0.377436</td>\n",
              "      <td>-1.387024</td>\n",
              "      <td>...</td>\n",
              "      <td>-0.108300</td>\n",
              "      <td>0.005274</td>\n",
              "      <td>-0.190321</td>\n",
              "      <td>-1.175575</td>\n",
              "      <td>0.647376</td>\n",
              "      <td>-0.221929</td>\n",
              "      <td>0.062723</td>\n",
              "      <td>0.061458</td>\n",
              "      <td>123.50</td>\n",
              "      <td>0</td>\n",
              "    </tr>\n",
              "    <tr>\n",
              "      <th>4</th>\n",
              "      <td>2.0</td>\n",
              "      <td>-1.158233</td>\n",
              "      <td>0.877737</td>\n",
              "      <td>1.548718</td>\n",
              "      <td>0.403034</td>\n",
              "      <td>-0.407193</td>\n",
              "      <td>0.095921</td>\n",
              "      <td>0.592941</td>\n",
              "      <td>-0.270533</td>\n",
              "      <td>0.817739</td>\n",
              "      <td>...</td>\n",
              "      <td>-0.009431</td>\n",
              "      <td>0.798278</td>\n",
              "      <td>-0.137458</td>\n",
              "      <td>0.141267</td>\n",
              "      <td>-0.206010</td>\n",
              "      <td>0.502292</td>\n",
              "      <td>0.219422</td>\n",
              "      <td>0.215153</td>\n",
              "      <td>69.99</td>\n",
              "      <td>0</td>\n",
              "    </tr>\n",
              "  </tbody>\n",
              "</table>\n",
              "<p>5 rows × 31 columns</p>\n",
              "</div>\n",
              "      <button class=\"colab-df-convert\" onclick=\"convertToInteractive('df-3dae6e6d-78e5-4c9a-9883-07c821c6ddfa')\"\n",
              "              title=\"Convert this dataframe to an interactive table.\"\n",
              "              style=\"display:none;\">\n",
              "        \n",
              "  <svg xmlns=\"http://www.w3.org/2000/svg\" height=\"24px\"viewBox=\"0 0 24 24\"\n",
              "       width=\"24px\">\n",
              "    <path d=\"M0 0h24v24H0V0z\" fill=\"none\"/>\n",
              "    <path d=\"M18.56 5.44l.94 2.06.94-2.06 2.06-.94-2.06-.94-.94-2.06-.94 2.06-2.06.94zm-11 1L8.5 8.5l.94-2.06 2.06-.94-2.06-.94L8.5 2.5l-.94 2.06-2.06.94zm10 10l.94 2.06.94-2.06 2.06-.94-2.06-.94-.94-2.06-.94 2.06-2.06.94z\"/><path d=\"M17.41 7.96l-1.37-1.37c-.4-.4-.92-.59-1.43-.59-.52 0-1.04.2-1.43.59L10.3 9.45l-7.72 7.72c-.78.78-.78 2.05 0 2.83L4 21.41c.39.39.9.59 1.41.59.51 0 1.02-.2 1.41-.59l7.78-7.78 2.81-2.81c.8-.78.8-2.07 0-2.86zM5.41 20L4 18.59l7.72-7.72 1.47 1.35L5.41 20z\"/>\n",
              "  </svg>\n",
              "      </button>\n",
              "      \n",
              "  <style>\n",
              "    .colab-df-container {\n",
              "      display:flex;\n",
              "      flex-wrap:wrap;\n",
              "      gap: 12px;\n",
              "    }\n",
              "\n",
              "    .colab-df-convert {\n",
              "      background-color: #E8F0FE;\n",
              "      border: none;\n",
              "      border-radius: 50%;\n",
              "      cursor: pointer;\n",
              "      display: none;\n",
              "      fill: #1967D2;\n",
              "      height: 32px;\n",
              "      padding: 0 0 0 0;\n",
              "      width: 32px;\n",
              "    }\n",
              "\n",
              "    .colab-df-convert:hover {\n",
              "      background-color: #E2EBFA;\n",
              "      box-shadow: 0px 1px 2px rgba(60, 64, 67, 0.3), 0px 1px 3px 1px rgba(60, 64, 67, 0.15);\n",
              "      fill: #174EA6;\n",
              "    }\n",
              "\n",
              "    [theme=dark] .colab-df-convert {\n",
              "      background-color: #3B4455;\n",
              "      fill: #D2E3FC;\n",
              "    }\n",
              "\n",
              "    [theme=dark] .colab-df-convert:hover {\n",
              "      background-color: #434B5C;\n",
              "      box-shadow: 0px 1px 3px 1px rgba(0, 0, 0, 0.15);\n",
              "      filter: drop-shadow(0px 1px 2px rgba(0, 0, 0, 0.3));\n",
              "      fill: #FFFFFF;\n",
              "    }\n",
              "  </style>\n",
              "\n",
              "      <script>\n",
              "        const buttonEl =\n",
              "          document.querySelector('#df-3dae6e6d-78e5-4c9a-9883-07c821c6ddfa button.colab-df-convert');\n",
              "        buttonEl.style.display =\n",
              "          google.colab.kernel.accessAllowed ? 'block' : 'none';\n",
              "\n",
              "        async function convertToInteractive(key) {\n",
              "          const element = document.querySelector('#df-3dae6e6d-78e5-4c9a-9883-07c821c6ddfa');\n",
              "          const dataTable =\n",
              "            await google.colab.kernel.invokeFunction('convertToInteractive',\n",
              "                                                     [key], {});\n",
              "          if (!dataTable) return;\n",
              "\n",
              "          const docLinkHtml = 'Like what you see? Visit the ' +\n",
              "            '<a target=\"_blank\" href=https://colab.research.google.com/notebooks/data_table.ipynb>data table notebook</a>'\n",
              "            + ' to learn more about interactive tables.';\n",
              "          element.innerHTML = '';\n",
              "          dataTable['output_type'] = 'display_data';\n",
              "          await google.colab.output.renderOutput(dataTable, element);\n",
              "          const docLink = document.createElement('div');\n",
              "          docLink.innerHTML = docLinkHtml;\n",
              "          element.appendChild(docLink);\n",
              "        }\n",
              "      </script>\n",
              "    </div>\n",
              "  </div>\n",
              "  "
            ]
          },
          "metadata": {},
          "execution_count": 2
        }
      ]
    },
    {
      "cell_type": "code",
      "source": [
        "df.info()"
      ],
      "metadata": {
        "colab": {
          "base_uri": "https://localhost:8080/"
        },
        "id": "elbSrmIZDaQX",
        "outputId": "3d5a5404-3603-45d4-c95d-a04bf160df71"
      },
      "execution_count": 3,
      "outputs": [
        {
          "output_type": "stream",
          "name": "stdout",
          "text": [
            "<class 'pandas.core.frame.DataFrame'>\n",
            "RangeIndex: 284807 entries, 0 to 284806\n",
            "Data columns (total 31 columns):\n",
            " #   Column  Non-Null Count   Dtype  \n",
            "---  ------  --------------   -----  \n",
            " 0   Time    284807 non-null  float64\n",
            " 1   V1      284807 non-null  float64\n",
            " 2   V2      284807 non-null  float64\n",
            " 3   V3      284807 non-null  float64\n",
            " 4   V4      284807 non-null  float64\n",
            " 5   V5      284807 non-null  float64\n",
            " 6   V6      284807 non-null  float64\n",
            " 7   V7      284807 non-null  float64\n",
            " 8   V8      284807 non-null  float64\n",
            " 9   V9      284807 non-null  float64\n",
            " 10  V10     284807 non-null  float64\n",
            " 11  V11     284807 non-null  float64\n",
            " 12  V12     284807 non-null  float64\n",
            " 13  V13     284807 non-null  float64\n",
            " 14  V14     284807 non-null  float64\n",
            " 15  V15     284807 non-null  float64\n",
            " 16  V16     284807 non-null  float64\n",
            " 17  V17     284807 non-null  float64\n",
            " 18  V18     284807 non-null  float64\n",
            " 19  V19     284807 non-null  float64\n",
            " 20  V20     284807 non-null  float64\n",
            " 21  V21     284807 non-null  float64\n",
            " 22  V22     284807 non-null  float64\n",
            " 23  V23     284807 non-null  float64\n",
            " 24  V24     284807 non-null  float64\n",
            " 25  V25     284807 non-null  float64\n",
            " 26  V26     284807 non-null  float64\n",
            " 27  V27     284807 non-null  float64\n",
            " 28  V28     284807 non-null  float64\n",
            " 29  Amount  284807 non-null  float64\n",
            " 30  Class   284807 non-null  int64  \n",
            "dtypes: float64(30), int64(1)\n",
            "memory usage: 67.4 MB\n"
          ]
        }
      ]
    },
    {
      "cell_type": "code",
      "source": [
        "df.describe()"
      ],
      "metadata": {
        "colab": {
          "base_uri": "https://localhost:8080/",
          "height": 394
        },
        "id": "Ma0_OsjmD7By",
        "outputId": "e56c89f8-11a2-4599-9fd2-4c973463f9ac"
      },
      "execution_count": 4,
      "outputs": [
        {
          "output_type": "execute_result",
          "data": {
            "text/plain": [
              "                Time            V1            V2            V3            V4  \\\n",
              "count  284807.000000  2.848070e+05  2.848070e+05  2.848070e+05  2.848070e+05   \n",
              "mean    94813.859575  3.918649e-15  5.682686e-16 -8.761736e-15  2.811118e-15   \n",
              "std     47488.145955  1.958696e+00  1.651309e+00  1.516255e+00  1.415869e+00   \n",
              "min         0.000000 -5.640751e+01 -7.271573e+01 -4.832559e+01 -5.683171e+00   \n",
              "25%     54201.500000 -9.203734e-01 -5.985499e-01 -8.903648e-01 -8.486401e-01   \n",
              "50%     84692.000000  1.810880e-02  6.548556e-02  1.798463e-01 -1.984653e-02   \n",
              "75%    139320.500000  1.315642e+00  8.037239e-01  1.027196e+00  7.433413e-01   \n",
              "max    172792.000000  2.454930e+00  2.205773e+01  9.382558e+00  1.687534e+01   \n",
              "\n",
              "                 V5            V6            V7            V8            V9  \\\n",
              "count  2.848070e+05  2.848070e+05  2.848070e+05  2.848070e+05  2.848070e+05   \n",
              "mean  -1.552103e-15  2.040130e-15 -1.698953e-15 -1.893285e-16 -3.147640e-15   \n",
              "std    1.380247e+00  1.332271e+00  1.237094e+00  1.194353e+00  1.098632e+00   \n",
              "min   -1.137433e+02 -2.616051e+01 -4.355724e+01 -7.321672e+01 -1.343407e+01   \n",
              "25%   -6.915971e-01 -7.682956e-01 -5.540759e-01 -2.086297e-01 -6.430976e-01   \n",
              "50%   -5.433583e-02 -2.741871e-01  4.010308e-02  2.235804e-02 -5.142873e-02   \n",
              "75%    6.119264e-01  3.985649e-01  5.704361e-01  3.273459e-01  5.971390e-01   \n",
              "max    3.480167e+01  7.330163e+01  1.205895e+02  2.000721e+01  1.559499e+01   \n",
              "\n",
              "       ...           V21           V22           V23           V24  \\\n",
              "count  ...  2.848070e+05  2.848070e+05  2.848070e+05  2.848070e+05   \n",
              "mean   ...  1.473120e-16  8.042109e-16  5.282512e-16  4.456271e-15   \n",
              "std    ...  7.345240e-01  7.257016e-01  6.244603e-01  6.056471e-01   \n",
              "min    ... -3.483038e+01 -1.093314e+01 -4.480774e+01 -2.836627e+00   \n",
              "25%    ... -2.283949e-01 -5.423504e-01 -1.618463e-01 -3.545861e-01   \n",
              "50%    ... -2.945017e-02  6.781943e-03 -1.119293e-02  4.097606e-02   \n",
              "75%    ...  1.863772e-01  5.285536e-01  1.476421e-01  4.395266e-01   \n",
              "max    ...  2.720284e+01  1.050309e+01  2.252841e+01  4.584549e+00   \n",
              "\n",
              "                V25           V26           V27           V28         Amount  \\\n",
              "count  2.848070e+05  2.848070e+05  2.848070e+05  2.848070e+05  284807.000000   \n",
              "mean   1.426896e-15  1.701640e-15 -3.662252e-16 -1.217809e-16      88.349619   \n",
              "std    5.212781e-01  4.822270e-01  4.036325e-01  3.300833e-01     250.120109   \n",
              "min   -1.029540e+01 -2.604551e+00 -2.256568e+01 -1.543008e+01       0.000000   \n",
              "25%   -3.171451e-01 -3.269839e-01 -7.083953e-02 -5.295979e-02       5.600000   \n",
              "50%    1.659350e-02 -5.213911e-02  1.342146e-03  1.124383e-02      22.000000   \n",
              "75%    3.507156e-01  2.409522e-01  9.104512e-02  7.827995e-02      77.165000   \n",
              "max    7.519589e+00  3.517346e+00  3.161220e+01  3.384781e+01   25691.160000   \n",
              "\n",
              "               Class  \n",
              "count  284807.000000  \n",
              "mean        0.001727  \n",
              "std         0.041527  \n",
              "min         0.000000  \n",
              "25%         0.000000  \n",
              "50%         0.000000  \n",
              "75%         0.000000  \n",
              "max         1.000000  \n",
              "\n",
              "[8 rows x 31 columns]"
            ],
            "text/html": [
              "\n",
              "  <div id=\"df-8c9b91ef-ffd6-44d0-8de0-76412849a45c\">\n",
              "    <div class=\"colab-df-container\">\n",
              "      <div>\n",
              "<style scoped>\n",
              "    .dataframe tbody tr th:only-of-type {\n",
              "        vertical-align: middle;\n",
              "    }\n",
              "\n",
              "    .dataframe tbody tr th {\n",
              "        vertical-align: top;\n",
              "    }\n",
              "\n",
              "    .dataframe thead th {\n",
              "        text-align: right;\n",
              "    }\n",
              "</style>\n",
              "<table border=\"1\" class=\"dataframe\">\n",
              "  <thead>\n",
              "    <tr style=\"text-align: right;\">\n",
              "      <th></th>\n",
              "      <th>Time</th>\n",
              "      <th>V1</th>\n",
              "      <th>V2</th>\n",
              "      <th>V3</th>\n",
              "      <th>V4</th>\n",
              "      <th>V5</th>\n",
              "      <th>V6</th>\n",
              "      <th>V7</th>\n",
              "      <th>V8</th>\n",
              "      <th>V9</th>\n",
              "      <th>...</th>\n",
              "      <th>V21</th>\n",
              "      <th>V22</th>\n",
              "      <th>V23</th>\n",
              "      <th>V24</th>\n",
              "      <th>V25</th>\n",
              "      <th>V26</th>\n",
              "      <th>V27</th>\n",
              "      <th>V28</th>\n",
              "      <th>Amount</th>\n",
              "      <th>Class</th>\n",
              "    </tr>\n",
              "  </thead>\n",
              "  <tbody>\n",
              "    <tr>\n",
              "      <th>count</th>\n",
              "      <td>284807.000000</td>\n",
              "      <td>2.848070e+05</td>\n",
              "      <td>2.848070e+05</td>\n",
              "      <td>2.848070e+05</td>\n",
              "      <td>2.848070e+05</td>\n",
              "      <td>2.848070e+05</td>\n",
              "      <td>2.848070e+05</td>\n",
              "      <td>2.848070e+05</td>\n",
              "      <td>2.848070e+05</td>\n",
              "      <td>2.848070e+05</td>\n",
              "      <td>...</td>\n",
              "      <td>2.848070e+05</td>\n",
              "      <td>2.848070e+05</td>\n",
              "      <td>2.848070e+05</td>\n",
              "      <td>2.848070e+05</td>\n",
              "      <td>2.848070e+05</td>\n",
              "      <td>2.848070e+05</td>\n",
              "      <td>2.848070e+05</td>\n",
              "      <td>2.848070e+05</td>\n",
              "      <td>284807.000000</td>\n",
              "      <td>284807.000000</td>\n",
              "    </tr>\n",
              "    <tr>\n",
              "      <th>mean</th>\n",
              "      <td>94813.859575</td>\n",
              "      <td>3.918649e-15</td>\n",
              "      <td>5.682686e-16</td>\n",
              "      <td>-8.761736e-15</td>\n",
              "      <td>2.811118e-15</td>\n",
              "      <td>-1.552103e-15</td>\n",
              "      <td>2.040130e-15</td>\n",
              "      <td>-1.698953e-15</td>\n",
              "      <td>-1.893285e-16</td>\n",
              "      <td>-3.147640e-15</td>\n",
              "      <td>...</td>\n",
              "      <td>1.473120e-16</td>\n",
              "      <td>8.042109e-16</td>\n",
              "      <td>5.282512e-16</td>\n",
              "      <td>4.456271e-15</td>\n",
              "      <td>1.426896e-15</td>\n",
              "      <td>1.701640e-15</td>\n",
              "      <td>-3.662252e-16</td>\n",
              "      <td>-1.217809e-16</td>\n",
              "      <td>88.349619</td>\n",
              "      <td>0.001727</td>\n",
              "    </tr>\n",
              "    <tr>\n",
              "      <th>std</th>\n",
              "      <td>47488.145955</td>\n",
              "      <td>1.958696e+00</td>\n",
              "      <td>1.651309e+00</td>\n",
              "      <td>1.516255e+00</td>\n",
              "      <td>1.415869e+00</td>\n",
              "      <td>1.380247e+00</td>\n",
              "      <td>1.332271e+00</td>\n",
              "      <td>1.237094e+00</td>\n",
              "      <td>1.194353e+00</td>\n",
              "      <td>1.098632e+00</td>\n",
              "      <td>...</td>\n",
              "      <td>7.345240e-01</td>\n",
              "      <td>7.257016e-01</td>\n",
              "      <td>6.244603e-01</td>\n",
              "      <td>6.056471e-01</td>\n",
              "      <td>5.212781e-01</td>\n",
              "      <td>4.822270e-01</td>\n",
              "      <td>4.036325e-01</td>\n",
              "      <td>3.300833e-01</td>\n",
              "      <td>250.120109</td>\n",
              "      <td>0.041527</td>\n",
              "    </tr>\n",
              "    <tr>\n",
              "      <th>min</th>\n",
              "      <td>0.000000</td>\n",
              "      <td>-5.640751e+01</td>\n",
              "      <td>-7.271573e+01</td>\n",
              "      <td>-4.832559e+01</td>\n",
              "      <td>-5.683171e+00</td>\n",
              "      <td>-1.137433e+02</td>\n",
              "      <td>-2.616051e+01</td>\n",
              "      <td>-4.355724e+01</td>\n",
              "      <td>-7.321672e+01</td>\n",
              "      <td>-1.343407e+01</td>\n",
              "      <td>...</td>\n",
              "      <td>-3.483038e+01</td>\n",
              "      <td>-1.093314e+01</td>\n",
              "      <td>-4.480774e+01</td>\n",
              "      <td>-2.836627e+00</td>\n",
              "      <td>-1.029540e+01</td>\n",
              "      <td>-2.604551e+00</td>\n",
              "      <td>-2.256568e+01</td>\n",
              "      <td>-1.543008e+01</td>\n",
              "      <td>0.000000</td>\n",
              "      <td>0.000000</td>\n",
              "    </tr>\n",
              "    <tr>\n",
              "      <th>25%</th>\n",
              "      <td>54201.500000</td>\n",
              "      <td>-9.203734e-01</td>\n",
              "      <td>-5.985499e-01</td>\n",
              "      <td>-8.903648e-01</td>\n",
              "      <td>-8.486401e-01</td>\n",
              "      <td>-6.915971e-01</td>\n",
              "      <td>-7.682956e-01</td>\n",
              "      <td>-5.540759e-01</td>\n",
              "      <td>-2.086297e-01</td>\n",
              "      <td>-6.430976e-01</td>\n",
              "      <td>...</td>\n",
              "      <td>-2.283949e-01</td>\n",
              "      <td>-5.423504e-01</td>\n",
              "      <td>-1.618463e-01</td>\n",
              "      <td>-3.545861e-01</td>\n",
              "      <td>-3.171451e-01</td>\n",
              "      <td>-3.269839e-01</td>\n",
              "      <td>-7.083953e-02</td>\n",
              "      <td>-5.295979e-02</td>\n",
              "      <td>5.600000</td>\n",
              "      <td>0.000000</td>\n",
              "    </tr>\n",
              "    <tr>\n",
              "      <th>50%</th>\n",
              "      <td>84692.000000</td>\n",
              "      <td>1.810880e-02</td>\n",
              "      <td>6.548556e-02</td>\n",
              "      <td>1.798463e-01</td>\n",
              "      <td>-1.984653e-02</td>\n",
              "      <td>-5.433583e-02</td>\n",
              "      <td>-2.741871e-01</td>\n",
              "      <td>4.010308e-02</td>\n",
              "      <td>2.235804e-02</td>\n",
              "      <td>-5.142873e-02</td>\n",
              "      <td>...</td>\n",
              "      <td>-2.945017e-02</td>\n",
              "      <td>6.781943e-03</td>\n",
              "      <td>-1.119293e-02</td>\n",
              "      <td>4.097606e-02</td>\n",
              "      <td>1.659350e-02</td>\n",
              "      <td>-5.213911e-02</td>\n",
              "      <td>1.342146e-03</td>\n",
              "      <td>1.124383e-02</td>\n",
              "      <td>22.000000</td>\n",
              "      <td>0.000000</td>\n",
              "    </tr>\n",
              "    <tr>\n",
              "      <th>75%</th>\n",
              "      <td>139320.500000</td>\n",
              "      <td>1.315642e+00</td>\n",
              "      <td>8.037239e-01</td>\n",
              "      <td>1.027196e+00</td>\n",
              "      <td>7.433413e-01</td>\n",
              "      <td>6.119264e-01</td>\n",
              "      <td>3.985649e-01</td>\n",
              "      <td>5.704361e-01</td>\n",
              "      <td>3.273459e-01</td>\n",
              "      <td>5.971390e-01</td>\n",
              "      <td>...</td>\n",
              "      <td>1.863772e-01</td>\n",
              "      <td>5.285536e-01</td>\n",
              "      <td>1.476421e-01</td>\n",
              "      <td>4.395266e-01</td>\n",
              "      <td>3.507156e-01</td>\n",
              "      <td>2.409522e-01</td>\n",
              "      <td>9.104512e-02</td>\n",
              "      <td>7.827995e-02</td>\n",
              "      <td>77.165000</td>\n",
              "      <td>0.000000</td>\n",
              "    </tr>\n",
              "    <tr>\n",
              "      <th>max</th>\n",
              "      <td>172792.000000</td>\n",
              "      <td>2.454930e+00</td>\n",
              "      <td>2.205773e+01</td>\n",
              "      <td>9.382558e+00</td>\n",
              "      <td>1.687534e+01</td>\n",
              "      <td>3.480167e+01</td>\n",
              "      <td>7.330163e+01</td>\n",
              "      <td>1.205895e+02</td>\n",
              "      <td>2.000721e+01</td>\n",
              "      <td>1.559499e+01</td>\n",
              "      <td>...</td>\n",
              "      <td>2.720284e+01</td>\n",
              "      <td>1.050309e+01</td>\n",
              "      <td>2.252841e+01</td>\n",
              "      <td>4.584549e+00</td>\n",
              "      <td>7.519589e+00</td>\n",
              "      <td>3.517346e+00</td>\n",
              "      <td>3.161220e+01</td>\n",
              "      <td>3.384781e+01</td>\n",
              "      <td>25691.160000</td>\n",
              "      <td>1.000000</td>\n",
              "    </tr>\n",
              "  </tbody>\n",
              "</table>\n",
              "<p>8 rows × 31 columns</p>\n",
              "</div>\n",
              "      <button class=\"colab-df-convert\" onclick=\"convertToInteractive('df-8c9b91ef-ffd6-44d0-8de0-76412849a45c')\"\n",
              "              title=\"Convert this dataframe to an interactive table.\"\n",
              "              style=\"display:none;\">\n",
              "        \n",
              "  <svg xmlns=\"http://www.w3.org/2000/svg\" height=\"24px\"viewBox=\"0 0 24 24\"\n",
              "       width=\"24px\">\n",
              "    <path d=\"M0 0h24v24H0V0z\" fill=\"none\"/>\n",
              "    <path d=\"M18.56 5.44l.94 2.06.94-2.06 2.06-.94-2.06-.94-.94-2.06-.94 2.06-2.06.94zm-11 1L8.5 8.5l.94-2.06 2.06-.94-2.06-.94L8.5 2.5l-.94 2.06-2.06.94zm10 10l.94 2.06.94-2.06 2.06-.94-2.06-.94-.94-2.06-.94 2.06-2.06.94z\"/><path d=\"M17.41 7.96l-1.37-1.37c-.4-.4-.92-.59-1.43-.59-.52 0-1.04.2-1.43.59L10.3 9.45l-7.72 7.72c-.78.78-.78 2.05 0 2.83L4 21.41c.39.39.9.59 1.41.59.51 0 1.02-.2 1.41-.59l7.78-7.78 2.81-2.81c.8-.78.8-2.07 0-2.86zM5.41 20L4 18.59l7.72-7.72 1.47 1.35L5.41 20z\"/>\n",
              "  </svg>\n",
              "      </button>\n",
              "      \n",
              "  <style>\n",
              "    .colab-df-container {\n",
              "      display:flex;\n",
              "      flex-wrap:wrap;\n",
              "      gap: 12px;\n",
              "    }\n",
              "\n",
              "    .colab-df-convert {\n",
              "      background-color: #E8F0FE;\n",
              "      border: none;\n",
              "      border-radius: 50%;\n",
              "      cursor: pointer;\n",
              "      display: none;\n",
              "      fill: #1967D2;\n",
              "      height: 32px;\n",
              "      padding: 0 0 0 0;\n",
              "      width: 32px;\n",
              "    }\n",
              "\n",
              "    .colab-df-convert:hover {\n",
              "      background-color: #E2EBFA;\n",
              "      box-shadow: 0px 1px 2px rgba(60, 64, 67, 0.3), 0px 1px 3px 1px rgba(60, 64, 67, 0.15);\n",
              "      fill: #174EA6;\n",
              "    }\n",
              "\n",
              "    [theme=dark] .colab-df-convert {\n",
              "      background-color: #3B4455;\n",
              "      fill: #D2E3FC;\n",
              "    }\n",
              "\n",
              "    [theme=dark] .colab-df-convert:hover {\n",
              "      background-color: #434B5C;\n",
              "      box-shadow: 0px 1px 3px 1px rgba(0, 0, 0, 0.15);\n",
              "      filter: drop-shadow(0px 1px 2px rgba(0, 0, 0, 0.3));\n",
              "      fill: #FFFFFF;\n",
              "    }\n",
              "  </style>\n",
              "\n",
              "      <script>\n",
              "        const buttonEl =\n",
              "          document.querySelector('#df-8c9b91ef-ffd6-44d0-8de0-76412849a45c button.colab-df-convert');\n",
              "        buttonEl.style.display =\n",
              "          google.colab.kernel.accessAllowed ? 'block' : 'none';\n",
              "\n",
              "        async function convertToInteractive(key) {\n",
              "          const element = document.querySelector('#df-8c9b91ef-ffd6-44d0-8de0-76412849a45c');\n",
              "          const dataTable =\n",
              "            await google.colab.kernel.invokeFunction('convertToInteractive',\n",
              "                                                     [key], {});\n",
              "          if (!dataTable) return;\n",
              "\n",
              "          const docLinkHtml = 'Like what you see? Visit the ' +\n",
              "            '<a target=\"_blank\" href=https://colab.research.google.com/notebooks/data_table.ipynb>data table notebook</a>'\n",
              "            + ' to learn more about interactive tables.';\n",
              "          element.innerHTML = '';\n",
              "          dataTable['output_type'] = 'display_data';\n",
              "          await google.colab.output.renderOutput(dataTable, element);\n",
              "          const docLink = document.createElement('div');\n",
              "          docLink.innerHTML = docLinkHtml;\n",
              "          element.appendChild(docLink);\n",
              "        }\n",
              "      </script>\n",
              "    </div>\n",
              "  </div>\n",
              "  "
            ]
          },
          "metadata": {},
          "execution_count": 4
        }
      ]
    },
    {
      "cell_type": "code",
      "source": [
        "df.isnull().sum().max()"
      ],
      "metadata": {
        "colab": {
          "base_uri": "https://localhost:8080/"
        },
        "id": "usQYdrbuD-vS",
        "outputId": "2740145d-4919-481e-cf63-b1005fe4fdb0"
      },
      "execution_count": 5,
      "outputs": [
        {
          "output_type": "execute_result",
          "data": {
            "text/plain": [
              "0"
            ]
          },
          "metadata": {},
          "execution_count": 5
        }
      ]
    },
    {
      "cell_type": "code",
      "source": [
        "df.columns"
      ],
      "metadata": {
        "colab": {
          "base_uri": "https://localhost:8080/"
        },
        "id": "fcpm5PjcEDK4",
        "outputId": "147c4be8-bfb9-43e7-a688-dfd5a5c3ee98"
      },
      "execution_count": 6,
      "outputs": [
        {
          "output_type": "execute_result",
          "data": {
            "text/plain": [
              "Index(['Time', 'V1', 'V2', 'V3', 'V4', 'V5', 'V6', 'V7', 'V8', 'V9', 'V10',\n",
              "       'V11', 'V12', 'V13', 'V14', 'V15', 'V16', 'V17', 'V18', 'V19', 'V20',\n",
              "       'V21', 'V22', 'V23', 'V24', 'V25', 'V26', 'V27', 'V28', 'Amount',\n",
              "       'Class'],\n",
              "      dtype='object')"
            ]
          },
          "metadata": {},
          "execution_count": 6
        }
      ]
    },
    {
      "cell_type": "code",
      "source": [
        "print('No Frauds', round(df['Class'].value_counts()[0]/len(df) * 100,2), '% of the dataset')\n",
        "print('Frauds', round(df['Class'].value_counts()[1]/len(df) * 100,2), '% of the dataset')"
      ],
      "metadata": {
        "colab": {
          "base_uri": "https://localhost:8080/"
        },
        "id": "J25oSlluEHf-",
        "outputId": "53692511-ff5e-4434-c8df-56370b1d4290"
      },
      "execution_count": 7,
      "outputs": [
        {
          "output_type": "stream",
          "name": "stdout",
          "text": [
            "No Frauds 99.83 % of the dataset\n",
            "Frauds 0.17 % of the dataset\n"
          ]
        }
      ]
    },
    {
      "cell_type": "code",
      "source": [
        "df['Class'].value_counts()"
      ],
      "metadata": {
        "colab": {
          "base_uri": "https://localhost:8080/"
        },
        "id": "rXznQjM0ELA9",
        "outputId": "dc37f1db-bc5f-4a6d-9172-fc29935b817f"
      },
      "execution_count": 8,
      "outputs": [
        {
          "output_type": "execute_result",
          "data": {
            "text/plain": [
              "0    284315\n",
              "1       492\n",
              "Name: Class, dtype: int64"
            ]
          },
          "metadata": {},
          "execution_count": 8
        }
      ]
    },
    {
      "cell_type": "code",
      "source": [
        "import seaborn as sns\n",
        "sns.countplot(x=\"Class\", data=df)"
      ],
      "metadata": {
        "colab": {
          "base_uri": "https://localhost:8080/",
          "height": 296
        },
        "id": "CAhWguUUJaAl",
        "outputId": "09dc4896-19a1-45ea-c0a0-ae500d9624a5"
      },
      "execution_count": 9,
      "outputs": [
        {
          "output_type": "execute_result",
          "data": {
            "text/plain": [
              "<matplotlib.axes._subplots.AxesSubplot at 0x7f572ec08710>"
            ]
          },
          "metadata": {},
          "execution_count": 9
        },
        {
          "output_type": "display_data",
          "data": {
            "text/plain": [
              "<Figure size 432x288 with 1 Axes>"
            ],
            "image/png": "[encoded data removed]"
          },
          "metadata": {
            "needs_background": "light"
          }
        }
      ]
    },
    {
      "cell_type": "code",
      "source": [
        "print(df['Class'].value_counts())\n",
        "print('\\n')\n",
        "print(df['Class'].value_counts(normalize=True))"
      ],
      "metadata": {
        "colab": {
          "base_uri": "https://localhost:8080/"
        },
        "id": "9ikk2tHLJtGA",
        "outputId": "3d634a38-4410-4f84-b0ab-8ccf26a8a8d5"
      },
      "execution_count": 10,
      "outputs": [
        {
          "output_type": "stream",
          "name": "stdout",
          "text": [
            "0    284315\n",
            "1       492\n",
            "Name: Class, dtype: int64\n",
            "\n",
            "\n",
            "0    0.998273\n",
            "1    0.001727\n",
            "Name: Class, dtype: float64\n"
          ]
        }
      ]
    },
    {
      "cell_type": "code",
      "source": [
        "import matplotlib.pyplot as plt\n",
        "df[\"Class\"].value_counts().plot(kind = 'pie',explode=[0, 0.1],figsize=(6, 6),autopct='%1.1f%%',shadow=True)\n",
        "plt.title(\"Fraudulent and Non-Fraudulent Distribution\",fontsize=20)\n",
        "plt.legend([\"Fraud\", \"Genuine\"])\n",
        "plt.show()"
      ],
      "metadata": {
        "colab": {
          "base_uri": "https://localhost:8080/",
          "height": 378
        },
        "id": "Mr9_umGUJ0zf",
        "outputId": "4e641ed8-4147-4b56-8ff3-246931d313e3"
      },
      "execution_count": 12,
      "outputs": [
        {
          "output_type": "display_data",
          "data": {
            "text/plain": [
              "<Figure size 432x432 with 1 Axes>"
            ],
            "image/png": "[encoded data removed]"
          },
          "metadata": {}
        }
      ]
    },
    {
      "cell_type": "code",
      "source": [
        "fig, ax = plt.subplots(1, 2, figsize=(18,4))\n",
        "\n",
        "amount_val = df['Amount'].values\n",
        "time_val = df['Time'].values\n",
        "\n",
        "sns.distplot(amount_val, ax=ax[0], color='r')\n",
        "ax[0].set_title('Distribution of Transaction Amount', fontsize=14)\n",
        "ax[0].set_xlim([min(amount_val), max(amount_val)])\n",
        "\n",
        "sns.distplot(time_val, ax=ax[1], color='b')\n",
        "ax[1].set_title('Distribution of Transaction Time', fontsize=14)\n",
        "ax[1].set_xlim([min(time_val), max(time_val)])\n",
        "\n",
        "\n",
        "\n",
        "plt.show()"
      ],
      "metadata": {
        "colab": {
          "base_uri": "https://localhost:8080/",
          "height": 371
        },
        "id": "7wJPjFdILYvn",
        "outputId": "8d817a41-fce0-472c-c7aa-7f4d62c45e95"
      },
      "execution_count": 13,
      "outputs": [
        {
          "output_type": "stream",
          "name": "stderr",
          "text": [
            "/usr/local/lib/python3.7/dist-packages/seaborn/distributions.py:2619: FutureWarning: `distplot` is a deprecated function and will be removed in a future version. Please adapt your code to use either `displot` (a figure-level function with similar flexibility) or `histplot` (an axes-level function for histograms).\n",
            "  warnings.warn(msg, FutureWarning)\n",
            "/usr/local/lib/python3.7/dist-packages/seaborn/distributions.py:2619: FutureWarning: `distplot` is a deprecated function and will be removed in a future version. Please adapt your code to use either `displot` (a figure-level function with similar flexibility) or `histplot` (an axes-level function for histograms).\n",
            "  warnings.warn(msg, FutureWarning)\n"
          ]
        },
        {
          "output_type": "display_data",
          "data": {
            "text/plain": [
              "<Figure size 1296x288 with 2 Axes>"
            ],
            "image/png": "[encoded data removed]"
          },
          "metadata": {
            "needs_background": "light"
          }
        }
      ]
    },
    {
      "cell_type": "code",
      "source": [
        "df[['Time','Amount']].describe()"
      ],
      "metadata": {
        "colab": {
          "base_uri": "https://localhost:8080/",
          "height": 300
        },
        "id": "nE1hWEAQLmR5",
        "outputId": "9e8b29ca-0199-419b-e393-e8272a282084"
      },
      "execution_count": 14,
      "outputs": [
        {
          "output_type": "execute_result",
          "data": {
            "text/plain": [
              "                Time         Amount\n",
              "count  284807.000000  284807.000000\n",
              "mean    94813.859575      88.349619\n",
              "std     47488.145955     250.120109\n",
              "min         0.000000       0.000000\n",
              "25%     54201.500000       5.600000\n",
              "50%     84692.000000      22.000000\n",
              "75%    139320.500000      77.165000\n",
              "max    172792.000000   25691.160000"
            ],
            "text/html": [
              "\n",
              "  <div id=\"df-44dfed51-a470-4513-a275-a5a5ebfdfaf2\">\n",
              "    <div class=\"colab-df-container\">\n",
              "      <div>\n",
              "<style scoped>\n",
              "    .dataframe tbody tr th:only-of-type {\n",
              "        vertical-align: middle;\n",
              "    }\n",
              "\n",
              "    .dataframe tbody tr th {\n",
              "        vertical-align: top;\n",
              "    }\n",
              "\n",
              "    .dataframe thead th {\n",
              "        text-align: right;\n",
              "    }\n",
              "</style>\n",
              "<table border=\"1\" class=\"dataframe\">\n",
              "  <thead>\n",
              "    <tr style=\"text-align: right;\">\n",
              "      <th></th>\n",
              "      <th>Time</th>\n",
              "      <th>Amount</th>\n",
              "    </tr>\n",
              "  </thead>\n",
              "  <tbody>\n",
              "    <tr>\n",
              "      <th>count</th>\n",
              "      <td>284807.000000</td>\n",
              "      <td>284807.000000</td>\n",
              "    </tr>\n",
              "    <tr>\n",
              "      <th>mean</th>\n",
              "      <td>94813.859575</td>\n",
              "      <td>88.349619</td>\n",
              "    </tr>\n",
              "    <tr>\n",
              "      <th>std</th>\n",
              "      <td>47488.145955</td>\n",
              "      <td>250.120109</td>\n",
              "    </tr>\n",
              "    <tr>\n",
              "      <th>min</th>\n",
              "      <td>0.000000</td>\n",
              "      <td>0.000000</td>\n",
              "    </tr>\n",
              "    <tr>\n",
              "      <th>25%</th>\n",
              "      <td>54201.500000</td>\n",
              "      <td>5.600000</td>\n",
              "    </tr>\n",
              "    <tr>\n",
              "      <th>50%</th>\n",
              "      <td>84692.000000</td>\n",
              "      <td>22.000000</td>\n",
              "    </tr>\n",
              "    <tr>\n",
              "      <th>75%</th>\n",
              "      <td>139320.500000</td>\n",
              "      <td>77.165000</td>\n",
              "    </tr>\n",
              "    <tr>\n",
              "      <th>max</th>\n",
              "      <td>172792.000000</td>\n",
              "      <td>25691.160000</td>\n",
              "    </tr>\n",
              "  </tbody>\n",
              "</table>\n",
              "</div>\n",
              "      <button class=\"colab-df-convert\" onclick=\"convertToInteractive('df-44dfed51-a470-4513-a275-a5a5ebfdfaf2')\"\n",
              "              title=\"Convert this dataframe to an interactive table.\"\n",
              "              style=\"display:none;\">\n",
              "        \n",
              "  <svg xmlns=\"http://www.w3.org/2000/svg\" height=\"24px\"viewBox=\"0 0 24 24\"\n",
              "       width=\"24px\">\n",
              "    <path d=\"M0 0h24v24H0V0z\" fill=\"none\"/>\n",
              "    <path d=\"M18.56 5.44l.94 2.06.94-2.06 2.06-.94-2.06-.94-.94-2.06-.94 2.06-2.06.94zm-11 1L8.5 8.5l.94-2.06 2.06-.94-2.06-.94L8.5 2.5l-.94 2.06-2.06.94zm10 10l.94 2.06.94-2.06 2.06-.94-2.06-.94-.94-2.06-.94 2.06-2.06.94z\"/><path d=\"M17.41 7.96l-1.37-1.37c-.4-.4-.92-.59-1.43-.59-.52 0-1.04.2-1.43.59L10.3 9.45l-7.72 7.72c-.78.78-.78 2.05 0 2.83L4 21.41c.39.39.9.59 1.41.59.51 0 1.02-.2 1.41-.59l7.78-7.78 2.81-2.81c.8-.78.8-2.07 0-2.86zM5.41 20L4 18.59l7.72-7.72 1.47 1.35L5.41 20z\"/>\n",
              "  </svg>\n",
              "      </button>\n",
              "      \n",
              "  <style>\n",
              "    .colab-df-container {\n",
              "      display:flex;\n",
              "      flex-wrap:wrap;\n",
              "      gap: 12px;\n",
              "    }\n",
              "\n",
              "    .colab-df-convert {\n",
              "      background-color: #E8F0FE;\n",
              "      border: none;\n",
              "      border-radius: 50%;\n",
              "      cursor: pointer;\n",
              "      display: none;\n",
              "      fill: #1967D2;\n",
              "      height: 32px;\n",
              "      padding: 0 0 0 0;\n",
              "      width: 32px;\n",
              "    }\n",
              "\n",
              "    .colab-df-convert:hover {\n",
              "      background-color: #E2EBFA;\n",
              "      box-shadow: 0px 1px 2px rgba(60, 64, 67, 0.3), 0px 1px 3px 1px rgba(60, 64, 67, 0.15);\n",
              "      fill: #174EA6;\n",
              "    }\n",
              "\n",
              "    [theme=dark] .colab-df-convert {\n",
              "      background-color: #3B4455;\n",
              "      fill: #D2E3FC;\n",
              "    }\n",
              "\n",
              "    [theme=dark] .colab-df-convert:hover {\n",
              "      background-color: #434B5C;\n",
              "      box-shadow: 0px 1px 3px 1px rgba(0, 0, 0, 0.15);\n",
              "      filter: drop-shadow(0px 1px 2px rgba(0, 0, 0, 0.3));\n",
              "      fill: #FFFFFF;\n",
              "    }\n",
              "  </style>\n",
              "\n",
              "      <script>\n",
              "        const buttonEl =\n",
              "          document.querySelector('#df-44dfed51-a470-4513-a275-a5a5ebfdfaf2 button.colab-df-convert');\n",
              "        buttonEl.style.display =\n",
              "          google.colab.kernel.accessAllowed ? 'block' : 'none';\n",
              "\n",
              "        async function convertToInteractive(key) {\n",
              "          const element = document.querySelector('#df-44dfed51-a470-4513-a275-a5a5ebfdfaf2');\n",
              "          const dataTable =\n",
              "            await google.colab.kernel.invokeFunction('convertToInteractive',\n",
              "                                                     [key], {});\n",
              "          if (!dataTable) return;\n",
              "\n",
              "          const docLinkHtml = 'Like what you see? Visit the ' +\n",
              "            '<a target=\"_blank\" href=https://colab.research.google.com/notebooks/data_table.ipynb>data table notebook</a>'\n",
              "            + ' to learn more about interactive tables.';\n",
              "          element.innerHTML = '';\n",
              "          dataTable['output_type'] = 'display_data';\n",
              "          await google.colab.output.renderOutput(dataTable, element);\n",
              "          const docLink = document.createElement('div');\n",
              "          docLink.innerHTML = docLinkHtml;\n",
              "          element.appendChild(docLink);\n",
              "        }\n",
              "      </script>\n",
              "    </div>\n",
              "  </div>\n",
              "  "
            ]
          },
          "metadata": {},
          "execution_count": 14
        }
      ]
    },
    {
      "cell_type": "code",
      "source": [
        "fig, axs = plt.subplots(ncols=2,figsize=(16,4))\n",
        "sns.distplot(df[df['Class'] == 1]['Amount'], bins=100, ax=axs[0])\n",
        "axs[0].set_title(\"Distribution of Fraud Transactions\")\n",
        "\n",
        "sns.distplot(df[df['Class'] == 0]['Amount'], bins=100, ax=axs[1])\n",
        "axs[1].set_title(\"Distribution of Genuine Transactions\")\n",
        "\n",
        "plt.show()"
      ],
      "metadata": {
        "colab": {
          "base_uri": "https://localhost:8080/",
          "height": 385
        },
        "id": "QQnIWlNBL0-W",
        "outputId": "b99adad0-b7db-4f54-cfa7-8409645436a5"
      },
      "execution_count": 15,
      "outputs": [
        {
          "output_type": "stream",
          "name": "stderr",
          "text": [
            "/usr/local/lib/python3.7/dist-packages/seaborn/distributions.py:2619: FutureWarning: `distplot` is a deprecated function and will be removed in a future version. Please adapt your code to use either `displot` (a figure-level function with similar flexibility) or `histplot` (an axes-level function for histograms).\n",
            "  warnings.warn(msg, FutureWarning)\n",
            "/usr/local/lib/python3.7/dist-packages/seaborn/distributions.py:2619: FutureWarning: `distplot` is a deprecated function and will be removed in a future version. Please adapt your code to use either `displot` (a figure-level function with similar flexibility) or `histplot` (an axes-level function for histograms).\n",
            "  warnings.warn(msg, FutureWarning)\n"
          ]
        },
        {
          "output_type": "display_data",
          "data": {
            "text/plain": [
              "<Figure size 1152x288 with 2 Axes>"
            ],
            "image/png": "[encoded data removed]"
          },
          "metadata": {
            "needs_background": "light"
          }
        }
      ]
    },
    {
      "cell_type": "code",
      "source": [
        "print(\"Fraud Transaction distribution : \\n\",df[(df['Class'] == 1)]['Amount'].value_counts().head())\n",
        "print(\"\\n\")\n",
        "print(\"Maximum amount of fraud transaction - \",df[(df['Class'] == 1)]['Amount'].max())\n",
        "print(\"Minimum amount of fraud transaction - \",df[(df['Class'] == 1)]['Amount'].min())"
      ],
      "metadata": {
        "colab": {
          "base_uri": "https://localhost:8080/"
        },
        "id": "kZTgplwoL8sm",
        "outputId": "3a2d2eec-ebe8-470b-e8a6-61fafd4df914"
      },
      "execution_count": 16,
      "outputs": [
        {
          "output_type": "stream",
          "name": "stdout",
          "text": [
            "Fraud Transaction distribution : \n",
            " 1.00     113\n",
            "0.00      27\n",
            "99.99     27\n",
            "0.76      17\n",
            "0.77      10\n",
            "Name: Amount, dtype: int64\n",
            "\n",
            "\n",
            "Maximum amount of fraud transaction -  2125.87\n",
            "Minimum amount of fraud transaction -  0.0\n"
          ]
        }
      ]
    },
    {
      "cell_type": "code",
      "source": [
        "print(\"Genuine Transaction distribution : \\n\",df[(df['Class'] == 0)]['Amount'].value_counts().head())\n",
        "print(\"\\n\")\n",
        "print(\"Maximum amount of Genuine transaction - \",df[(df['Class'] == 0)]['Amount'].max())\n",
        "print(\"Minimum amount of Genuine transaction - \",df[(df['Class'] == 0)]['Amount'].min())"
      ],
      "metadata": {
        "colab": {
          "base_uri": "https://localhost:8080/"
        },
        "id": "x3lw_2XVMGPH",
        "outputId": "f7bf468c-9e8f-49cd-8a3a-e4cd4937e10a"
      },
      "execution_count": 17,
      "outputs": [
        {
          "output_type": "stream",
          "name": "stdout",
          "text": [
            "Genuine Transaction distribution : \n",
            " 1.00     13575\n",
            "1.98      6044\n",
            "0.89      4872\n",
            "9.99      4746\n",
            "15.00     3280\n",
            "Name: Amount, dtype: int64\n",
            "\n",
            "\n",
            "Maximum amount of Genuine transaction -  25691.16\n",
            "Minimum amount of Genuine transaction -  0.0\n"
          ]
        }
      ]
    },
    {
      "cell_type": "code",
      "source": [
        "plt.figure(figsize=(8,6))\n",
        "sns.boxplot(x='Class', y='Amount',data = df)\n",
        "plt.title('Amount Distribution for Fraud and Genuine transactions')\n",
        "plt.show()"
      ],
      "metadata": {
        "colab": {
          "base_uri": "https://localhost:8080/",
          "height": 404
        },
        "id": "Nz-krD02MKn5",
        "outputId": "94a306e1-6447-48cf-c67b-868ebe80aabe"
      },
      "execution_count": 18,
      "outputs": [
        {
          "output_type": "display_data",
          "data": {
            "text/plain": [
              "<Figure size 576x432 with 1 Axes>"
            ],
            "image/png": "[encoded data removed]"
          },
          "metadata": {
            "needs_background": "light"
          }
        }
      ]
    },
    {
      "cell_type": "code",
      "source": [
        "plt.figure(figsize=(12,8))\n",
        "ax = sns.boxplot(x='Class', y='Time',data = df)\n",
        "\n",
        "# Change the appearance of that box\n",
        "ax.artists[0].set_facecolor('#90EE90')\n",
        "ax.artists[1].set_facecolor('#FA8072')\n",
        "\n",
        "plt.title('Time Distribution for Fraud and Genuine transactions')\n",
        "plt.show()"
      ],
      "metadata": {
        "colab": {
          "base_uri": "https://localhost:8080/",
          "height": 513
        },
        "id": "Dxb7_w--MYte",
        "outputId": "71b259b4-714c-4b66-e3e1-d6afdccb9813"
      },
      "execution_count": 19,
      "outputs": [
        {
          "output_type": "display_data",
          "data": {
            "text/plain": [
              "<Figure size 864x576 with 1 Axes>"
            ],
            "image/png": "[encoded data removed]"
          },
          "metadata": {
            "needs_background": "light"
          }
        }
      ]
    },
    {
      "cell_type": "code",
      "source": [
        "# Finging unique values for each column\n",
        "df[['Time','Amount','Class']].nunique()"
      ],
      "metadata": {
        "colab": {
          "base_uri": "https://localhost:8080/"
        },
        "id": "nK1bHgdrMf2X",
        "outputId": "71d7025b-1238-4a94-85fe-f3c6661428bd"
      },
      "execution_count": 20,
      "outputs": [
        {
          "output_type": "execute_result",
          "data": {
            "text/plain": [
              "Time      124592\n",
              "Amount     32767\n",
              "Class          2\n",
              "dtype: int64"
            ]
          },
          "metadata": {},
          "execution_count": 20
        }
      ]
    },
    {
      "cell_type": "code",
      "source": [
        "corr = df.corr()\n",
        "plt.figure(figsize=(12,10))\n",
        "heat = sns.heatmap(data=corr)\n",
        "plt.title('Heatmap of Correlation')"
      ],
      "metadata": {
        "colab": {
          "base_uri": "https://localhost:8080/",
          "height": 654
        },
        "id": "lu4GK9j6OYqk",
        "outputId": "828d0469-59ce-4b69-eecf-20a333412006"
      },
      "execution_count": 21,
      "outputs": [
        {
          "output_type": "execute_result",
          "data": {
            "text/plain": [
              "Text(0.5, 1.0, 'Heatmap of Correlation')"
            ]
          },
          "metadata": {},
          "execution_count": 21
        },
        {
          "output_type": "display_data",
          "data": {
            "text/plain": [
              "<Figure size 864x720 with 2 Axes>"
            ],
            "image/png": "[encoded data removed]"
          },
          "metadata": {
            "needs_background": "light"
          }
        }
      ]
    },
    {
      "cell_type": "markdown",
      "source": [
        "##Data Preprocessing\n"
      ],
      "metadata": {
        "id": "Bo6cHecfGMby"
      }
    },
    {
      "cell_type": "code",
      "source": [
        "from sklearn import preprocessing\n",
        "scaler = preprocessing.StandardScaler()"
      ],
      "metadata": {
        "id": "AURrfXkyFEje"
      },
      "execution_count": 24,
      "outputs": []
    },
    {
      "cell_type": "code",
      "source": [
        "#standard scaling\n",
        "df['std_Amount'] = scaler.fit_transform(df['Amount'].values.reshape (-1,1))\n",
        "\n",
        "#removing Amount\n",
        "df = df.drop(\"Amount\", axis=1)"
      ],
      "metadata": {
        "id": "5tAKGAjjFbUF"
      },
      "execution_count": 25,
      "outputs": []
    },
    {
      "cell_type": "code",
      "source": [
        "#time is not required in the classification\n",
        "df = df.drop(\"Time\", axis=1)"
      ],
      "metadata": {
        "id": "GVNLrsiPF0FG"
      },
      "execution_count": 26,
      "outputs": []
    },
    {
      "cell_type": "code",
      "source": [
        "import imblearn\n",
        "from imblearn.under_sampling import RandomUnderSampler \n",
        "\n",
        "undersample = RandomUnderSampler(sampling_strategy=0.5)\n",
        "cols = df.columns.tolist()\n",
        "cols = [c for c in cols if c not in [\"Class\"]]\n",
        "target = \"Class\"\n",
        "\n",
        "#define X and Y\n",
        "X = df[cols]\n",
        "Y = df[target]\n",
        "\n",
        "#undersample\n",
        "X_under, Y_under = undersample.fit_resample(X, Y)"
      ],
      "metadata": {
        "id": "67Jb96aaGV49"
      },
      "execution_count": 27,
      "outputs": []
    },
    {
      "cell_type": "code",
      "source": [
        "from pandas import DataFrame\n",
        "test = pd.DataFrame(Y_under, columns = ['Class'])"
      ],
      "metadata": {
        "id": "IuMnWnlHGelS"
      },
      "execution_count": 28,
      "outputs": []
    },
    {
      "cell_type": "code",
      "source": [
        "#visualizing undersampling results\n",
        "fig, axs = plt.subplots(ncols=2, figsize=(13,4.5))\n",
        "sns.countplot(x=\"Class\", data=df, ax=axs[0])\n",
        "sns.countplot(x=\"Class\", data=test, ax=axs[1])\n",
        "\n",
        "fig.suptitle(\"Class repartition before and after undersampling\")\n",
        "a1=fig.axes[0]\n",
        "a1.set_title(\"Before\")\n",
        "a2=fig.axes[1]\n",
        "a2.set_title(\"After\")"
      ],
      "metadata": {
        "colab": {
          "base_uri": "https://localhost:8080/",
          "height": 356
        },
        "id": "BAHtNWJIGhZI",
        "outputId": "ee3d12c5-53d2-4d02-f649-afb9fb44edc6"
      },
      "execution_count": 29,
      "outputs": [
        {
          "output_type": "execute_result",
          "data": {
            "text/plain": [
              "Text(0.5, 1.0, 'After')"
            ]
          },
          "metadata": {},
          "execution_count": 29
        },
        {
          "output_type": "display_data",
          "data": {
            "text/plain": [
              "<Figure size 936x324 with 2 Axes>"
            ],
            "image/png": "[encoded data removed]"
          },
          "metadata": {
            "needs_background": "light"
          }
        }
      ]
    },
    {
      "cell_type": "code",
      "source": [
        "df.columns"
      ],
      "metadata": {
        "colab": {
          "base_uri": "https://localhost:8080/"
        },
        "id": "r9_Ti4qzQfVL",
        "outputId": "09d81b9d-2847-4627-d9bd-2570f6ec3d1f"
      },
      "execution_count": 38,
      "outputs": [
        {
          "output_type": "execute_result",
          "data": {
            "text/plain": [
              "Index(['V1', 'V2', 'V3', 'V4', 'V5', 'V6', 'V7', 'V8', 'V9', 'V10', 'V11',\n",
              "       'V12', 'V13', 'V14', 'V15', 'V16', 'V17', 'V18', 'V19', 'V20', 'V21',\n",
              "       'V22', 'V23', 'V24', 'V25', 'V26', 'V27', 'V28', 'Class', 'std_Amount'],\n",
              "      dtype='object')"
            ]
          },
          "metadata": {},
          "execution_count": 38
        }
      ]
    },
    {
      "cell_type": "code",
      "source": [
        "# Since our classes are highly skewed we should make them equivalent in order to have a normal distribution of the classes.\n",
        "\n",
        "# Random subsamples\n",
        "\n",
        "df = df.sample(frac=1)\n",
        "\n",
        "# amount of fraud classes 492 rows.\n",
        "fraud_df = df.loc[df['Class'] == 1]\n",
        "non_fraud_df = df.loc[df['Class'] == 0][:492]\n",
        "\n",
        "normal_distributed_df = pd.concat([fraud_df, non_fraud_df])\n",
        "\n",
        "# Shuffle dataframe rows\n",
        "new_df = normal_distributed_df.sample(frac=1, random_state=42)\n",
        "\n",
        "new_df.head()"
      ],
      "metadata": {
        "colab": {
          "base_uri": "https://localhost:8080/",
          "height": 299
        },
        "id": "QBcRIorwRF2o",
        "outputId": "72defb91-7acc-4ebc-a1ce-4d4cd3aeb92f"
      },
      "execution_count": 39,
      "outputs": [
        {
          "output_type": "execute_result",
          "data": {
            "text/plain": [
              "               V1        V2         V3        V4         V5        V6  \\\n",
              "115949  -2.627312  0.992671   1.675588  3.345493  -1.151680  0.332949   \n",
              "150692 -11.320633  7.191950 -13.179083  9.099552 -10.094749 -2.440115   \n",
              "90100   -0.516690 -0.577650   2.249521 -1.312244  -0.868411  0.254460   \n",
              "81186   -4.384221  3.264665  -3.077158  3.403594  -1.938075 -1.221081   \n",
              "6882    -4.617217  1.695694  -3.114372  4.328199  -1.873257 -0.989908   \n",
              "\n",
              "               V7        V8        V9        V10  ...       V21       V22  \\\n",
              "115949  -1.587089  1.688718 -1.060192   0.301334  ...  0.016287 -0.219573   \n",
              "150692 -14.184337  4.452503 -6.241960 -12.618163  ...  1.082235 -0.350563   \n",
              "90100   -0.040822 -0.119860 -0.821650   0.237074  ... -0.082224  0.202504   \n",
              "81186   -3.310317 -1.111975 -1.977593  -3.288204  ...  2.076383 -0.990303   \n",
              "6882    -4.577265  0.472216  0.472017  -5.576023  ...  0.481830  0.146023   \n",
              "\n",
              "             V23       V24       V25       V26       V27       V28  Class  \\\n",
              "115949 -0.397844  0.559256 -0.044195  0.153179 -0.143740 -0.264386      0   \n",
              "150692  0.483044  0.661133 -0.396522 -0.413315 -0.997548 -0.235036      1   \n",
              "90100   0.068065 -0.397593 -0.399679  1.084210 -0.110615 -0.090841      0   \n",
              "81186  -0.330358  0.158378  0.006351 -0.493860 -1.537652 -0.994022      1   \n",
              "6882    0.117039 -0.217565 -0.138776 -0.424453 -1.002041  0.890780      1   \n",
              "\n",
              "        std_Amount  \n",
              "115949   -0.350191  \n",
              "150692   -0.201582  \n",
              "90100     0.150130  \n",
              "81186    -0.170757  \n",
              "6882     -0.348831  \n",
              "\n",
              "[5 rows x 30 columns]"
            ],
            "text/html": [
              "\n",
              "  <div id=\"df-e49f71dd-dd0b-4a28-964e-d4ab49a05492\">\n",
              "    <div class=\"colab-df-container\">\n",
              "      <div>\n",
              "<style scoped>\n",
              "    .dataframe tbody tr th:only-of-type {\n",
              "        vertical-align: middle;\n",
              "    }\n",
              "\n",
              "    .dataframe tbody tr th {\n",
              "        vertical-align: top;\n",
              "    }\n",
              "\n",
              "    .dataframe thead th {\n",
              "        text-align: right;\n",
              "    }\n",
              "</style>\n",
              "<table border=\"1\" class=\"dataframe\">\n",
              "  <thead>\n",
              "    <tr style=\"text-align: right;\">\n",
              "      <th></th>\n",
              "      <th>V1</th>\n",
              "      <th>V2</th>\n",
              "      <th>V3</th>\n",
              "      <th>V4</th>\n",
              "      <th>V5</th>\n",
              "      <th>V6</th>\n",
              "      <th>V7</th>\n",
              "      <th>V8</th>\n",
              "      <th>V9</th>\n",
              "      <th>V10</th>\n",
              "      <th>...</th>\n",
              "      <th>V21</th>\n",
              "      <th>V22</th>\n",
              "      <th>V23</th>\n",
              "      <th>V24</th>\n",
              "      <th>V25</th>\n",
              "      <th>V26</th>\n",
              "      <th>V27</th>\n",
              "      <th>V28</th>\n",
              "      <th>Class</th>\n",
              "      <th>std_Amount</th>\n",
              "    </tr>\n",
              "  </thead>\n",
              "  <tbody>\n",
              "    <tr>\n",
              "      <th>115949</th>\n",
              "      <td>-2.627312</td>\n",
              "      <td>0.992671</td>\n",
              "      <td>1.675588</td>\n",
              "      <td>3.345493</td>\n",
              "      <td>-1.151680</td>\n",
              "      <td>0.332949</td>\n",
              "      <td>-1.587089</td>\n",
              "      <td>1.688718</td>\n",
              "      <td>-1.060192</td>\n",
              "      <td>0.301334</td>\n",
              "      <td>...</td>\n",
              "      <td>0.016287</td>\n",
              "      <td>-0.219573</td>\n",
              "      <td>-0.397844</td>\n",
              "      <td>0.559256</td>\n",
              "      <td>-0.044195</td>\n",
              "      <td>0.153179</td>\n",
              "      <td>-0.143740</td>\n",
              "      <td>-0.264386</td>\n",
              "      <td>0</td>\n",
              "      <td>-0.350191</td>\n",
              "    </tr>\n",
              "    <tr>\n",
              "      <th>150692</th>\n",
              "      <td>-11.320633</td>\n",
              "      <td>7.191950</td>\n",
              "      <td>-13.179083</td>\n",
              "      <td>9.099552</td>\n",
              "      <td>-10.094749</td>\n",
              "      <td>-2.440115</td>\n",
              "      <td>-14.184337</td>\n",
              "      <td>4.452503</td>\n",
              "      <td>-6.241960</td>\n",
              "      <td>-12.618163</td>\n",
              "      <td>...</td>\n",
              "      <td>1.082235</td>\n",
              "      <td>-0.350563</td>\n",
              "      <td>0.483044</td>\n",
              "      <td>0.661133</td>\n",
              "      <td>-0.396522</td>\n",
              "      <td>-0.413315</td>\n",
              "      <td>-0.997548</td>\n",
              "      <td>-0.235036</td>\n",
              "      <td>1</td>\n",
              "      <td>-0.201582</td>\n",
              "    </tr>\n",
              "    <tr>\n",
              "      <th>90100</th>\n",
              "      <td>-0.516690</td>\n",
              "      <td>-0.577650</td>\n",
              "      <td>2.249521</td>\n",
              "      <td>-1.312244</td>\n",
              "      <td>-0.868411</td>\n",
              "      <td>0.254460</td>\n",
              "      <td>-0.040822</td>\n",
              "      <td>-0.119860</td>\n",
              "      <td>-0.821650</td>\n",
              "      <td>0.237074</td>\n",
              "      <td>...</td>\n",
              "      <td>-0.082224</td>\n",
              "      <td>0.202504</td>\n",
              "      <td>0.068065</td>\n",
              "      <td>-0.397593</td>\n",
              "      <td>-0.399679</td>\n",
              "      <td>1.084210</td>\n",
              "      <td>-0.110615</td>\n",
              "      <td>-0.090841</td>\n",
              "      <td>0</td>\n",
              "      <td>0.150130</td>\n",
              "    </tr>\n",
              "    <tr>\n",
              "      <th>81186</th>\n",
              "      <td>-4.384221</td>\n",
              "      <td>3.264665</td>\n",
              "      <td>-3.077158</td>\n",
              "      <td>3.403594</td>\n",
              "      <td>-1.938075</td>\n",
              "      <td>-1.221081</td>\n",
              "      <td>-3.310317</td>\n",
              "      <td>-1.111975</td>\n",
              "      <td>-1.977593</td>\n",
              "      <td>-3.288204</td>\n",
              "      <td>...</td>\n",
              "      <td>2.076383</td>\n",
              "      <td>-0.990303</td>\n",
              "      <td>-0.330358</td>\n",
              "      <td>0.158378</td>\n",
              "      <td>0.006351</td>\n",
              "      <td>-0.493860</td>\n",
              "      <td>-1.537652</td>\n",
              "      <td>-0.994022</td>\n",
              "      <td>1</td>\n",
              "      <td>-0.170757</td>\n",
              "    </tr>\n",
              "    <tr>\n",
              "      <th>6882</th>\n",
              "      <td>-4.617217</td>\n",
              "      <td>1.695694</td>\n",
              "      <td>-3.114372</td>\n",
              "      <td>4.328199</td>\n",
              "      <td>-1.873257</td>\n",
              "      <td>-0.989908</td>\n",
              "      <td>-4.577265</td>\n",
              "      <td>0.472216</td>\n",
              "      <td>0.472017</td>\n",
              "      <td>-5.576023</td>\n",
              "      <td>...</td>\n",
              "      <td>0.481830</td>\n",
              "      <td>0.146023</td>\n",
              "      <td>0.117039</td>\n",
              "      <td>-0.217565</td>\n",
              "      <td>-0.138776</td>\n",
              "      <td>-0.424453</td>\n",
              "      <td>-1.002041</td>\n",
              "      <td>0.890780</td>\n",
              "      <td>1</td>\n",
              "      <td>-0.348831</td>\n",
              "    </tr>\n",
              "  </tbody>\n",
              "</table>\n",
              "<p>5 rows × 30 columns</p>\n",
              "</div>\n",
              "      <button class=\"colab-df-convert\" onclick=\"convertToInteractive('df-e49f71dd-dd0b-4a28-964e-d4ab49a05492')\"\n",
              "              title=\"Convert this dataframe to an interactive table.\"\n",
              "              style=\"display:none;\">\n",
              "        \n",
              "  <svg xmlns=\"http://www.w3.org/2000/svg\" height=\"24px\"viewBox=\"0 0 24 24\"\n",
              "       width=\"24px\">\n",
              "    <path d=\"M0 0h24v24H0V0z\" fill=\"none\"/>\n",
              "    <path d=\"M18.56 5.44l.94 2.06.94-2.06 2.06-.94-2.06-.94-.94-2.06-.94 2.06-2.06.94zm-11 1L8.5 8.5l.94-2.06 2.06-.94-2.06-.94L8.5 2.5l-.94 2.06-2.06.94zm10 10l.94 2.06.94-2.06 2.06-.94-2.06-.94-.94-2.06-.94 2.06-2.06.94z\"/><path d=\"M17.41 7.96l-1.37-1.37c-.4-.4-.92-.59-1.43-.59-.52 0-1.04.2-1.43.59L10.3 9.45l-7.72 7.72c-.78.78-.78 2.05 0 2.83L4 21.41c.39.39.9.59 1.41.59.51 0 1.02-.2 1.41-.59l7.78-7.78 2.81-2.81c.8-.78.8-2.07 0-2.86zM5.41 20L4 18.59l7.72-7.72 1.47 1.35L5.41 20z\"/>\n",
              "  </svg>\n",
              "      </button>\n",
              "      \n",
              "  <style>\n",
              "    .colab-df-container {\n",
              "      display:flex;\n",
              "      flex-wrap:wrap;\n",
              "      gap: 12px;\n",
              "    }\n",
              "\n",
              "    .colab-df-convert {\n",
              "      background-color: #E8F0FE;\n",
              "      border: none;\n",
              "      border-radius: 50%;\n",
              "      cursor: pointer;\n",
              "      display: none;\n",
              "      fill: #1967D2;\n",
              "      height: 32px;\n",
              "      padding: 0 0 0 0;\n",
              "      width: 32px;\n",
              "    }\n",
              "\n",
              "    .colab-df-convert:hover {\n",
              "      background-color: #E2EBFA;\n",
              "      box-shadow: 0px 1px 2px rgba(60, 64, 67, 0.3), 0px 1px 3px 1px rgba(60, 64, 67, 0.15);\n",
              "      fill: #174EA6;\n",
              "    }\n",
              "\n",
              "    [theme=dark] .colab-df-convert {\n",
              "      background-color: #3B4455;\n",
              "      fill: #D2E3FC;\n",
              "    }\n",
              "\n",
              "    [theme=dark] .colab-df-convert:hover {\n",
              "      background-color: #434B5C;\n",
              "      box-shadow: 0px 1px 3px 1px rgba(0, 0, 0, 0.15);\n",
              "      filter: drop-shadow(0px 1px 2px rgba(0, 0, 0, 0.3));\n",
              "      fill: #FFFFFF;\n",
              "    }\n",
              "  </style>\n",
              "\n",
              "      <script>\n",
              "        const buttonEl =\n",
              "          document.querySelector('#df-e49f71dd-dd0b-4a28-964e-d4ab49a05492 button.colab-df-convert');\n",
              "        buttonEl.style.display =\n",
              "          google.colab.kernel.accessAllowed ? 'block' : 'none';\n",
              "\n",
              "        async function convertToInteractive(key) {\n",
              "          const element = document.querySelector('#df-e49f71dd-dd0b-4a28-964e-d4ab49a05492');\n",
              "          const dataTable =\n",
              "            await google.colab.kernel.invokeFunction('convertToInteractive',\n",
              "                                                     [key], {});\n",
              "          if (!dataTable) return;\n",
              "\n",
              "          const docLinkHtml = 'Like what you see? Visit the ' +\n",
              "            '<a target=\"_blank\" href=https://colab.research.google.com/notebooks/data_table.ipynb>data table notebook</a>'\n",
              "            + ' to learn more about interactive tables.';\n",
              "          element.innerHTML = '';\n",
              "          dataTable['output_type'] = 'display_data';\n",
              "          await google.colab.output.renderOutput(dataTable, element);\n",
              "          const docLink = document.createElement('div');\n",
              "          docLink.innerHTML = docLinkHtml;\n",
              "          element.appendChild(docLink);\n",
              "        }\n",
              "      </script>\n",
              "    </div>\n",
              "  </div>\n",
              "  "
            ]
          },
          "metadata": {},
          "execution_count": 39
        }
      ]
    },
    {
      "cell_type": "code",
      "source": [
        "print('Distribution of the Classes in the subsample dataset')\n",
        "print(new_df['Class'].value_counts()/len(new_df))\n",
        "\n",
        "\n",
        "\n",
        "sns.countplot('Class', data=new_df)\n",
        "plt.title('Equally Distributed Classes', fontsize=14)\n",
        "plt.show()"
      ],
      "metadata": {
        "colab": {
          "base_uri": "https://localhost:8080/",
          "height": 420
        },
        "id": "7Gig-N_ZQ_dX",
        "outputId": "04656e5a-875a-4e7e-ff44-fc6a0104ce4a"
      },
      "execution_count": 40,
      "outputs": [
        {
          "output_type": "stream",
          "name": "stdout",
          "text": [
            "Distribution of the Classes in the subsample dataset\n",
            "0    0.5\n",
            "1    0.5\n",
            "Name: Class, dtype: float64\n"
          ]
        },
        {
          "output_type": "stream",
          "name": "stderr",
          "text": [
            "/usr/local/lib/python3.7/dist-packages/seaborn/_decorators.py:43: FutureWarning: Pass the following variable as a keyword arg: x. From version 0.12, the only valid positional argument will be `data`, and passing other arguments without an explicit keyword will result in an error or misinterpretation.\n",
            "  FutureWarning\n"
          ]
        },
        {
          "output_type": "display_data",
          "data": {
            "text/plain": [
              "<Figure size 432x288 with 1 Axes>"
            ],
            "image/png": "[encoded data removed]"
          },
          "metadata": {
            "needs_background": "light"
          }
        }
      ]
    },
    {
      "cell_type": "code",
      "source": [
        "new_df.describe()"
      ],
      "metadata": {
        "colab": {
          "base_uri": "https://localhost:8080/",
          "height": 394
        },
        "id": "gfqgZrXJSwmm",
        "outputId": "0c3f2233-817b-4a01-ad96-d73d76533620"
      },
      "execution_count": 41,
      "outputs": [
        {
          "output_type": "execute_result",
          "data": {
            "text/plain": [
              "               V1          V2          V3          V4          V5          V6  \\\n",
              "count  984.000000  984.000000  984.000000  984.000000  984.000000  984.000000   \n",
              "mean    -2.459415    1.803748   -3.549424    2.227671   -1.571335   -0.691227   \n",
              "std      5.485443    3.728165    6.191432    3.223063    4.196810    1.767277   \n",
              "min    -30.552380  -12.231992  -31.103685   -3.271827  -22.105532   -6.406267   \n",
              "25%     -2.990714   -0.124522   -5.113334   -0.153943   -1.797888   -1.594598   \n",
              "50%     -0.872488    0.968103   -1.346655    1.226505   -0.416662   -0.648409   \n",
              "75%      0.911032    2.873538    0.229245    4.229802    0.471174    0.030309   \n",
              "max      2.388382   22.057729    3.291772   12.114672   11.095089    6.474115   \n",
              "\n",
              "               V7          V8          V9         V10  ...         V21  \\\n",
              "count  984.000000  984.000000  984.000000  984.000000  ...  984.000000   \n",
              "mean    -2.771094    0.275807   -1.282089   -2.823066  ...    0.384921   \n",
              "std      5.857653    4.899236    2.310654    4.542643  ...    2.848169   \n",
              "min    -43.557242  -41.044261  -13.434066  -24.588262  ...  -22.797604   \n",
              "25%     -3.103817   -0.204866   -2.270968   -4.572043  ...   -0.178412   \n",
              "50%     -0.714784    0.146644   -0.719050   -0.854750  ...    0.152537   \n",
              "75%      0.270616    0.953747    0.212718    0.016170  ...    0.651412   \n",
              "max      5.802537   20.007208    5.616161    8.405842  ...   27.202839   \n",
              "\n",
              "              V22         V23         V24         V25         V26         V27  \\\n",
              "count  984.000000  984.000000  984.000000  984.000000  984.000000  984.000000   \n",
              "mean    -0.005692   -0.001781   -0.049912    0.013911    0.041718    0.083896   \n",
              "std      1.187720    1.175547    0.567009    0.667848    0.490911    1.010927   \n",
              "min     -8.887017  -19.254328   -2.100164   -4.781606   -1.224085   -7.263482   \n",
              "25%     -0.555502   -0.230605   -0.400890   -0.329888   -0.283785   -0.074847   \n",
              "50%      0.012441   -0.022406   -0.012235    0.047223    0.005467    0.051557   \n",
              "75%      0.585227    0.207016    0.363948    0.380244    0.353986    0.464479   \n",
              "max      8.361985    5.466230    1.246238    2.208209    2.745261    3.052358   \n",
              "\n",
              "              V28       Class  std_Amount  \n",
              "count  984.000000  984.000000  984.000000  \n",
              "mean     0.039142    0.500000    0.093573  \n",
              "std      0.443253    0.500254    1.061930  \n",
              "min     -3.515276    0.000000   -0.353229  \n",
              "25%     -0.067734    0.000000   -0.347152  \n",
              "50%      0.039628    0.500000   -0.274007  \n",
              "75%      0.220976    1.000000    0.046539  \n",
              "max      2.098386    1.000000   14.247022  \n",
              "\n",
              "[8 rows x 30 columns]"
            ],
            "text/html": [
              "\n",
              "  <div id=\"df-a70ec688-7ff6-4450-ae9b-71f9f4a39f01\">\n",
              "    <div class=\"colab-df-container\">\n",
              "      <div>\n",
              "<style scoped>\n",
              "    .dataframe tbody tr th:only-of-type {\n",
              "        vertical-align: middle;\n",
              "    }\n",
              "\n",
              "    .dataframe tbody tr th {\n",
              "        vertical-align: top;\n",
              "    }\n",
              "\n",
              "    .dataframe thead th {\n",
              "        text-align: right;\n",
              "    }\n",
              "</style>\n",
              "<table border=\"1\" class=\"dataframe\">\n",
              "  <thead>\n",
              "    <tr style=\"text-align: right;\">\n",
              "      <th></th>\n",
              "      <th>V1</th>\n",
              "      <th>V2</th>\n",
              "      <th>V3</th>\n",
              "      <th>V4</th>\n",
              "      <th>V5</th>\n",
              "      <th>V6</th>\n",
              "      <th>V7</th>\n",
              "      <th>V8</th>\n",
              "      <th>V9</th>\n",
              "      <th>V10</th>\n",
              "      <th>...</th>\n",
              "      <th>V21</th>\n",
              "      <th>V22</th>\n",
              "      <th>V23</th>\n",
              "      <th>V24</th>\n",
              "      <th>V25</th>\n",
              "      <th>V26</th>\n",
              "      <th>V27</th>\n",
              "      <th>V28</th>\n",
              "      <th>Class</th>\n",
              "      <th>std_Amount</th>\n",
              "    </tr>\n",
              "  </thead>\n",
              "  <tbody>\n",
              "    <tr>\n",
              "      <th>count</th>\n",
              "      <td>984.000000</td>\n",
              "      <td>984.000000</td>\n",
              "      <td>984.000000</td>\n",
              "      <td>984.000000</td>\n",
              "      <td>984.000000</td>\n",
              "      <td>984.000000</td>\n",
              "      <td>984.000000</td>\n",
              "      <td>984.000000</td>\n",
              "      <td>984.000000</td>\n",
              "      <td>984.000000</td>\n",
              "      <td>...</td>\n",
              "      <td>984.000000</td>\n",
              "      <td>984.000000</td>\n",
              "      <td>984.000000</td>\n",
              "      <td>984.000000</td>\n",
              "      <td>984.000000</td>\n",
              "      <td>984.000000</td>\n",
              "      <td>984.000000</td>\n",
              "      <td>984.000000</td>\n",
              "      <td>984.000000</td>\n",
              "      <td>984.000000</td>\n",
              "    </tr>\n",
              "    <tr>\n",
              "      <th>mean</th>\n",
              "      <td>-2.459415</td>\n",
              "      <td>1.803748</td>\n",
              "      <td>-3.549424</td>\n",
              "      <td>2.227671</td>\n",
              "      <td>-1.571335</td>\n",
              "      <td>-0.691227</td>\n",
              "      <td>-2.771094</td>\n",
              "      <td>0.275807</td>\n",
              "      <td>-1.282089</td>\n",
              "      <td>-2.823066</td>\n",
              "      <td>...</td>\n",
              "      <td>0.384921</td>\n",
              "      <td>-0.005692</td>\n",
              "      <td>-0.001781</td>\n",
              "      <td>-0.049912</td>\n",
              "      <td>0.013911</td>\n",
              "      <td>0.041718</td>\n",
              "      <td>0.083896</td>\n",
              "      <td>0.039142</td>\n",
              "      <td>0.500000</td>\n",
              "      <td>0.093573</td>\n",
              "    </tr>\n",
              "    <tr>\n",
              "      <th>std</th>\n",
              "      <td>5.485443</td>\n",
              "      <td>3.728165</td>\n",
              "      <td>6.191432</td>\n",
              "      <td>3.223063</td>\n",
              "      <td>4.196810</td>\n",
              "      <td>1.767277</td>\n",
              "      <td>5.857653</td>\n",
              "      <td>4.899236</td>\n",
              "      <td>2.310654</td>\n",
              "      <td>4.542643</td>\n",
              "      <td>...</td>\n",
              "      <td>2.848169</td>\n",
              "      <td>1.187720</td>\n",
              "      <td>1.175547</td>\n",
              "      <td>0.567009</td>\n",
              "      <td>0.667848</td>\n",
              "      <td>0.490911</td>\n",
              "      <td>1.010927</td>\n",
              "      <td>0.443253</td>\n",
              "      <td>0.500254</td>\n",
              "      <td>1.061930</td>\n",
              "    </tr>\n",
              "    <tr>\n",
              "      <th>min</th>\n",
              "      <td>-30.552380</td>\n",
              "      <td>-12.231992</td>\n",
              "      <td>-31.103685</td>\n",
              "      <td>-3.271827</td>\n",
              "      <td>-22.105532</td>\n",
              "      <td>-6.406267</td>\n",
              "      <td>-43.557242</td>\n",
              "      <td>-41.044261</td>\n",
              "      <td>-13.434066</td>\n",
              "      <td>-24.588262</td>\n",
              "      <td>...</td>\n",
              "      <td>-22.797604</td>\n",
              "      <td>-8.887017</td>\n",
              "      <td>-19.254328</td>\n",
              "      <td>-2.100164</td>\n",
              "      <td>-4.781606</td>\n",
              "      <td>-1.224085</td>\n",
              "      <td>-7.263482</td>\n",
              "      <td>-3.515276</td>\n",
              "      <td>0.000000</td>\n",
              "      <td>-0.353229</td>\n",
              "    </tr>\n",
              "    <tr>\n",
              "      <th>25%</th>\n",
              "      <td>-2.990714</td>\n",
              "      <td>-0.124522</td>\n",
              "      <td>-5.113334</td>\n",
              "      <td>-0.153943</td>\n",
              "      <td>-1.797888</td>\n",
              "      <td>-1.594598</td>\n",
              "      <td>-3.103817</td>\n",
              "      <td>-0.204866</td>\n",
              "      <td>-2.270968</td>\n",
              "      <td>-4.572043</td>\n",
              "      <td>...</td>\n",
              "      <td>-0.178412</td>\n",
              "      <td>-0.555502</td>\n",
              "      <td>-0.230605</td>\n",
              "      <td>-0.400890</td>\n",
              "      <td>-0.329888</td>\n",
              "      <td>-0.283785</td>\n",
              "      <td>-0.074847</td>\n",
              "      <td>-0.067734</td>\n",
              "      <td>0.000000</td>\n",
              "      <td>-0.347152</td>\n",
              "    </tr>\n",
              "    <tr>\n",
              "      <th>50%</th>\n",
              "      <td>-0.872488</td>\n",
              "      <td>0.968103</td>\n",
              "      <td>-1.346655</td>\n",
              "      <td>1.226505</td>\n",
              "      <td>-0.416662</td>\n",
              "      <td>-0.648409</td>\n",
              "      <td>-0.714784</td>\n",
              "      <td>0.146644</td>\n",
              "      <td>-0.719050</td>\n",
              "      <td>-0.854750</td>\n",
              "      <td>...</td>\n",
              "      <td>0.152537</td>\n",
              "      <td>0.012441</td>\n",
              "      <td>-0.022406</td>\n",
              "      <td>-0.012235</td>\n",
              "      <td>0.047223</td>\n",
              "      <td>0.005467</td>\n",
              "      <td>0.051557</td>\n",
              "      <td>0.039628</td>\n",
              "      <td>0.500000</td>\n",
              "      <td>-0.274007</td>\n",
              "    </tr>\n",
              "    <tr>\n",
              "      <th>75%</th>\n",
              "      <td>0.911032</td>\n",
              "      <td>2.873538</td>\n",
              "      <td>0.229245</td>\n",
              "      <td>4.229802</td>\n",
              "      <td>0.471174</td>\n",
              "      <td>0.030309</td>\n",
              "      <td>0.270616</td>\n",
              "      <td>0.953747</td>\n",
              "      <td>0.212718</td>\n",
              "      <td>0.016170</td>\n",
              "      <td>...</td>\n",
              "      <td>0.651412</td>\n",
              "      <td>0.585227</td>\n",
              "      <td>0.207016</td>\n",
              "      <td>0.363948</td>\n",
              "      <td>0.380244</td>\n",
              "      <td>0.353986</td>\n",
              "      <td>0.464479</td>\n",
              "      <td>0.220976</td>\n",
              "      <td>1.000000</td>\n",
              "      <td>0.046539</td>\n",
              "    </tr>\n",
              "    <tr>\n",
              "      <th>max</th>\n",
              "      <td>2.388382</td>\n",
              "      <td>22.057729</td>\n",
              "      <td>3.291772</td>\n",
              "      <td>12.114672</td>\n",
              "      <td>11.095089</td>\n",
              "      <td>6.474115</td>\n",
              "      <td>5.802537</td>\n",
              "      <td>20.007208</td>\n",
              "      <td>5.616161</td>\n",
              "      <td>8.405842</td>\n",
              "      <td>...</td>\n",
              "      <td>27.202839</td>\n",
              "      <td>8.361985</td>\n",
              "      <td>5.466230</td>\n",
              "      <td>1.246238</td>\n",
              "      <td>2.208209</td>\n",
              "      <td>2.745261</td>\n",
              "      <td>3.052358</td>\n",
              "      <td>2.098386</td>\n",
              "      <td>1.000000</td>\n",
              "      <td>14.247022</td>\n",
              "    </tr>\n",
              "  </tbody>\n",
              "</table>\n",
              "<p>8 rows × 30 columns</p>\n",
              "</div>\n",
              "      <button class=\"colab-df-convert\" onclick=\"convertToInteractive('df-a70ec688-7ff6-4450-ae9b-71f9f4a39f01')\"\n",
              "              title=\"Convert this dataframe to an interactive table.\"\n",
              "              style=\"display:none;\">\n",
              "        \n",
              "  <svg xmlns=\"http://www.w3.org/2000/svg\" height=\"24px\"viewBox=\"0 0 24 24\"\n",
              "       width=\"24px\">\n",
              "    <path d=\"M0 0h24v24H0V0z\" fill=\"none\"/>\n",
              "    <path d=\"M18.56 5.44l.94 2.06.94-2.06 2.06-.94-2.06-.94-.94-2.06-.94 2.06-2.06.94zm-11 1L8.5 8.5l.94-2.06 2.06-.94-2.06-.94L8.5 2.5l-.94 2.06-2.06.94zm10 10l.94 2.06.94-2.06 2.06-.94-2.06-.94-.94-2.06-.94 2.06-2.06.94z\"/><path d=\"M17.41 7.96l-1.37-1.37c-.4-.4-.92-.59-1.43-.59-.52 0-1.04.2-1.43.59L10.3 9.45l-7.72 7.72c-.78.78-.78 2.05 0 2.83L4 21.41c.39.39.9.59 1.41.59.51 0 1.02-.2 1.41-.59l7.78-7.78 2.81-2.81c.8-.78.8-2.07 0-2.86zM5.41 20L4 18.59l7.72-7.72 1.47 1.35L5.41 20z\"/>\n",
              "  </svg>\n",
              "      </button>\n",
              "      \n",
              "  <style>\n",
              "    .colab-df-container {\n",
              "      display:flex;\n",
              "      flex-wrap:wrap;\n",
              "      gap: 12px;\n",
              "    }\n",
              "\n",
              "    .colab-df-convert {\n",
              "      background-color: #E8F0FE;\n",
              "      border: none;\n",
              "      border-radius: 50%;\n",
              "      cursor: pointer;\n",
              "      display: none;\n",
              "      fill: #1967D2;\n",
              "      height: 32px;\n",
              "      padding: 0 0 0 0;\n",
              "      width: 32px;\n",
              "    }\n",
              "\n",
              "    .colab-df-convert:hover {\n",
              "      background-color: #E2EBFA;\n",
              "      box-shadow: 0px 1px 2px rgba(60, 64, 67, 0.3), 0px 1px 3px 1px rgba(60, 64, 67, 0.15);\n",
              "      fill: #174EA6;\n",
              "    }\n",
              "\n",
              "    [theme=dark] .colab-df-convert {\n",
              "      background-color: #3B4455;\n",
              "      fill: #D2E3FC;\n",
              "    }\n",
              "\n",
              "    [theme=dark] .colab-df-convert:hover {\n",
              "      background-color: #434B5C;\n",
              "      box-shadow: 0px 1px 3px 1px rgba(0, 0, 0, 0.15);\n",
              "      filter: drop-shadow(0px 1px 2px rgba(0, 0, 0, 0.3));\n",
              "      fill: #FFFFFF;\n",
              "    }\n",
              "  </style>\n",
              "\n",
              "      <script>\n",
              "        const buttonEl =\n",
              "          document.querySelector('#df-a70ec688-7ff6-4450-ae9b-71f9f4a39f01 button.colab-df-convert');\n",
              "        buttonEl.style.display =\n",
              "          google.colab.kernel.accessAllowed ? 'block' : 'none';\n",
              "\n",
              "        async function convertToInteractive(key) {\n",
              "          const element = document.querySelector('#df-a70ec688-7ff6-4450-ae9b-71f9f4a39f01');\n",
              "          const dataTable =\n",
              "            await google.colab.kernel.invokeFunction('convertToInteractive',\n",
              "                                                     [key], {});\n",
              "          if (!dataTable) return;\n",
              "\n",
              "          const docLinkHtml = 'Like what you see? Visit the ' +\n",
              "            '<a target=\"_blank\" href=https://colab.research.google.com/notebooks/data_table.ipynb>data table notebook</a>'\n",
              "            + ' to learn more about interactive tables.';\n",
              "          element.innerHTML = '';\n",
              "          dataTable['output_type'] = 'display_data';\n",
              "          await google.colab.output.renderOutput(dataTable, element);\n",
              "          const docLink = document.createElement('div');\n",
              "          docLink.innerHTML = docLinkHtml;\n",
              "          element.appendChild(docLink);\n",
              "        }\n",
              "      </script>\n",
              "    </div>\n",
              "  </div>\n",
              "  "
            ]
          },
          "metadata": {},
          "execution_count": 41
        }
      ]
    },
    {
      "cell_type": "markdown",
      "source": [
        "##Model XGBoost"
      ],
      "metadata": {
        "id": "SL61SX2sTC3i"
      }
    },
    {
      "cell_type": "code",
      "source": [
        "from sklearn.model_selection import train_test_split\n",
        "\n",
        "X_train, X_test, y_train, y_test = train_test_split(X_under, Y_under, test_size=0.2, random_state=1)"
      ],
      "metadata": {
        "id": "YcHwfn3jTFoH"
      },
      "execution_count": 42,
      "outputs": []
    },
    {
      "cell_type": "code",
      "source": [
        "from xgboost import XGBClassifier\n",
        "from sklearn.neural_network import MLPClassifier\n",
        "from sklearn import metrics\n",
        "from sklearn.metrics import confusion_matrix\n",
        "from sklearn.metrics import roc_curve\n",
        "from sklearn.metrics import roc_auc_score\n",
        "from sklearn.metrics import auc\n",
        "from sklearn.metrics import precision_recall_curve"
      ],
      "metadata": {
        "id": "2HE9tpswTJD8"
      },
      "execution_count": 43,
      "outputs": []
    },
    {
      "cell_type": "code",
      "source": [
        "model = XGBClassifier(random_state=2)\n",
        "xgb = model.fit(X_train, y_train)"
      ],
      "metadata": {
        "id": "YrJDDUV7Tkan"
      },
      "execution_count": 44,
      "outputs": []
    },
    {
      "cell_type": "code",
      "source": [
        "y_pred_xgb = model.predict(X_test) "
      ],
      "metadata": {
        "id": "e-dbxmI1TtoX"
      },
      "execution_count": 46,
      "outputs": []
    },
    {
      "cell_type": "code",
      "source": [
        "#scores\n",
        "print(\"Accuracy XGB:\",metrics.accuracy_score(y_test, y_pred_xgb))\n",
        "print(\"Precision XGB:\",metrics.precision_score(y_test, y_pred_xgb))\n",
        "print(\"Recall XGB:\",metrics.recall_score(y_test, y_pred_xgb))\n",
        "print(\"F1 Score XGB:\",metrics.f1_score(y_test, y_pred_xgb))"
      ],
      "metadata": {
        "colab": {
          "base_uri": "https://localhost:8080/"
        },
        "id": "XVdS217dT_Qw",
        "outputId": "5e0cc14e-a67d-4ac9-914e-95b2320096ff"
      },
      "execution_count": 48,
      "outputs": [
        {
          "output_type": "stream",
          "name": "stdout",
          "text": [
            "Accuracy XGB: 0.9425675675675675\n",
            "Precision XGB: 0.9595959595959596\n",
            "Recall XGB: 0.8796296296296297\n",
            "F1 Score XGB: 0.9178743961352657\n"
          ]
        }
      ]
    },
    {
      "cell_type": "code",
      "source": [
        "#CM matrix\n",
        "matrix_xgb = confusion_matrix(y_test, y_pred_xgb)\n",
        "cm_xgb = pd.DataFrame(matrix_xgb, index=['not_fraud', 'fraud'], columns=['not_fraud', 'fraud'])\n",
        "\n",
        "sns.heatmap(cm_xgb, annot=True, cbar=None, cmap=\"Blues\", fmt = 'g')\n",
        "plt.title(\"Confusion Matrix XGBoost\"), plt.tight_layout()\n",
        "plt.ylabel(\"True Class\"), plt.xlabel(\"Predicted Class\")\n",
        "plt.show()"
      ],
      "metadata": {
        "colab": {
          "base_uri": "https://localhost:8080/",
          "height": 311
        },
        "id": "A3fOcaE2ULDx",
        "outputId": "b5f5f098-fe22-409a-a8e7-a7a70fb2703b"
      },
      "execution_count": 49,
      "outputs": [
        {
          "output_type": "display_data",
          "data": {
            "text/plain": [
              "<Figure size 432x288 with 1 Axes>"
            ],
            "image/png": "[encoded data removed]"
          },
          "metadata": {
            "needs_background": "light"
          }
        }
      ]
    },
    {
      "cell_type": "code",
      "source": [
        "#AUC\n",
        "y_pred_xgb_proba = model.predict_proba(X_test)[::,1]\n",
        "fpr_xgb, tpr_xgb, _ = metrics.roc_curve(y_test,  y_pred_xgb_proba)\n",
        "auc_xgb = metrics.roc_auc_score(y_test, y_pred_xgb_proba)\n",
        "print(\"AUC XGBoost :\", auc_xgb)"
      ],
      "metadata": {
        "colab": {
          "base_uri": "https://localhost:8080/"
        },
        "id": "xaWf4i2-UwAG",
        "outputId": "3b15e621-bc34-4d24-f530-2f5be669e4b4"
      },
      "execution_count": 51,
      "outputs": [
        {
          "output_type": "stream",
          "name": "stdout",
          "text": [
            "AUC XGBoost : 0.9767533490937746\n"
          ]
        }
      ]
    },
    {
      "cell_type": "code",
      "source": [
        "#ROC\n",
        "plt.plot(fpr_xgb,tpr_xgb,label=\"XGBoost, auc={:.3f})\".format(auc_xgb))\n",
        "plt.plot([0, 1], [0, 1], 'k--')\n",
        "plt.xlabel('False positive rate')\n",
        "plt.ylabel('True positive rate')\n",
        "plt.title('XGBoost ROC curve')\n",
        "plt.legend(loc=4)\n",
        "plt.show()"
      ],
      "metadata": {
        "colab": {
          "base_uri": "https://localhost:8080/",
          "height": 295
        },
        "id": "u4MEob-ZU12-",
        "outputId": "0f260f3f-c101-49a4-946a-8f3b220ad50c"
      },
      "execution_count": 52,
      "outputs": [
        {
          "output_type": "display_data",
          "data": {
            "text/plain": [
              "<Figure size 432x288 with 1 Axes>"
            ],
            "image/png": "[encoded data removed]"
          },
          "metadata": {
            "needs_background": "light"
          }
        }
      ]
    },
    {
      "cell_type": "code",
      "source": [
        "xgb_precision, xgb_recall, _ = precision_recall_curve(y_test, y_pred_xgb_proba)\n",
        "no_skill = len(y_test[y_test==1]) / len(y_test)\n",
        "plt.plot([0, 1], [no_skill, no_skill], linestyle='--', color='black', label='No Skill')\n",
        "plt.plot(xgb_recall, xgb_precision, color='orange', label='XGB')\n",
        "plt.xlabel('Recall')\n",
        "plt.ylabel('Precision')\n",
        "plt.title('Precision-Recall curve')\n",
        "plt.legend()\n",
        "plt.show()"
      ],
      "metadata": {
        "colab": {
          "base_uri": "https://localhost:8080/",
          "height": 295
        },
        "id": "Z4MmAiuYU5ZN",
        "outputId": "6f2ab6f5-cc28-435d-e7f7-1850c92de97c"
      },
      "execution_count": 53,
      "outputs": [
        {
          "output_type": "display_data",
          "data": {
            "text/plain": [
              "<Figure size 432x288 with 1 Axes>"
            ],
            "image/png": "[encoded data removed]"
          },
          "metadata": {
            "needs_background": "light"
          }
        }
      ]
    },
    {
      "cell_type": "markdown",
      "source": [
        "##Model Catboost"
      ],
      "metadata": {
        "id": "-6BD65dyVWao"
      }
    },
    {
      "cell_type": "code",
      "source": [
        "!pip3 install catboost"
      ],
      "metadata": {
        "id": "tOPKTzVKVeC-"
      },
      "execution_count": null,
      "outputs": []
    },
    {
      "cell_type": "code",
      "source": [
        "from catboost import CatBoostClassifier\n",
        "\n",
        "model2 = CatBoostClassifier()\n",
        "cat_boost = model2.fit(X_train, y_train)"
      ],
      "metadata": {
        "colab": {
          "base_uri": "https://localhost:8080/"
        },
        "id": "ZoG2wD0aVYmI",
        "outputId": "414fd2de-b579-44dd-b590-00b48ea9fa9e"
      },
      "execution_count": 57,
      "outputs": [
        {
          "output_type": "stream",
          "name": "stdout",
          "text": [
            "Learning rate set to 0.011057\n",
            "0:\tlearn: 0.6757851\ttotal: 70.6ms\tremaining: 1m 10s\n",
            "1:\tlearn: 0.6592062\ttotal: 87.6ms\tremaining: 43.7s\n",
            "2:\tlearn: 0.6428990\ttotal: 109ms\tremaining: 36.1s\n",
            "3:\tlearn: 0.6283057\ttotal: 129ms\tremaining: 32s\n",
            "4:\tlearn: 0.6144067\ttotal: 154ms\tremaining: 30.6s\n",
            "5:\tlearn: 0.6002233\ttotal: 170ms\tremaining: 28.2s\n",
            "6:\tlearn: 0.5863195\ttotal: 191ms\tremaining: 27.1s\n",
            "7:\tlearn: 0.5722370\ttotal: 215ms\tremaining: 26.6s\n",
            "8:\tlearn: 0.5603900\ttotal: 232ms\tremaining: 25.6s\n",
            "9:\tlearn: 0.5485427\ttotal: 249ms\tremaining: 24.6s\n",
            "10:\tlearn: 0.5349654\ttotal: 277ms\tremaining: 24.9s\n",
            "11:\tlearn: 0.5212155\ttotal: 297ms\tremaining: 24.5s\n",
            "12:\tlearn: 0.5098151\ttotal: 314ms\tremaining: 23.8s\n",
            "13:\tlearn: 0.4986751\ttotal: 333ms\tremaining: 23.5s\n",
            "14:\tlearn: 0.4876533\ttotal: 351ms\tremaining: 23.1s\n",
            "15:\tlearn: 0.4782168\ttotal: 371ms\tremaining: 22.8s\n",
            "16:\tlearn: 0.4679718\ttotal: 390ms\tremaining: 22.6s\n",
            "17:\tlearn: 0.4597026\ttotal: 410ms\tremaining: 22.4s\n",
            "18:\tlearn: 0.4509041\ttotal: 442ms\tremaining: 22.8s\n",
            "19:\tlearn: 0.4405947\ttotal: 460ms\tremaining: 22.5s\n",
            "20:\tlearn: 0.4327489\ttotal: 510ms\tremaining: 23.8s\n",
            "21:\tlearn: 0.4250249\ttotal: 529ms\tremaining: 23.5s\n",
            "22:\tlearn: 0.4155663\ttotal: 549ms\tremaining: 23.3s\n",
            "23:\tlearn: 0.4058649\ttotal: 566ms\tremaining: 23s\n",
            "24:\tlearn: 0.3985446\ttotal: 581ms\tremaining: 22.7s\n",
            "25:\tlearn: 0.3908061\ttotal: 601ms\tremaining: 22.5s\n",
            "26:\tlearn: 0.3824580\ttotal: 616ms\tremaining: 22.2s\n",
            "27:\tlearn: 0.3755394\ttotal: 637ms\tremaining: 22.1s\n",
            "28:\tlearn: 0.3688843\ttotal: 655ms\tremaining: 21.9s\n",
            "29:\tlearn: 0.3615877\ttotal: 675ms\tremaining: 21.8s\n",
            "30:\tlearn: 0.3539946\ttotal: 693ms\tremaining: 21.6s\n",
            "31:\tlearn: 0.3476453\ttotal: 708ms\tremaining: 21.4s\n",
            "32:\tlearn: 0.3419915\ttotal: 726ms\tremaining: 21.3s\n",
            "33:\tlearn: 0.3363383\ttotal: 750ms\tremaining: 21.3s\n",
            "34:\tlearn: 0.3304963\ttotal: 783ms\tremaining: 21.6s\n",
            "35:\tlearn: 0.3247553\ttotal: 806ms\tremaining: 21.6s\n",
            "36:\tlearn: 0.3181898\ttotal: 834ms\tremaining: 21.7s\n",
            "37:\tlearn: 0.3136075\ttotal: 852ms\tremaining: 21.6s\n",
            "38:\tlearn: 0.3081365\ttotal: 875ms\tremaining: 21.6s\n",
            "39:\tlearn: 0.3033285\ttotal: 898ms\tremaining: 21.6s\n",
            "40:\tlearn: 0.2976485\ttotal: 922ms\tremaining: 21.6s\n",
            "41:\tlearn: 0.2925149\ttotal: 949ms\tremaining: 21.6s\n",
            "42:\tlearn: 0.2882390\ttotal: 964ms\tremaining: 21.5s\n",
            "43:\tlearn: 0.2838872\ttotal: 977ms\tremaining: 21.2s\n",
            "44:\tlearn: 0.2782428\ttotal: 991ms\tremaining: 21s\n",
            "45:\tlearn: 0.2735344\ttotal: 1.02s\tremaining: 21.2s\n",
            "46:\tlearn: 0.2687397\ttotal: 1.04s\tremaining: 21.1s\n",
            "47:\tlearn: 0.2655471\ttotal: 1.05s\tremaining: 20.9s\n",
            "48:\tlearn: 0.2616962\ttotal: 1.06s\tremaining: 20.6s\n",
            "49:\tlearn: 0.2575795\ttotal: 1.07s\tremaining: 20.3s\n",
            "50:\tlearn: 0.2540352\ttotal: 1.09s\tremaining: 20.3s\n",
            "51:\tlearn: 0.2499685\ttotal: 1.11s\tremaining: 20.2s\n",
            "52:\tlearn: 0.2460673\ttotal: 1.12s\tremaining: 20.1s\n",
            "53:\tlearn: 0.2429749\ttotal: 1.16s\tremaining: 20.3s\n",
            "54:\tlearn: 0.2393235\ttotal: 1.18s\tremaining: 20.2s\n",
            "55:\tlearn: 0.2365149\ttotal: 1.21s\tremaining: 20.3s\n",
            "56:\tlearn: 0.2334095\ttotal: 1.23s\tremaining: 20.3s\n",
            "57:\tlearn: 0.2306669\ttotal: 1.25s\tremaining: 20.3s\n",
            "58:\tlearn: 0.2278027\ttotal: 1.27s\tremaining: 20.2s\n",
            "59:\tlearn: 0.2245248\ttotal: 1.3s\tremaining: 20.4s\n",
            "60:\tlearn: 0.2214538\ttotal: 1.32s\tremaining: 20.4s\n",
            "61:\tlearn: 0.2185763\ttotal: 1.35s\tremaining: 20.4s\n",
            "62:\tlearn: 0.2154816\ttotal: 1.37s\tremaining: 20.4s\n",
            "63:\tlearn: 0.2121920\ttotal: 1.39s\tremaining: 20.4s\n",
            "64:\tlearn: 0.2098970\ttotal: 1.41s\tremaining: 20.2s\n",
            "65:\tlearn: 0.2073536\ttotal: 1.43s\tremaining: 20.3s\n",
            "66:\tlearn: 0.2048679\ttotal: 1.47s\tremaining: 20.5s\n",
            "67:\tlearn: 0.2026891\ttotal: 1.49s\tremaining: 20.4s\n",
            "68:\tlearn: 0.2004650\ttotal: 1.52s\tremaining: 20.6s\n",
            "69:\tlearn: 0.1982152\ttotal: 1.55s\tremaining: 20.6s\n",
            "70:\tlearn: 0.1965936\ttotal: 1.57s\tremaining: 20.6s\n",
            "71:\tlearn: 0.1948414\ttotal: 1.61s\tremaining: 20.8s\n",
            "72:\tlearn: 0.1930234\ttotal: 1.64s\tremaining: 20.9s\n",
            "73:\tlearn: 0.1904542\ttotal: 1.68s\tremaining: 21s\n",
            "74:\tlearn: 0.1878940\ttotal: 1.71s\tremaining: 21.1s\n",
            "75:\tlearn: 0.1860587\ttotal: 1.73s\tremaining: 21s\n",
            "76:\tlearn: 0.1842292\ttotal: 1.77s\tremaining: 21.2s\n",
            "77:\tlearn: 0.1822984\ttotal: 1.78s\tremaining: 21.1s\n",
            "78:\tlearn: 0.1802267\ttotal: 1.8s\tremaining: 21s\n",
            "79:\tlearn: 0.1778463\ttotal: 1.82s\tremaining: 20.9s\n",
            "80:\tlearn: 0.1763560\ttotal: 1.84s\tremaining: 20.9s\n",
            "81:\tlearn: 0.1741663\ttotal: 1.86s\tremaining: 20.8s\n",
            "82:\tlearn: 0.1727928\ttotal: 1.89s\tremaining: 20.8s\n",
            "83:\tlearn: 0.1709482\ttotal: 1.91s\tremaining: 20.8s\n",
            "84:\tlearn: 0.1685202\ttotal: 1.93s\tremaining: 20.8s\n",
            "85:\tlearn: 0.1670237\ttotal: 1.96s\tremaining: 20.8s\n",
            "86:\tlearn: 0.1651092\ttotal: 1.98s\tremaining: 20.8s\n",
            "87:\tlearn: 0.1636891\ttotal: 2.01s\tremaining: 20.9s\n",
            "88:\tlearn: 0.1626312\ttotal: 2.04s\tremaining: 20.9s\n",
            "89:\tlearn: 0.1613895\ttotal: 2.08s\tremaining: 21.1s\n",
            "90:\tlearn: 0.1602150\ttotal: 2.12s\tremaining: 21.2s\n",
            "91:\tlearn: 0.1586656\ttotal: 2.15s\tremaining: 21.2s\n",
            "92:\tlearn: 0.1574329\ttotal: 2.17s\tremaining: 21.2s\n",
            "93:\tlearn: 0.1560276\ttotal: 2.2s\tremaining: 21.2s\n",
            "94:\tlearn: 0.1546097\ttotal: 2.22s\tremaining: 21.2s\n",
            "95:\tlearn: 0.1534933\ttotal: 2.25s\tremaining: 21.2s\n",
            "96:\tlearn: 0.1525889\ttotal: 2.28s\tremaining: 21.2s\n",
            "97:\tlearn: 0.1514537\ttotal: 2.3s\tremaining: 21.2s\n",
            "98:\tlearn: 0.1501899\ttotal: 2.33s\tremaining: 21.2s\n",
            "99:\tlearn: 0.1490399\ttotal: 2.35s\tremaining: 21.2s\n",
            "100:\tlearn: 0.1478473\ttotal: 2.38s\tremaining: 21.2s\n",
            "101:\tlearn: 0.1470010\ttotal: 2.4s\tremaining: 21.2s\n",
            "102:\tlearn: 0.1459104\ttotal: 2.41s\tremaining: 21s\n",
            "103:\tlearn: 0.1446895\ttotal: 2.43s\tremaining: 20.9s\n",
            "104:\tlearn: 0.1435833\ttotal: 2.44s\tremaining: 20.8s\n",
            "105:\tlearn: 0.1423258\ttotal: 2.45s\tremaining: 20.7s\n",
            "106:\tlearn: 0.1411748\ttotal: 2.46s\tremaining: 20.5s\n",
            "107:\tlearn: 0.1399124\ttotal: 2.49s\tremaining: 20.5s\n",
            "108:\tlearn: 0.1390580\ttotal: 2.51s\tremaining: 20.5s\n",
            "109:\tlearn: 0.1378868\ttotal: 2.52s\tremaining: 20.4s\n",
            "110:\tlearn: 0.1368293\ttotal: 2.55s\tremaining: 20.4s\n",
            "111:\tlearn: 0.1361027\ttotal: 2.57s\tremaining: 20.4s\n",
            "112:\tlearn: 0.1352447\ttotal: 2.59s\tremaining: 20.3s\n",
            "113:\tlearn: 0.1342599\ttotal: 2.6s\tremaining: 20.2s\n",
            "114:\tlearn: 0.1332009\ttotal: 2.62s\tremaining: 20.1s\n",
            "115:\tlearn: 0.1323692\ttotal: 2.63s\tremaining: 20.1s\n",
            "116:\tlearn: 0.1314490\ttotal: 2.65s\tremaining: 20s\n",
            "117:\tlearn: 0.1306348\ttotal: 2.67s\tremaining: 20s\n",
            "118:\tlearn: 0.1300195\ttotal: 2.69s\tremaining: 19.9s\n",
            "119:\tlearn: 0.1291553\ttotal: 2.71s\tremaining: 19.9s\n",
            "120:\tlearn: 0.1284221\ttotal: 2.73s\tremaining: 19.8s\n",
            "121:\tlearn: 0.1276752\ttotal: 2.74s\tremaining: 19.7s\n",
            "122:\tlearn: 0.1268198\ttotal: 2.75s\tremaining: 19.6s\n",
            "123:\tlearn: 0.1258641\ttotal: 2.76s\tremaining: 19.5s\n",
            "124:\tlearn: 0.1249270\ttotal: 2.78s\tremaining: 19.5s\n",
            "125:\tlearn: 0.1240021\ttotal: 2.8s\tremaining: 19.4s\n",
            "126:\tlearn: 0.1232678\ttotal: 2.82s\tremaining: 19.4s\n",
            "127:\tlearn: 0.1225428\ttotal: 2.85s\tremaining: 19.4s\n",
            "128:\tlearn: 0.1218582\ttotal: 2.87s\tremaining: 19.4s\n",
            "129:\tlearn: 0.1210859\ttotal: 2.92s\tremaining: 19.5s\n",
            "130:\tlearn: 0.1202129\ttotal: 2.94s\tremaining: 19.5s\n",
            "131:\tlearn: 0.1196724\ttotal: 2.97s\tremaining: 19.5s\n",
            "132:\tlearn: 0.1190131\ttotal: 3s\tremaining: 19.5s\n",
            "133:\tlearn: 0.1182558\ttotal: 3.03s\tremaining: 19.6s\n",
            "134:\tlearn: 0.1175813\ttotal: 3.04s\tremaining: 19.5s\n",
            "135:\tlearn: 0.1167674\ttotal: 3.06s\tremaining: 19.5s\n",
            "136:\tlearn: 0.1161578\ttotal: 3.07s\tremaining: 19.4s\n",
            "137:\tlearn: 0.1152962\ttotal: 3.08s\tremaining: 19.3s\n",
            "138:\tlearn: 0.1147189\ttotal: 3.1s\tremaining: 19.2s\n",
            "139:\tlearn: 0.1138528\ttotal: 3.11s\tremaining: 19.1s\n",
            "140:\tlearn: 0.1131822\ttotal: 3.13s\tremaining: 19.1s\n",
            "141:\tlearn: 0.1126022\ttotal: 3.16s\tremaining: 19.1s\n",
            "142:\tlearn: 0.1119092\ttotal: 3.18s\tremaining: 19s\n",
            "143:\tlearn: 0.1113989\ttotal: 3.19s\tremaining: 19s\n",
            "144:\tlearn: 0.1108134\ttotal: 3.21s\tremaining: 18.9s\n",
            "145:\tlearn: 0.1102527\ttotal: 3.22s\tremaining: 18.8s\n",
            "146:\tlearn: 0.1097997\ttotal: 3.23s\tremaining: 18.7s\n",
            "147:\tlearn: 0.1092229\ttotal: 3.24s\tremaining: 18.6s\n",
            "148:\tlearn: 0.1089026\ttotal: 3.25s\tremaining: 18.5s\n",
            "149:\tlearn: 0.1083718\ttotal: 3.28s\tremaining: 18.6s\n",
            "150:\tlearn: 0.1080620\ttotal: 3.31s\tremaining: 18.6s\n",
            "151:\tlearn: 0.1072727\ttotal: 3.34s\tremaining: 18.6s\n",
            "152:\tlearn: 0.1067705\ttotal: 3.36s\tremaining: 18.6s\n",
            "153:\tlearn: 0.1061226\ttotal: 3.41s\tremaining: 18.7s\n",
            "154:\tlearn: 0.1057300\ttotal: 3.43s\tremaining: 18.7s\n",
            "155:\tlearn: 0.1054492\ttotal: 3.44s\tremaining: 18.6s\n",
            "156:\tlearn: 0.1050380\ttotal: 3.46s\tremaining: 18.6s\n",
            "157:\tlearn: 0.1046220\ttotal: 3.49s\tremaining: 18.6s\n",
            "158:\tlearn: 0.1041714\ttotal: 3.5s\tremaining: 18.5s\n",
            "159:\tlearn: 0.1036102\ttotal: 3.52s\tremaining: 18.5s\n",
            "160:\tlearn: 0.1034344\ttotal: 3.53s\tremaining: 18.4s\n",
            "161:\tlearn: 0.1030345\ttotal: 3.55s\tremaining: 18.4s\n",
            "162:\tlearn: 0.1026483\ttotal: 3.57s\tremaining: 18.3s\n",
            "163:\tlearn: 0.1022486\ttotal: 3.59s\tremaining: 18.3s\n",
            "164:\tlearn: 0.1017743\ttotal: 3.6s\tremaining: 18.2s\n",
            "165:\tlearn: 0.1012996\ttotal: 3.62s\tremaining: 18.2s\n",
            "166:\tlearn: 0.1007283\ttotal: 3.63s\tremaining: 18.1s\n",
            "167:\tlearn: 0.1003002\ttotal: 3.64s\tremaining: 18s\n",
            "168:\tlearn: 0.0998389\ttotal: 3.65s\tremaining: 18s\n",
            "169:\tlearn: 0.0993217\ttotal: 3.66s\tremaining: 17.9s\n",
            "170:\tlearn: 0.0989165\ttotal: 3.67s\tremaining: 17.8s\n",
            "171:\tlearn: 0.0983291\ttotal: 3.68s\tremaining: 17.7s\n",
            "172:\tlearn: 0.0979364\ttotal: 3.7s\tremaining: 17.7s\n",
            "173:\tlearn: 0.0976521\ttotal: 3.73s\tremaining: 17.7s\n",
            "174:\tlearn: 0.0970303\ttotal: 3.74s\tremaining: 17.6s\n",
            "175:\tlearn: 0.0966205\ttotal: 3.75s\tremaining: 17.6s\n",
            "176:\tlearn: 0.0962338\ttotal: 3.76s\tremaining: 17.5s\n",
            "177:\tlearn: 0.0959200\ttotal: 3.77s\tremaining: 17.4s\n",
            "178:\tlearn: 0.0954803\ttotal: 3.78s\tremaining: 17.3s\n",
            "179:\tlearn: 0.0949553\ttotal: 3.78s\tremaining: 17.2s\n",
            "180:\tlearn: 0.0945990\ttotal: 3.8s\tremaining: 17.2s\n",
            "181:\tlearn: 0.0942116\ttotal: 3.82s\tremaining: 17.2s\n",
            "182:\tlearn: 0.0939090\ttotal: 3.84s\tremaining: 17.1s\n",
            "183:\tlearn: 0.0936157\ttotal: 3.85s\tremaining: 17.1s\n",
            "184:\tlearn: 0.0931010\ttotal: 3.87s\tremaining: 17s\n",
            "185:\tlearn: 0.0924776\ttotal: 3.88s\tremaining: 17s\n",
            "186:\tlearn: 0.0922279\ttotal: 3.89s\tremaining: 16.9s\n",
            "187:\tlearn: 0.0919747\ttotal: 3.91s\tremaining: 16.9s\n",
            "188:\tlearn: 0.0917190\ttotal: 3.93s\tremaining: 16.9s\n",
            "189:\tlearn: 0.0913837\ttotal: 3.95s\tremaining: 16.8s\n",
            "190:\tlearn: 0.0910912\ttotal: 3.98s\tremaining: 16.8s\n",
            "191:\tlearn: 0.0906827\ttotal: 4s\tremaining: 16.8s\n",
            "192:\tlearn: 0.0902791\ttotal: 4.02s\tremaining: 16.8s\n",
            "193:\tlearn: 0.0900114\ttotal: 4.04s\tremaining: 16.8s\n",
            "194:\tlearn: 0.0896622\ttotal: 4.06s\tremaining: 16.7s\n",
            "195:\tlearn: 0.0892328\ttotal: 4.07s\tremaining: 16.7s\n",
            "196:\tlearn: 0.0889545\ttotal: 4.09s\tremaining: 16.7s\n",
            "197:\tlearn: 0.0886748\ttotal: 4.12s\tremaining: 16.7s\n",
            "198:\tlearn: 0.0883712\ttotal: 4.13s\tremaining: 16.6s\n",
            "199:\tlearn: 0.0880825\ttotal: 4.14s\tremaining: 16.6s\n",
            "200:\tlearn: 0.0877786\ttotal: 4.15s\tremaining: 16.5s\n",
            "201:\tlearn: 0.0874201\ttotal: 4.16s\tremaining: 16.4s\n",
            "202:\tlearn: 0.0869394\ttotal: 4.17s\tremaining: 16.4s\n",
            "203:\tlearn: 0.0865046\ttotal: 4.18s\tremaining: 16.3s\n",
            "204:\tlearn: 0.0859580\ttotal: 4.19s\tremaining: 16.2s\n",
            "205:\tlearn: 0.0855051\ttotal: 4.2s\tremaining: 16.2s\n",
            "206:\tlearn: 0.0851137\ttotal: 4.22s\tremaining: 16.2s\n",
            "207:\tlearn: 0.0848893\ttotal: 4.22s\tremaining: 16.1s\n",
            "208:\tlearn: 0.0844769\ttotal: 4.23s\tremaining: 16s\n",
            "209:\tlearn: 0.0841638\ttotal: 4.24s\tremaining: 16s\n",
            "210:\tlearn: 0.0838346\ttotal: 4.25s\tremaining: 15.9s\n",
            "211:\tlearn: 0.0836860\ttotal: 4.27s\tremaining: 15.9s\n",
            "212:\tlearn: 0.0833824\ttotal: 4.28s\tremaining: 15.8s\n",
            "213:\tlearn: 0.0831867\ttotal: 4.29s\tremaining: 15.7s\n",
            "214:\tlearn: 0.0826455\ttotal: 4.3s\tremaining: 15.7s\n",
            "215:\tlearn: 0.0824616\ttotal: 4.31s\tremaining: 15.6s\n",
            "216:\tlearn: 0.0822957\ttotal: 4.33s\tremaining: 15.6s\n",
            "217:\tlearn: 0.0819409\ttotal: 4.34s\tremaining: 15.6s\n",
            "218:\tlearn: 0.0817083\ttotal: 4.36s\tremaining: 15.5s\n",
            "219:\tlearn: 0.0814459\ttotal: 4.36s\tremaining: 15.5s\n",
            "220:\tlearn: 0.0811134\ttotal: 4.38s\tremaining: 15.4s\n",
            "221:\tlearn: 0.0808375\ttotal: 4.41s\tremaining: 15.5s\n",
            "222:\tlearn: 0.0805791\ttotal: 4.45s\tremaining: 15.5s\n",
            "223:\tlearn: 0.0802764\ttotal: 4.48s\tremaining: 15.5s\n",
            "224:\tlearn: 0.0800534\ttotal: 4.5s\tremaining: 15.5s\n",
            "225:\tlearn: 0.0798581\ttotal: 4.53s\tremaining: 15.5s\n",
            "226:\tlearn: 0.0795681\ttotal: 4.55s\tremaining: 15.5s\n",
            "227:\tlearn: 0.0792930\ttotal: 4.58s\tremaining: 15.5s\n",
            "228:\tlearn: 0.0790852\ttotal: 4.62s\tremaining: 15.6s\n",
            "229:\tlearn: 0.0786715\ttotal: 4.64s\tremaining: 15.5s\n",
            "230:\tlearn: 0.0782486\ttotal: 4.67s\tremaining: 15.5s\n",
            "231:\tlearn: 0.0779951\ttotal: 4.7s\tremaining: 15.6s\n",
            "232:\tlearn: 0.0776438\ttotal: 4.73s\tremaining: 15.6s\n",
            "233:\tlearn: 0.0774966\ttotal: 4.77s\tremaining: 15.6s\n",
            "234:\tlearn: 0.0772447\ttotal: 4.8s\tremaining: 15.6s\n",
            "235:\tlearn: 0.0768382\ttotal: 4.83s\tremaining: 15.6s\n",
            "236:\tlearn: 0.0767319\ttotal: 4.86s\tremaining: 15.7s\n",
            "237:\tlearn: 0.0765241\ttotal: 4.89s\tremaining: 15.6s\n",
            "238:\tlearn: 0.0761353\ttotal: 4.91s\tremaining: 15.6s\n",
            "239:\tlearn: 0.0759405\ttotal: 4.95s\tremaining: 15.7s\n",
            "240:\tlearn: 0.0757895\ttotal: 4.97s\tremaining: 15.7s\n",
            "241:\tlearn: 0.0755488\ttotal: 5.01s\tremaining: 15.7s\n",
            "242:\tlearn: 0.0752987\ttotal: 5.02s\tremaining: 15.6s\n",
            "243:\tlearn: 0.0749823\ttotal: 5.03s\tremaining: 15.6s\n",
            "244:\tlearn: 0.0747496\ttotal: 5.04s\tremaining: 15.5s\n",
            "245:\tlearn: 0.0744706\ttotal: 5.05s\tremaining: 15.5s\n",
            "246:\tlearn: 0.0741255\ttotal: 5.06s\tremaining: 15.4s\n",
            "247:\tlearn: 0.0738705\ttotal: 5.07s\tremaining: 15.4s\n",
            "248:\tlearn: 0.0735384\ttotal: 5.08s\tremaining: 15.3s\n",
            "249:\tlearn: 0.0733867\ttotal: 5.11s\tremaining: 15.3s\n",
            "250:\tlearn: 0.0732450\ttotal: 5.14s\tremaining: 15.3s\n",
            "251:\tlearn: 0.0730979\ttotal: 5.16s\tremaining: 15.3s\n",
            "252:\tlearn: 0.0729134\ttotal: 5.18s\tremaining: 15.3s\n",
            "253:\tlearn: 0.0726294\ttotal: 5.2s\tremaining: 15.3s\n",
            "254:\tlearn: 0.0724259\ttotal: 5.22s\tremaining: 15.2s\n",
            "255:\tlearn: 0.0721764\ttotal: 5.23s\tremaining: 15.2s\n",
            "256:\tlearn: 0.0720050\ttotal: 5.25s\tremaining: 15.2s\n",
            "257:\tlearn: 0.0717937\ttotal: 5.27s\tremaining: 15.2s\n",
            "258:\tlearn: 0.0716296\ttotal: 5.29s\tremaining: 15.1s\n",
            "259:\tlearn: 0.0713827\ttotal: 5.3s\tremaining: 15.1s\n",
            "260:\tlearn: 0.0711481\ttotal: 5.32s\tremaining: 15.1s\n",
            "261:\tlearn: 0.0710033\ttotal: 5.33s\tremaining: 15s\n",
            "262:\tlearn: 0.0706900\ttotal: 5.34s\tremaining: 15s\n",
            "263:\tlearn: 0.0704706\ttotal: 5.35s\tremaining: 14.9s\n",
            "264:\tlearn: 0.0702654\ttotal: 5.36s\tremaining: 14.9s\n",
            "265:\tlearn: 0.0701233\ttotal: 5.37s\tremaining: 14.8s\n",
            "266:\tlearn: 0.0699436\ttotal: 5.38s\tremaining: 14.8s\n",
            "267:\tlearn: 0.0698230\ttotal: 5.39s\tremaining: 14.7s\n",
            "268:\tlearn: 0.0696051\ttotal: 5.4s\tremaining: 14.7s\n",
            "269:\tlearn: 0.0693084\ttotal: 5.42s\tremaining: 14.7s\n",
            "270:\tlearn: 0.0691501\ttotal: 5.44s\tremaining: 14.6s\n",
            "271:\tlearn: 0.0690842\ttotal: 5.47s\tremaining: 14.7s\n",
            "272:\tlearn: 0.0687816\ttotal: 5.5s\tremaining: 14.6s\n",
            "273:\tlearn: 0.0686583\ttotal: 5.52s\tremaining: 14.6s\n",
            "274:\tlearn: 0.0684381\ttotal: 5.54s\tremaining: 14.6s\n",
            "275:\tlearn: 0.0683077\ttotal: 5.56s\tremaining: 14.6s\n",
            "276:\tlearn: 0.0681211\ttotal: 5.58s\tremaining: 14.6s\n",
            "277:\tlearn: 0.0679252\ttotal: 5.6s\tremaining: 14.5s\n",
            "278:\tlearn: 0.0677067\ttotal: 5.61s\tremaining: 14.5s\n",
            "279:\tlearn: 0.0675356\ttotal: 5.63s\tremaining: 14.5s\n",
            "280:\tlearn: 0.0673093\ttotal: 5.65s\tremaining: 14.5s\n",
            "281:\tlearn: 0.0671325\ttotal: 5.67s\tremaining: 14.4s\n",
            "282:\tlearn: 0.0669827\ttotal: 5.7s\tremaining: 14.4s\n",
            "283:\tlearn: 0.0667765\ttotal: 5.72s\tremaining: 14.4s\n",
            "284:\tlearn: 0.0665772\ttotal: 5.74s\tremaining: 14.4s\n",
            "285:\tlearn: 0.0664076\ttotal: 5.75s\tremaining: 14.3s\n",
            "286:\tlearn: 0.0662253\ttotal: 5.75s\tremaining: 14.3s\n",
            "287:\tlearn: 0.0659874\ttotal: 5.76s\tremaining: 14.3s\n",
            "288:\tlearn: 0.0657753\ttotal: 5.78s\tremaining: 14.2s\n",
            "289:\tlearn: 0.0654683\ttotal: 5.8s\tremaining: 14.2s\n",
            "290:\tlearn: 0.0653546\ttotal: 5.83s\tremaining: 14.2s\n",
            "291:\tlearn: 0.0650705\ttotal: 5.84s\tremaining: 14.2s\n",
            "292:\tlearn: 0.0648875\ttotal: 5.86s\tremaining: 14.1s\n",
            "293:\tlearn: 0.0646423\ttotal: 5.88s\tremaining: 14.1s\n",
            "294:\tlearn: 0.0644948\ttotal: 5.89s\tremaining: 14.1s\n",
            "295:\tlearn: 0.0643715\ttotal: 5.91s\tremaining: 14.1s\n",
            "296:\tlearn: 0.0640660\ttotal: 5.94s\tremaining: 14.1s\n",
            "297:\tlearn: 0.0638610\ttotal: 5.96s\tremaining: 14s\n",
            "298:\tlearn: 0.0636828\ttotal: 5.98s\tremaining: 14s\n",
            "299:\tlearn: 0.0635671\ttotal: 6.01s\tremaining: 14s\n",
            "300:\tlearn: 0.0633816\ttotal: 6.03s\tremaining: 14s\n",
            "301:\tlearn: 0.0632679\ttotal: 6.05s\tremaining: 14s\n",
            "302:\tlearn: 0.0629905\ttotal: 6.07s\tremaining: 14s\n",
            "303:\tlearn: 0.0627700\ttotal: 6.08s\tremaining: 13.9s\n",
            "304:\tlearn: 0.0626231\ttotal: 6.1s\tremaining: 13.9s\n",
            "305:\tlearn: 0.0625095\ttotal: 6.12s\tremaining: 13.9s\n",
            "306:\tlearn: 0.0622389\ttotal: 6.16s\tremaining: 13.9s\n",
            "307:\tlearn: 0.0620537\ttotal: 6.18s\tremaining: 13.9s\n",
            "308:\tlearn: 0.0619134\ttotal: 6.2s\tremaining: 13.9s\n",
            "309:\tlearn: 0.0617821\ttotal: 6.21s\tremaining: 13.8s\n",
            "310:\tlearn: 0.0615836\ttotal: 6.24s\tremaining: 13.8s\n",
            "311:\tlearn: 0.0614534\ttotal: 6.29s\tremaining: 13.9s\n",
            "312:\tlearn: 0.0612609\ttotal: 6.32s\tremaining: 13.9s\n",
            "313:\tlearn: 0.0610821\ttotal: 6.34s\tremaining: 13.9s\n",
            "314:\tlearn: 0.0609331\ttotal: 6.37s\tremaining: 13.8s\n",
            "315:\tlearn: 0.0608338\ttotal: 6.38s\tremaining: 13.8s\n",
            "316:\tlearn: 0.0606442\ttotal: 6.42s\tremaining: 13.8s\n",
            "317:\tlearn: 0.0604970\ttotal: 6.44s\tremaining: 13.8s\n",
            "318:\tlearn: 0.0602883\ttotal: 6.46s\tremaining: 13.8s\n",
            "319:\tlearn: 0.0601036\ttotal: 6.49s\tremaining: 13.8s\n",
            "320:\tlearn: 0.0598964\ttotal: 6.51s\tremaining: 13.8s\n",
            "321:\tlearn: 0.0597556\ttotal: 6.54s\tremaining: 13.8s\n",
            "322:\tlearn: 0.0596727\ttotal: 6.55s\tremaining: 13.7s\n",
            "323:\tlearn: 0.0594970\ttotal: 6.57s\tremaining: 13.7s\n",
            "324:\tlearn: 0.0594534\ttotal: 6.61s\tremaining: 13.7s\n",
            "325:\tlearn: 0.0592053\ttotal: 6.63s\tremaining: 13.7s\n",
            "326:\tlearn: 0.0590224\ttotal: 6.66s\tremaining: 13.7s\n",
            "327:\tlearn: 0.0588559\ttotal: 6.68s\tremaining: 13.7s\n",
            "328:\tlearn: 0.0586564\ttotal: 6.71s\tremaining: 13.7s\n",
            "329:\tlearn: 0.0584377\ttotal: 6.74s\tremaining: 13.7s\n",
            "330:\tlearn: 0.0582278\ttotal: 6.75s\tremaining: 13.6s\n",
            "331:\tlearn: 0.0581925\ttotal: 6.77s\tremaining: 13.6s\n",
            "332:\tlearn: 0.0580656\ttotal: 6.79s\tremaining: 13.6s\n",
            "333:\tlearn: 0.0578889\ttotal: 6.81s\tremaining: 13.6s\n",
            "334:\tlearn: 0.0577384\ttotal: 6.83s\tremaining: 13.5s\n",
            "335:\tlearn: 0.0575685\ttotal: 6.84s\tremaining: 13.5s\n",
            "336:\tlearn: 0.0574275\ttotal: 6.87s\tremaining: 13.5s\n",
            "337:\tlearn: 0.0572820\ttotal: 6.88s\tremaining: 13.5s\n",
            "338:\tlearn: 0.0571967\ttotal: 6.9s\tremaining: 13.5s\n",
            "339:\tlearn: 0.0571339\ttotal: 6.92s\tremaining: 13.4s\n",
            "340:\tlearn: 0.0569474\ttotal: 6.94s\tremaining: 13.4s\n",
            "341:\tlearn: 0.0567995\ttotal: 6.96s\tremaining: 13.4s\n",
            "342:\tlearn: 0.0566676\ttotal: 6.99s\tremaining: 13.4s\n",
            "343:\tlearn: 0.0565638\ttotal: 7s\tremaining: 13.4s\n",
            "344:\tlearn: 0.0564409\ttotal: 7.02s\tremaining: 13.3s\n",
            "345:\tlearn: 0.0562976\ttotal: 7.03s\tremaining: 13.3s\n",
            "346:\tlearn: 0.0561897\ttotal: 7.04s\tremaining: 13.3s\n",
            "347:\tlearn: 0.0559860\ttotal: 7.05s\tremaining: 13.2s\n",
            "348:\tlearn: 0.0557604\ttotal: 7.06s\tremaining: 13.2s\n",
            "349:\tlearn: 0.0556021\ttotal: 7.08s\tremaining: 13.1s\n",
            "350:\tlearn: 0.0554541\ttotal: 7.08s\tremaining: 13.1s\n",
            "351:\tlearn: 0.0553544\ttotal: 7.09s\tremaining: 13.1s\n",
            "352:\tlearn: 0.0552236\ttotal: 7.11s\tremaining: 13s\n",
            "353:\tlearn: 0.0550121\ttotal: 7.12s\tremaining: 13s\n",
            "354:\tlearn: 0.0548610\ttotal: 7.13s\tremaining: 12.9s\n",
            "355:\tlearn: 0.0547644\ttotal: 7.13s\tremaining: 12.9s\n",
            "356:\tlearn: 0.0547393\ttotal: 7.14s\tremaining: 12.9s\n",
            "357:\tlearn: 0.0546013\ttotal: 7.16s\tremaining: 12.8s\n",
            "358:\tlearn: 0.0544352\ttotal: 7.17s\tremaining: 12.8s\n",
            "359:\tlearn: 0.0543663\ttotal: 7.17s\tremaining: 12.8s\n",
            "360:\tlearn: 0.0542888\ttotal: 7.19s\tremaining: 12.7s\n",
            "361:\tlearn: 0.0542018\ttotal: 7.2s\tremaining: 12.7s\n",
            "362:\tlearn: 0.0540595\ttotal: 7.22s\tremaining: 12.7s\n",
            "363:\tlearn: 0.0538745\ttotal: 7.26s\tremaining: 12.7s\n",
            "364:\tlearn: 0.0536515\ttotal: 7.29s\tremaining: 12.7s\n",
            "365:\tlearn: 0.0535321\ttotal: 7.31s\tremaining: 12.7s\n",
            "366:\tlearn: 0.0533287\ttotal: 7.33s\tremaining: 12.7s\n",
            "367:\tlearn: 0.0532035\ttotal: 7.35s\tremaining: 12.6s\n",
            "368:\tlearn: 0.0531146\ttotal: 7.37s\tremaining: 12.6s\n",
            "369:\tlearn: 0.0530071\ttotal: 7.38s\tremaining: 12.6s\n",
            "370:\tlearn: 0.0529322\ttotal: 7.41s\tremaining: 12.6s\n",
            "371:\tlearn: 0.0526965\ttotal: 7.42s\tremaining: 12.5s\n",
            "372:\tlearn: 0.0525886\ttotal: 7.44s\tremaining: 12.5s\n",
            "373:\tlearn: 0.0524327\ttotal: 7.47s\tremaining: 12.5s\n",
            "374:\tlearn: 0.0523576\ttotal: 7.48s\tremaining: 12.5s\n",
            "375:\tlearn: 0.0522001\ttotal: 7.51s\tremaining: 12.5s\n",
            "376:\tlearn: 0.0521037\ttotal: 7.53s\tremaining: 12.4s\n",
            "377:\tlearn: 0.0519755\ttotal: 7.56s\tremaining: 12.4s\n",
            "378:\tlearn: 0.0518898\ttotal: 7.59s\tremaining: 12.4s\n",
            "379:\tlearn: 0.0518516\ttotal: 7.62s\tremaining: 12.4s\n",
            "380:\tlearn: 0.0516942\ttotal: 7.65s\tremaining: 12.4s\n",
            "381:\tlearn: 0.0515922\ttotal: 7.68s\tremaining: 12.4s\n",
            "382:\tlearn: 0.0514175\ttotal: 7.7s\tremaining: 12.4s\n",
            "383:\tlearn: 0.0512151\ttotal: 7.72s\tremaining: 12.4s\n",
            "384:\tlearn: 0.0510789\ttotal: 7.75s\tremaining: 12.4s\n",
            "385:\tlearn: 0.0510058\ttotal: 7.77s\tremaining: 12.4s\n",
            "386:\tlearn: 0.0508786\ttotal: 7.79s\tremaining: 12.3s\n",
            "387:\tlearn: 0.0507367\ttotal: 7.83s\tremaining: 12.3s\n",
            "388:\tlearn: 0.0506895\ttotal: 7.85s\tremaining: 12.3s\n",
            "389:\tlearn: 0.0506327\ttotal: 7.88s\tremaining: 12.3s\n",
            "390:\tlearn: 0.0505400\ttotal: 7.91s\tremaining: 12.3s\n",
            "391:\tlearn: 0.0504399\ttotal: 7.95s\tremaining: 12.3s\n",
            "392:\tlearn: 0.0503200\ttotal: 7.98s\tremaining: 12.3s\n",
            "393:\tlearn: 0.0502051\ttotal: 8.03s\tremaining: 12.3s\n",
            "394:\tlearn: 0.0500474\ttotal: 8.06s\tremaining: 12.3s\n",
            "395:\tlearn: 0.0499351\ttotal: 8.08s\tremaining: 12.3s\n",
            "396:\tlearn: 0.0497901\ttotal: 8.1s\tremaining: 12.3s\n",
            "397:\tlearn: 0.0496585\ttotal: 8.13s\tremaining: 12.3s\n",
            "398:\tlearn: 0.0494880\ttotal: 8.15s\tremaining: 12.3s\n",
            "399:\tlearn: 0.0493961\ttotal: 8.17s\tremaining: 12.3s\n",
            "400:\tlearn: 0.0492824\ttotal: 8.2s\tremaining: 12.2s\n",
            "401:\tlearn: 0.0490892\ttotal: 8.22s\tremaining: 12.2s\n",
            "402:\tlearn: 0.0489131\ttotal: 8.24s\tremaining: 12.2s\n",
            "403:\tlearn: 0.0488262\ttotal: 8.26s\tremaining: 12.2s\n",
            "404:\tlearn: 0.0487049\ttotal: 8.3s\tremaining: 12.2s\n",
            "405:\tlearn: 0.0485300\ttotal: 8.32s\tremaining: 12.2s\n",
            "406:\tlearn: 0.0483474\ttotal: 8.34s\tremaining: 12.2s\n",
            "407:\tlearn: 0.0482144\ttotal: 8.37s\tremaining: 12.1s\n",
            "408:\tlearn: 0.0480668\ttotal: 8.39s\tremaining: 12.1s\n",
            "409:\tlearn: 0.0479288\ttotal: 8.41s\tremaining: 12.1s\n",
            "410:\tlearn: 0.0477828\ttotal: 8.45s\tremaining: 12.1s\n",
            "411:\tlearn: 0.0475823\ttotal: 8.47s\tremaining: 12.1s\n",
            "412:\tlearn: 0.0474040\ttotal: 8.49s\tremaining: 12.1s\n",
            "413:\tlearn: 0.0473002\ttotal: 8.52s\tremaining: 12.1s\n",
            "414:\tlearn: 0.0470885\ttotal: 8.54s\tremaining: 12s\n",
            "415:\tlearn: 0.0469702\ttotal: 8.56s\tremaining: 12s\n",
            "416:\tlearn: 0.0469091\ttotal: 8.59s\tremaining: 12s\n",
            "417:\tlearn: 0.0468185\ttotal: 8.61s\tremaining: 12s\n",
            "418:\tlearn: 0.0466982\ttotal: 8.63s\tremaining: 12s\n",
            "419:\tlearn: 0.0466088\ttotal: 8.66s\tremaining: 12s\n",
            "420:\tlearn: 0.0465396\ttotal: 8.69s\tremaining: 11.9s\n",
            "421:\tlearn: 0.0464279\ttotal: 8.71s\tremaining: 11.9s\n",
            "422:\tlearn: 0.0462810\ttotal: 8.74s\tremaining: 11.9s\n",
            "423:\tlearn: 0.0462425\ttotal: 8.77s\tremaining: 11.9s\n",
            "424:\tlearn: 0.0460312\ttotal: 8.8s\tremaining: 11.9s\n",
            "425:\tlearn: 0.0458868\ttotal: 8.82s\tremaining: 11.9s\n",
            "426:\tlearn: 0.0457647\ttotal: 8.84s\tremaining: 11.9s\n",
            "427:\tlearn: 0.0456331\ttotal: 8.88s\tremaining: 11.9s\n",
            "428:\tlearn: 0.0455342\ttotal: 8.9s\tremaining: 11.8s\n",
            "429:\tlearn: 0.0454552\ttotal: 8.92s\tremaining: 11.8s\n",
            "430:\tlearn: 0.0453529\ttotal: 8.94s\tremaining: 11.8s\n",
            "431:\tlearn: 0.0451969\ttotal: 8.96s\tremaining: 11.8s\n",
            "432:\tlearn: 0.0450941\ttotal: 8.98s\tremaining: 11.8s\n",
            "433:\tlearn: 0.0450535\ttotal: 9.01s\tremaining: 11.8s\n",
            "434:\tlearn: 0.0449515\ttotal: 9.04s\tremaining: 11.7s\n",
            "435:\tlearn: 0.0448750\ttotal: 9.06s\tremaining: 11.7s\n",
            "436:\tlearn: 0.0447483\ttotal: 9.09s\tremaining: 11.7s\n",
            "437:\tlearn: 0.0446369\ttotal: 9.11s\tremaining: 11.7s\n",
            "438:\tlearn: 0.0444831\ttotal: 9.14s\tremaining: 11.7s\n",
            "439:\tlearn: 0.0442905\ttotal: 9.16s\tremaining: 11.7s\n",
            "440:\tlearn: 0.0441770\ttotal: 9.17s\tremaining: 11.6s\n",
            "441:\tlearn: 0.0440516\ttotal: 9.18s\tremaining: 11.6s\n",
            "442:\tlearn: 0.0439492\ttotal: 9.19s\tremaining: 11.6s\n",
            "443:\tlearn: 0.0438981\ttotal: 9.2s\tremaining: 11.5s\n",
            "444:\tlearn: 0.0438268\ttotal: 9.22s\tremaining: 11.5s\n",
            "445:\tlearn: 0.0437284\ttotal: 9.24s\tremaining: 11.5s\n",
            "446:\tlearn: 0.0436876\ttotal: 9.28s\tremaining: 11.5s\n",
            "447:\tlearn: 0.0435722\ttotal: 9.33s\tremaining: 11.5s\n",
            "448:\tlearn: 0.0434346\ttotal: 9.36s\tremaining: 11.5s\n",
            "449:\tlearn: 0.0433658\ttotal: 9.39s\tremaining: 11.5s\n",
            "450:\tlearn: 0.0432703\ttotal: 9.41s\tremaining: 11.5s\n",
            "451:\tlearn: 0.0431881\ttotal: 9.43s\tremaining: 11.4s\n",
            "452:\tlearn: 0.0431289\ttotal: 9.46s\tremaining: 11.4s\n",
            "453:\tlearn: 0.0430146\ttotal: 9.48s\tremaining: 11.4s\n",
            "454:\tlearn: 0.0429383\ttotal: 9.5s\tremaining: 11.4s\n",
            "455:\tlearn: 0.0428524\ttotal: 9.52s\tremaining: 11.4s\n",
            "456:\tlearn: 0.0427865\ttotal: 9.56s\tremaining: 11.4s\n",
            "457:\tlearn: 0.0426674\ttotal: 9.6s\tremaining: 11.4s\n",
            "458:\tlearn: 0.0425154\ttotal: 9.63s\tremaining: 11.3s\n",
            "459:\tlearn: 0.0424282\ttotal: 9.64s\tremaining: 11.3s\n",
            "460:\tlearn: 0.0423621\ttotal: 9.66s\tremaining: 11.3s\n",
            "461:\tlearn: 0.0422040\ttotal: 9.68s\tremaining: 11.3s\n",
            "462:\tlearn: 0.0421230\ttotal: 9.7s\tremaining: 11.3s\n",
            "463:\tlearn: 0.0420632\ttotal: 9.73s\tremaining: 11.2s\n",
            "464:\tlearn: 0.0420005\ttotal: 9.75s\tremaining: 11.2s\n",
            "465:\tlearn: 0.0418452\ttotal: 9.78s\tremaining: 11.2s\n",
            "466:\tlearn: 0.0417321\ttotal: 9.81s\tremaining: 11.2s\n",
            "467:\tlearn: 0.0415461\ttotal: 9.82s\tremaining: 11.2s\n",
            "468:\tlearn: 0.0414512\ttotal: 9.86s\tremaining: 11.2s\n",
            "469:\tlearn: 0.0413827\ttotal: 9.88s\tremaining: 11.1s\n",
            "470:\tlearn: 0.0412275\ttotal: 9.91s\tremaining: 11.1s\n",
            "471:\tlearn: 0.0411032\ttotal: 9.93s\tremaining: 11.1s\n",
            "472:\tlearn: 0.0410152\ttotal: 9.95s\tremaining: 11.1s\n",
            "473:\tlearn: 0.0409718\ttotal: 9.98s\tremaining: 11.1s\n",
            "474:\tlearn: 0.0408224\ttotal: 9.99s\tremaining: 11s\n",
            "475:\tlearn: 0.0407884\ttotal: 10s\tremaining: 11s\n",
            "476:\tlearn: 0.0407264\ttotal: 10s\tremaining: 11s\n",
            "477:\tlearn: 0.0405235\ttotal: 10s\tremaining: 11s\n",
            "478:\tlearn: 0.0404679\ttotal: 10.1s\tremaining: 10.9s\n",
            "479:\tlearn: 0.0403370\ttotal: 10.1s\tremaining: 10.9s\n",
            "480:\tlearn: 0.0402771\ttotal: 10.1s\tremaining: 10.9s\n",
            "481:\tlearn: 0.0402168\ttotal: 10.1s\tremaining: 10.9s\n",
            "482:\tlearn: 0.0401218\ttotal: 10.2s\tremaining: 10.9s\n",
            "483:\tlearn: 0.0400192\ttotal: 10.2s\tremaining: 10.8s\n",
            "484:\tlearn: 0.0399068\ttotal: 10.2s\tremaining: 10.8s\n",
            "485:\tlearn: 0.0398111\ttotal: 10.2s\tremaining: 10.8s\n",
            "486:\tlearn: 0.0397601\ttotal: 10.3s\tremaining: 10.8s\n",
            "487:\tlearn: 0.0396857\ttotal: 10.3s\tremaining: 10.8s\n",
            "488:\tlearn: 0.0396111\ttotal: 10.3s\tremaining: 10.8s\n",
            "489:\tlearn: 0.0395405\ttotal: 10.3s\tremaining: 10.8s\n",
            "490:\tlearn: 0.0394194\ttotal: 10.4s\tremaining: 10.8s\n",
            "491:\tlearn: 0.0393426\ttotal: 10.4s\tremaining: 10.7s\n",
            "492:\tlearn: 0.0392656\ttotal: 10.4s\tremaining: 10.7s\n",
            "493:\tlearn: 0.0391380\ttotal: 10.5s\tremaining: 10.7s\n",
            "494:\tlearn: 0.0391242\ttotal: 10.5s\tremaining: 10.7s\n",
            "495:\tlearn: 0.0390520\ttotal: 10.5s\tremaining: 10.7s\n",
            "496:\tlearn: 0.0389573\ttotal: 10.5s\tremaining: 10.7s\n",
            "497:\tlearn: 0.0388721\ttotal: 10.6s\tremaining: 10.6s\n",
            "498:\tlearn: 0.0388467\ttotal: 10.6s\tremaining: 10.6s\n",
            "499:\tlearn: 0.0387702\ttotal: 10.6s\tremaining: 10.6s\n",
            "500:\tlearn: 0.0387334\ttotal: 10.6s\tremaining: 10.6s\n",
            "501:\tlearn: 0.0386880\ttotal: 10.6s\tremaining: 10.6s\n",
            "502:\tlearn: 0.0386428\ttotal: 10.7s\tremaining: 10.5s\n",
            "503:\tlearn: 0.0385406\ttotal: 10.7s\tremaining: 10.5s\n",
            "504:\tlearn: 0.0384504\ttotal: 10.7s\tremaining: 10.5s\n",
            "505:\tlearn: 0.0383585\ttotal: 10.7s\tremaining: 10.5s\n",
            "506:\tlearn: 0.0382801\ttotal: 10.8s\tremaining: 10.5s\n",
            "507:\tlearn: 0.0382596\ttotal: 10.8s\tremaining: 10.5s\n",
            "508:\tlearn: 0.0381823\ttotal: 10.8s\tremaining: 10.4s\n",
            "509:\tlearn: 0.0381189\ttotal: 10.9s\tremaining: 10.4s\n",
            "510:\tlearn: 0.0380673\ttotal: 10.9s\tremaining: 10.4s\n",
            "511:\tlearn: 0.0379210\ttotal: 10.9s\tremaining: 10.4s\n",
            "512:\tlearn: 0.0378226\ttotal: 10.9s\tremaining: 10.4s\n",
            "513:\tlearn: 0.0376756\ttotal: 10.9s\tremaining: 10.3s\n",
            "514:\tlearn: 0.0375702\ttotal: 11s\tremaining: 10.3s\n",
            "515:\tlearn: 0.0375223\ttotal: 11s\tremaining: 10.3s\n",
            "516:\tlearn: 0.0374822\ttotal: 11s\tremaining: 10.3s\n",
            "517:\tlearn: 0.0374528\ttotal: 11s\tremaining: 10.3s\n",
            "518:\tlearn: 0.0373735\ttotal: 11s\tremaining: 10.2s\n",
            "519:\tlearn: 0.0372976\ttotal: 11.1s\tremaining: 10.2s\n",
            "520:\tlearn: 0.0372104\ttotal: 11.1s\tremaining: 10.2s\n",
            "521:\tlearn: 0.0371570\ttotal: 11.1s\tremaining: 10.2s\n",
            "522:\tlearn: 0.0370647\ttotal: 11.1s\tremaining: 10.2s\n",
            "523:\tlearn: 0.0369597\ttotal: 11.2s\tremaining: 10.1s\n",
            "524:\tlearn: 0.0368990\ttotal: 11.2s\tremaining: 10.1s\n",
            "525:\tlearn: 0.0367809\ttotal: 11.2s\tremaining: 10.1s\n",
            "526:\tlearn: 0.0367521\ttotal: 11.2s\tremaining: 10.1s\n",
            "527:\tlearn: 0.0366222\ttotal: 11.2s\tremaining: 10s\n",
            "528:\tlearn: 0.0365325\ttotal: 11.2s\tremaining: 10s\n",
            "529:\tlearn: 0.0364521\ttotal: 11.3s\tremaining: 9.99s\n",
            "530:\tlearn: 0.0363083\ttotal: 11.3s\tremaining: 9.99s\n",
            "531:\tlearn: 0.0361744\ttotal: 11.3s\tremaining: 9.96s\n",
            "532:\tlearn: 0.0360980\ttotal: 11.4s\tremaining: 9.96s\n",
            "533:\tlearn: 0.0360261\ttotal: 11.4s\tremaining: 9.94s\n",
            "534:\tlearn: 0.0359476\ttotal: 11.4s\tremaining: 9.92s\n",
            "535:\tlearn: 0.0358213\ttotal: 11.4s\tremaining: 9.9s\n",
            "536:\tlearn: 0.0357127\ttotal: 11.5s\tremaining: 9.89s\n",
            "537:\tlearn: 0.0355921\ttotal: 11.5s\tremaining: 9.86s\n",
            "538:\tlearn: 0.0355010\ttotal: 11.5s\tremaining: 9.85s\n",
            "539:\tlearn: 0.0354602\ttotal: 11.5s\tremaining: 9.83s\n",
            "540:\tlearn: 0.0353071\ttotal: 11.6s\tremaining: 9.83s\n",
            "541:\tlearn: 0.0351699\ttotal: 11.6s\tremaining: 9.82s\n",
            "542:\tlearn: 0.0350925\ttotal: 11.6s\tremaining: 9.8s\n",
            "543:\tlearn: 0.0349748\ttotal: 11.7s\tremaining: 9.82s\n",
            "544:\tlearn: 0.0349275\ttotal: 11.7s\tremaining: 9.8s\n",
            "545:\tlearn: 0.0348835\ttotal: 11.8s\tremaining: 9.79s\n",
            "546:\tlearn: 0.0348485\ttotal: 11.8s\tremaining: 9.77s\n",
            "547:\tlearn: 0.0347898\ttotal: 11.8s\tremaining: 9.76s\n",
            "548:\tlearn: 0.0346955\ttotal: 11.8s\tremaining: 9.73s\n",
            "549:\tlearn: 0.0346512\ttotal: 11.9s\tremaining: 9.71s\n",
            "550:\tlearn: 0.0345666\ttotal: 11.9s\tremaining: 9.7s\n",
            "551:\tlearn: 0.0344950\ttotal: 11.9s\tremaining: 9.68s\n",
            "552:\tlearn: 0.0344221\ttotal: 12s\tremaining: 9.67s\n",
            "553:\tlearn: 0.0343150\ttotal: 12s\tremaining: 9.66s\n",
            "554:\tlearn: 0.0342593\ttotal: 12s\tremaining: 9.65s\n",
            "555:\tlearn: 0.0342060\ttotal: 12.1s\tremaining: 9.63s\n",
            "556:\tlearn: 0.0341388\ttotal: 12.1s\tremaining: 9.6s\n",
            "557:\tlearn: 0.0340790\ttotal: 12.1s\tremaining: 9.57s\n",
            "558:\tlearn: 0.0339830\ttotal: 12.1s\tremaining: 9.56s\n",
            "559:\tlearn: 0.0339330\ttotal: 12.2s\tremaining: 9.55s\n",
            "560:\tlearn: 0.0338704\ttotal: 12.2s\tremaining: 9.53s\n",
            "561:\tlearn: 0.0337552\ttotal: 12.2s\tremaining: 9.51s\n",
            "562:\tlearn: 0.0337118\ttotal: 12.2s\tremaining: 9.5s\n",
            "563:\tlearn: 0.0336245\ttotal: 12.3s\tremaining: 9.47s\n",
            "564:\tlearn: 0.0335704\ttotal: 12.3s\tremaining: 9.45s\n",
            "565:\tlearn: 0.0334752\ttotal: 12.3s\tremaining: 9.43s\n",
            "566:\tlearn: 0.0334194\ttotal: 12.3s\tremaining: 9.4s\n",
            "567:\tlearn: 0.0333618\ttotal: 12.3s\tremaining: 9.38s\n",
            "568:\tlearn: 0.0333110\ttotal: 12.4s\tremaining: 9.36s\n",
            "569:\tlearn: 0.0332698\ttotal: 12.4s\tremaining: 9.35s\n",
            "570:\tlearn: 0.0331844\ttotal: 12.4s\tremaining: 9.32s\n",
            "571:\tlearn: 0.0331074\ttotal: 12.4s\tremaining: 9.3s\n",
            "572:\tlearn: 0.0330136\ttotal: 12.4s\tremaining: 9.27s\n",
            "573:\tlearn: 0.0329745\ttotal: 12.5s\tremaining: 9.25s\n",
            "574:\tlearn: 0.0328313\ttotal: 12.5s\tremaining: 9.23s\n",
            "575:\tlearn: 0.0327715\ttotal: 12.5s\tremaining: 9.2s\n",
            "576:\tlearn: 0.0327312\ttotal: 12.5s\tremaining: 9.18s\n",
            "577:\tlearn: 0.0326663\ttotal: 12.5s\tremaining: 9.15s\n",
            "578:\tlearn: 0.0325964\ttotal: 12.6s\tremaining: 9.13s\n",
            "579:\tlearn: 0.0325342\ttotal: 12.6s\tremaining: 9.11s\n",
            "580:\tlearn: 0.0324632\ttotal: 12.6s\tremaining: 9.08s\n",
            "581:\tlearn: 0.0324120\ttotal: 12.6s\tremaining: 9.06s\n",
            "582:\tlearn: 0.0323505\ttotal: 12.6s\tremaining: 9.03s\n",
            "583:\tlearn: 0.0323192\ttotal: 12.6s\tremaining: 9.01s\n",
            "584:\tlearn: 0.0322786\ttotal: 12.7s\tremaining: 8.99s\n",
            "585:\tlearn: 0.0322046\ttotal: 12.7s\tremaining: 8.97s\n",
            "586:\tlearn: 0.0321363\ttotal: 12.7s\tremaining: 8.95s\n",
            "587:\tlearn: 0.0320955\ttotal: 12.7s\tremaining: 8.92s\n",
            "588:\tlearn: 0.0320390\ttotal: 12.7s\tremaining: 8.89s\n",
            "589:\tlearn: 0.0320008\ttotal: 12.8s\tremaining: 8.87s\n",
            "590:\tlearn: 0.0318917\ttotal: 12.8s\tremaining: 8.86s\n",
            "591:\tlearn: 0.0318372\ttotal: 12.8s\tremaining: 8.84s\n",
            "592:\tlearn: 0.0317957\ttotal: 12.9s\tremaining: 8.83s\n",
            "593:\tlearn: 0.0317494\ttotal: 12.9s\tremaining: 8.81s\n",
            "594:\tlearn: 0.0316782\ttotal: 12.9s\tremaining: 8.8s\n",
            "595:\tlearn: 0.0315579\ttotal: 13s\tremaining: 8.79s\n",
            "596:\tlearn: 0.0314787\ttotal: 13s\tremaining: 8.78s\n",
            "597:\tlearn: 0.0314121\ttotal: 13s\tremaining: 8.77s\n",
            "598:\tlearn: 0.0313751\ttotal: 13.1s\tremaining: 8.75s\n",
            "599:\tlearn: 0.0313069\ttotal: 13.1s\tremaining: 8.74s\n",
            "600:\tlearn: 0.0312701\ttotal: 13.1s\tremaining: 8.72s\n",
            "601:\tlearn: 0.0311834\ttotal: 13.2s\tremaining: 8.71s\n",
            "602:\tlearn: 0.0311292\ttotal: 13.2s\tremaining: 8.69s\n",
            "603:\tlearn: 0.0310580\ttotal: 13.2s\tremaining: 8.67s\n",
            "604:\tlearn: 0.0310369\ttotal: 13.2s\tremaining: 8.65s\n",
            "605:\tlearn: 0.0310128\ttotal: 13.3s\tremaining: 8.63s\n",
            "606:\tlearn: 0.0309339\ttotal: 13.3s\tremaining: 8.61s\n",
            "607:\tlearn: 0.0308699\ttotal: 13.3s\tremaining: 8.59s\n",
            "608:\tlearn: 0.0308019\ttotal: 13.3s\tremaining: 8.57s\n",
            "609:\tlearn: 0.0307410\ttotal: 13.4s\tremaining: 8.55s\n",
            "610:\tlearn: 0.0306462\ttotal: 13.4s\tremaining: 8.53s\n",
            "611:\tlearn: 0.0305280\ttotal: 13.4s\tremaining: 8.52s\n",
            "612:\tlearn: 0.0304801\ttotal: 13.5s\tremaining: 8.5s\n",
            "613:\tlearn: 0.0304368\ttotal: 13.5s\tremaining: 8.47s\n",
            "614:\tlearn: 0.0303590\ttotal: 13.5s\tremaining: 8.46s\n",
            "615:\tlearn: 0.0303326\ttotal: 13.6s\tremaining: 8.45s\n",
            "616:\tlearn: 0.0302497\ttotal: 13.6s\tremaining: 8.44s\n",
            "617:\tlearn: 0.0301674\ttotal: 13.6s\tremaining: 8.42s\n",
            "618:\tlearn: 0.0301042\ttotal: 13.6s\tremaining: 8.4s\n",
            "619:\tlearn: 0.0300219\ttotal: 13.7s\tremaining: 8.38s\n",
            "620:\tlearn: 0.0299961\ttotal: 13.7s\tremaining: 8.37s\n",
            "621:\tlearn: 0.0299476\ttotal: 13.7s\tremaining: 8.35s\n",
            "622:\tlearn: 0.0299028\ttotal: 13.8s\tremaining: 8.33s\n",
            "623:\tlearn: 0.0298217\ttotal: 13.8s\tremaining: 8.32s\n",
            "624:\tlearn: 0.0297108\ttotal: 13.8s\tremaining: 8.29s\n",
            "625:\tlearn: 0.0296234\ttotal: 13.8s\tremaining: 8.27s\n",
            "626:\tlearn: 0.0295761\ttotal: 13.9s\tremaining: 8.24s\n",
            "627:\tlearn: 0.0295486\ttotal: 13.9s\tremaining: 8.21s\n",
            "628:\tlearn: 0.0294896\ttotal: 13.9s\tremaining: 8.19s\n",
            "629:\tlearn: 0.0294000\ttotal: 13.9s\tremaining: 8.16s\n",
            "630:\tlearn: 0.0293367\ttotal: 13.9s\tremaining: 8.13s\n",
            "631:\tlearn: 0.0293046\ttotal: 13.9s\tremaining: 8.11s\n",
            "632:\tlearn: 0.0291761\ttotal: 14s\tremaining: 8.1s\n",
            "633:\tlearn: 0.0290849\ttotal: 14s\tremaining: 8.09s\n",
            "634:\tlearn: 0.0290231\ttotal: 14s\tremaining: 8.06s\n",
            "635:\tlearn: 0.0289562\ttotal: 14.1s\tremaining: 8.04s\n",
            "636:\tlearn: 0.0289290\ttotal: 14.1s\tremaining: 8.03s\n",
            "637:\tlearn: 0.0288645\ttotal: 14.1s\tremaining: 8.01s\n",
            "638:\tlearn: 0.0288218\ttotal: 14.1s\tremaining: 7.99s\n",
            "639:\tlearn: 0.0287833\ttotal: 14.2s\tremaining: 7.96s\n",
            "640:\tlearn: 0.0286995\ttotal: 14.2s\tremaining: 7.94s\n",
            "641:\tlearn: 0.0286259\ttotal: 14.2s\tremaining: 7.91s\n",
            "642:\tlearn: 0.0285824\ttotal: 14.2s\tremaining: 7.88s\n",
            "643:\tlearn: 0.0285534\ttotal: 14.2s\tremaining: 7.85s\n",
            "644:\tlearn: 0.0285131\ttotal: 14.2s\tremaining: 7.83s\n",
            "645:\tlearn: 0.0284555\ttotal: 14.2s\tremaining: 7.8s\n",
            "646:\tlearn: 0.0284085\ttotal: 14.3s\tremaining: 7.78s\n",
            "647:\tlearn: 0.0283118\ttotal: 14.3s\tremaining: 7.76s\n",
            "648:\tlearn: 0.0282688\ttotal: 14.3s\tremaining: 7.75s\n",
            "649:\tlearn: 0.0281982\ttotal: 14.3s\tremaining: 7.72s\n",
            "650:\tlearn: 0.0281561\ttotal: 14.4s\tremaining: 7.71s\n",
            "651:\tlearn: 0.0281292\ttotal: 14.4s\tremaining: 7.7s\n",
            "652:\tlearn: 0.0280894\ttotal: 14.5s\tremaining: 7.68s\n",
            "653:\tlearn: 0.0280730\ttotal: 14.5s\tremaining: 7.66s\n",
            "654:\tlearn: 0.0280461\ttotal: 14.5s\tremaining: 7.64s\n",
            "655:\tlearn: 0.0280159\ttotal: 14.5s\tremaining: 7.62s\n",
            "656:\tlearn: 0.0279764\ttotal: 14.6s\tremaining: 7.6s\n",
            "657:\tlearn: 0.0278805\ttotal: 14.6s\tremaining: 7.58s\n",
            "658:\tlearn: 0.0278416\ttotal: 14.6s\tremaining: 7.56s\n",
            "659:\tlearn: 0.0277863\ttotal: 14.6s\tremaining: 7.54s\n",
            "660:\tlearn: 0.0277351\ttotal: 14.6s\tremaining: 7.51s\n",
            "661:\tlearn: 0.0277187\ttotal: 14.7s\tremaining: 7.49s\n",
            "662:\tlearn: 0.0276517\ttotal: 14.7s\tremaining: 7.47s\n",
            "663:\tlearn: 0.0276002\ttotal: 14.7s\tremaining: 7.45s\n",
            "664:\tlearn: 0.0275282\ttotal: 14.7s\tremaining: 7.43s\n",
            "665:\tlearn: 0.0275020\ttotal: 14.8s\tremaining: 7.42s\n",
            "666:\tlearn: 0.0274959\ttotal: 14.8s\tremaining: 7.39s\n",
            "667:\tlearn: 0.0274215\ttotal: 14.8s\tremaining: 7.37s\n",
            "668:\tlearn: 0.0273701\ttotal: 14.8s\tremaining: 7.34s\n",
            "669:\tlearn: 0.0273397\ttotal: 14.9s\tremaining: 7.32s\n",
            "670:\tlearn: 0.0273060\ttotal: 14.9s\tremaining: 7.3s\n",
            "671:\tlearn: 0.0272055\ttotal: 14.9s\tremaining: 7.28s\n",
            "672:\tlearn: 0.0271466\ttotal: 14.9s\tremaining: 7.26s\n",
            "673:\tlearn: 0.0271178\ttotal: 15s\tremaining: 7.23s\n",
            "674:\tlearn: 0.0270330\ttotal: 15s\tremaining: 7.22s\n",
            "675:\tlearn: 0.0269847\ttotal: 15s\tremaining: 7.19s\n",
            "676:\tlearn: 0.0269491\ttotal: 15s\tremaining: 7.18s\n",
            "677:\tlearn: 0.0269077\ttotal: 15.1s\tremaining: 7.16s\n",
            "678:\tlearn: 0.0268302\ttotal: 15.1s\tremaining: 7.13s\n",
            "679:\tlearn: 0.0267919\ttotal: 15.1s\tremaining: 7.11s\n",
            "680:\tlearn: 0.0267380\ttotal: 15.2s\tremaining: 7.1s\n",
            "681:\tlearn: 0.0266670\ttotal: 15.2s\tremaining: 7.08s\n",
            "682:\tlearn: 0.0266200\ttotal: 15.2s\tremaining: 7.05s\n",
            "683:\tlearn: 0.0265881\ttotal: 15.2s\tremaining: 7.03s\n",
            "684:\tlearn: 0.0265584\ttotal: 15.2s\tremaining: 7s\n",
            "685:\tlearn: 0.0265273\ttotal: 15.3s\tremaining: 6.98s\n",
            "686:\tlearn: 0.0264919\ttotal: 15.3s\tremaining: 6.96s\n",
            "687:\tlearn: 0.0264164\ttotal: 15.3s\tremaining: 6.94s\n",
            "688:\tlearn: 0.0263539\ttotal: 15.3s\tremaining: 6.92s\n",
            "689:\tlearn: 0.0263083\ttotal: 15.3s\tremaining: 6.89s\n",
            "690:\tlearn: 0.0262791\ttotal: 15.4s\tremaining: 6.88s\n",
            "691:\tlearn: 0.0262114\ttotal: 15.4s\tremaining: 6.86s\n",
            "692:\tlearn: 0.0261550\ttotal: 15.4s\tremaining: 6.84s\n",
            "693:\tlearn: 0.0261170\ttotal: 15.5s\tremaining: 6.81s\n",
            "694:\tlearn: 0.0260587\ttotal: 15.5s\tremaining: 6.79s\n",
            "695:\tlearn: 0.0259959\ttotal: 15.5s\tremaining: 6.77s\n",
            "696:\tlearn: 0.0259482\ttotal: 15.5s\tremaining: 6.74s\n",
            "697:\tlearn: 0.0259276\ttotal: 15.5s\tremaining: 6.72s\n",
            "698:\tlearn: 0.0258877\ttotal: 15.6s\tremaining: 6.7s\n",
            "699:\tlearn: 0.0257988\ttotal: 15.6s\tremaining: 6.68s\n",
            "700:\tlearn: 0.0257056\ttotal: 15.6s\tremaining: 6.66s\n",
            "701:\tlearn: 0.0256612\ttotal: 15.6s\tremaining: 6.64s\n",
            "702:\tlearn: 0.0255923\ttotal: 15.7s\tremaining: 6.62s\n",
            "703:\tlearn: 0.0255677\ttotal: 15.7s\tremaining: 6.6s\n",
            "704:\tlearn: 0.0255316\ttotal: 15.7s\tremaining: 6.58s\n",
            "705:\tlearn: 0.0254987\ttotal: 15.8s\tremaining: 6.56s\n",
            "706:\tlearn: 0.0254343\ttotal: 15.8s\tremaining: 6.54s\n",
            "707:\tlearn: 0.0253766\ttotal: 15.8s\tremaining: 6.51s\n",
            "708:\tlearn: 0.0253221\ttotal: 15.8s\tremaining: 6.49s\n",
            "709:\tlearn: 0.0252899\ttotal: 15.8s\tremaining: 6.46s\n",
            "710:\tlearn: 0.0252589\ttotal: 15.8s\tremaining: 6.43s\n",
            "711:\tlearn: 0.0251967\ttotal: 15.9s\tremaining: 6.41s\n",
            "712:\tlearn: 0.0251623\ttotal: 15.9s\tremaining: 6.39s\n",
            "713:\tlearn: 0.0251333\ttotal: 15.9s\tremaining: 6.38s\n",
            "714:\tlearn: 0.0250938\ttotal: 15.9s\tremaining: 6.36s\n",
            "715:\tlearn: 0.0250474\ttotal: 16s\tremaining: 6.33s\n",
            "716:\tlearn: 0.0249992\ttotal: 16s\tremaining: 6.31s\n",
            "717:\tlearn: 0.0249704\ttotal: 16s\tremaining: 6.28s\n",
            "718:\tlearn: 0.0248699\ttotal: 16s\tremaining: 6.27s\n",
            "719:\tlearn: 0.0248260\ttotal: 16.1s\tremaining: 6.25s\n",
            "720:\tlearn: 0.0247621\ttotal: 16.1s\tremaining: 6.22s\n",
            "721:\tlearn: 0.0247299\ttotal: 16.1s\tremaining: 6.2s\n",
            "722:\tlearn: 0.0246755\ttotal: 16.1s\tremaining: 6.18s\n",
            "723:\tlearn: 0.0246439\ttotal: 16.1s\tremaining: 6.16s\n",
            "724:\tlearn: 0.0245659\ttotal: 16.2s\tremaining: 6.14s\n",
            "725:\tlearn: 0.0245241\ttotal: 16.2s\tremaining: 6.12s\n",
            "726:\tlearn: 0.0244470\ttotal: 16.2s\tremaining: 6.1s\n",
            "727:\tlearn: 0.0243948\ttotal: 16.3s\tremaining: 6.08s\n",
            "728:\tlearn: 0.0243703\ttotal: 16.3s\tremaining: 6.07s\n",
            "729:\tlearn: 0.0243294\ttotal: 16.3s\tremaining: 6.04s\n",
            "730:\tlearn: 0.0243041\ttotal: 16.4s\tremaining: 6.03s\n",
            "731:\tlearn: 0.0242902\ttotal: 16.4s\tremaining: 6s\n",
            "732:\tlearn: 0.0242538\ttotal: 16.4s\tremaining: 5.99s\n",
            "733:\tlearn: 0.0242178\ttotal: 16.5s\tremaining: 5.96s\n",
            "734:\tlearn: 0.0241767\ttotal: 16.5s\tremaining: 5.94s\n",
            "735:\tlearn: 0.0241093\ttotal: 16.5s\tremaining: 5.92s\n",
            "736:\tlearn: 0.0240676\ttotal: 16.5s\tremaining: 5.9s\n",
            "737:\tlearn: 0.0240275\ttotal: 16.6s\tremaining: 5.88s\n",
            "738:\tlearn: 0.0239901\ttotal: 16.6s\tremaining: 5.85s\n",
            "739:\tlearn: 0.0239597\ttotal: 16.6s\tremaining: 5.83s\n",
            "740:\tlearn: 0.0239434\ttotal: 16.6s\tremaining: 5.8s\n",
            "741:\tlearn: 0.0239029\ttotal: 16.6s\tremaining: 5.79s\n",
            "742:\tlearn: 0.0238658\ttotal: 16.7s\tremaining: 5.77s\n",
            "743:\tlearn: 0.0238461\ttotal: 16.7s\tremaining: 5.75s\n",
            "744:\tlearn: 0.0238208\ttotal: 16.7s\tremaining: 5.73s\n",
            "745:\tlearn: 0.0237801\ttotal: 16.8s\tremaining: 5.71s\n",
            "746:\tlearn: 0.0237469\ttotal: 16.8s\tremaining: 5.68s\n",
            "747:\tlearn: 0.0237154\ttotal: 16.8s\tremaining: 5.66s\n",
            "748:\tlearn: 0.0236821\ttotal: 16.8s\tremaining: 5.64s\n",
            "749:\tlearn: 0.0236161\ttotal: 16.8s\tremaining: 5.61s\n",
            "750:\tlearn: 0.0235340\ttotal: 16.9s\tremaining: 5.59s\n",
            "751:\tlearn: 0.0235042\ttotal: 16.9s\tremaining: 5.56s\n",
            "752:\tlearn: 0.0234974\ttotal: 16.9s\tremaining: 5.54s\n",
            "753:\tlearn: 0.0234748\ttotal: 16.9s\tremaining: 5.51s\n",
            "754:\tlearn: 0.0234332\ttotal: 16.9s\tremaining: 5.49s\n",
            "755:\tlearn: 0.0234161\ttotal: 17s\tremaining: 5.47s\n",
            "756:\tlearn: 0.0233846\ttotal: 17s\tremaining: 5.45s\n",
            "757:\tlearn: 0.0233408\ttotal: 17s\tremaining: 5.43s\n",
            "758:\tlearn: 0.0232773\ttotal: 17.1s\tremaining: 5.41s\n",
            "759:\tlearn: 0.0232270\ttotal: 17.1s\tremaining: 5.39s\n",
            "760:\tlearn: 0.0232026\ttotal: 17.1s\tremaining: 5.37s\n",
            "761:\tlearn: 0.0231628\ttotal: 17.1s\tremaining: 5.36s\n",
            "762:\tlearn: 0.0231445\ttotal: 17.2s\tremaining: 5.33s\n",
            "763:\tlearn: 0.0231216\ttotal: 17.2s\tremaining: 5.31s\n",
            "764:\tlearn: 0.0230728\ttotal: 17.2s\tremaining: 5.29s\n",
            "765:\tlearn: 0.0230334\ttotal: 17.2s\tremaining: 5.26s\n",
            "766:\tlearn: 0.0229956\ttotal: 17.3s\tremaining: 5.24s\n",
            "767:\tlearn: 0.0229228\ttotal: 17.3s\tremaining: 5.22s\n",
            "768:\tlearn: 0.0228925\ttotal: 17.3s\tremaining: 5.19s\n",
            "769:\tlearn: 0.0228153\ttotal: 17.3s\tremaining: 5.17s\n",
            "770:\tlearn: 0.0227804\ttotal: 17.3s\tremaining: 5.14s\n",
            "771:\tlearn: 0.0227488\ttotal: 17.3s\tremaining: 5.12s\n",
            "772:\tlearn: 0.0227208\ttotal: 17.4s\tremaining: 5.1s\n",
            "773:\tlearn: 0.0226988\ttotal: 17.4s\tremaining: 5.07s\n",
            "774:\tlearn: 0.0226540\ttotal: 17.4s\tremaining: 5.05s\n",
            "775:\tlearn: 0.0226210\ttotal: 17.4s\tremaining: 5.03s\n",
            "776:\tlearn: 0.0225942\ttotal: 17.4s\tremaining: 5s\n",
            "777:\tlearn: 0.0225547\ttotal: 17.5s\tremaining: 4.99s\n",
            "778:\tlearn: 0.0225363\ttotal: 17.5s\tremaining: 4.96s\n",
            "779:\tlearn: 0.0224928\ttotal: 17.5s\tremaining: 4.94s\n",
            "780:\tlearn: 0.0224413\ttotal: 17.5s\tremaining: 4.92s\n",
            "781:\tlearn: 0.0224250\ttotal: 17.5s\tremaining: 4.89s\n",
            "782:\tlearn: 0.0224121\ttotal: 17.6s\tremaining: 4.87s\n",
            "783:\tlearn: 0.0223808\ttotal: 17.6s\tremaining: 4.84s\n",
            "784:\tlearn: 0.0223620\ttotal: 17.6s\tremaining: 4.82s\n",
            "785:\tlearn: 0.0223259\ttotal: 17.6s\tremaining: 4.79s\n",
            "786:\tlearn: 0.0222937\ttotal: 17.6s\tremaining: 4.77s\n",
            "787:\tlearn: 0.0222253\ttotal: 17.6s\tremaining: 4.75s\n",
            "788:\tlearn: 0.0221748\ttotal: 17.7s\tremaining: 4.72s\n",
            "789:\tlearn: 0.0221479\ttotal: 17.7s\tremaining: 4.7s\n",
            "790:\tlearn: 0.0221279\ttotal: 17.7s\tremaining: 4.68s\n",
            "791:\tlearn: 0.0220996\ttotal: 17.8s\tremaining: 4.66s\n",
            "792:\tlearn: 0.0220650\ttotal: 17.8s\tremaining: 4.64s\n",
            "793:\tlearn: 0.0220350\ttotal: 17.8s\tremaining: 4.62s\n",
            "794:\tlearn: 0.0220174\ttotal: 17.8s\tremaining: 4.59s\n",
            "795:\tlearn: 0.0220038\ttotal: 17.9s\tremaining: 4.57s\n",
            "796:\tlearn: 0.0219807\ttotal: 17.9s\tremaining: 4.55s\n",
            "797:\tlearn: 0.0219419\ttotal: 17.9s\tremaining: 4.53s\n",
            "798:\tlearn: 0.0219033\ttotal: 17.9s\tremaining: 4.51s\n",
            "799:\tlearn: 0.0218782\ttotal: 17.9s\tremaining: 4.48s\n",
            "800:\tlearn: 0.0218242\ttotal: 18s\tremaining: 4.46s\n",
            "801:\tlearn: 0.0218035\ttotal: 18s\tremaining: 4.44s\n",
            "802:\tlearn: 0.0217865\ttotal: 18s\tremaining: 4.41s\n",
            "803:\tlearn: 0.0217704\ttotal: 18s\tremaining: 4.39s\n",
            "804:\tlearn: 0.0217367\ttotal: 18s\tremaining: 4.37s\n",
            "805:\tlearn: 0.0217130\ttotal: 18.1s\tremaining: 4.34s\n",
            "806:\tlearn: 0.0216946\ttotal: 18.1s\tremaining: 4.32s\n",
            "807:\tlearn: 0.0216573\ttotal: 18.1s\tremaining: 4.3s\n",
            "808:\tlearn: 0.0216335\ttotal: 18.1s\tremaining: 4.27s\n",
            "809:\tlearn: 0.0216046\ttotal: 18.1s\tremaining: 4.25s\n",
            "810:\tlearn: 0.0215846\ttotal: 18.1s\tremaining: 4.22s\n",
            "811:\tlearn: 0.0215768\ttotal: 18.1s\tremaining: 4.2s\n",
            "812:\tlearn: 0.0215545\ttotal: 18.1s\tremaining: 4.17s\n",
            "813:\tlearn: 0.0215357\ttotal: 18.1s\tremaining: 4.14s\n",
            "814:\tlearn: 0.0215187\ttotal: 18.1s\tremaining: 4.12s\n",
            "815:\tlearn: 0.0214939\ttotal: 18.2s\tremaining: 4.09s\n",
            "816:\tlearn: 0.0214544\ttotal: 18.2s\tremaining: 4.07s\n",
            "817:\tlearn: 0.0214032\ttotal: 18.2s\tremaining: 4.04s\n",
            "818:\tlearn: 0.0213596\ttotal: 18.2s\tremaining: 4.02s\n",
            "819:\tlearn: 0.0213258\ttotal: 18.2s\tremaining: 3.99s\n",
            "820:\tlearn: 0.0213069\ttotal: 18.2s\tremaining: 3.97s\n",
            "821:\tlearn: 0.0212824\ttotal: 18.2s\tremaining: 3.94s\n",
            "822:\tlearn: 0.0212680\ttotal: 18.2s\tremaining: 3.92s\n",
            "823:\tlearn: 0.0212105\ttotal: 18.2s\tremaining: 3.89s\n",
            "824:\tlearn: 0.0211928\ttotal: 18.2s\tremaining: 3.87s\n",
            "825:\tlearn: 0.0211533\ttotal: 18.3s\tremaining: 3.84s\n",
            "826:\tlearn: 0.0211277\ttotal: 18.3s\tremaining: 3.82s\n",
            "827:\tlearn: 0.0210943\ttotal: 18.3s\tremaining: 3.8s\n",
            "828:\tlearn: 0.0210655\ttotal: 18.3s\tremaining: 3.77s\n",
            "829:\tlearn: 0.0210244\ttotal: 18.3s\tremaining: 3.75s\n",
            "830:\tlearn: 0.0209788\ttotal: 18.3s\tremaining: 3.73s\n",
            "831:\tlearn: 0.0209226\ttotal: 18.4s\tremaining: 3.71s\n",
            "832:\tlearn: 0.0208701\ttotal: 18.4s\tremaining: 3.69s\n",
            "833:\tlearn: 0.0208519\ttotal: 18.4s\tremaining: 3.66s\n",
            "834:\tlearn: 0.0208168\ttotal: 18.4s\tremaining: 3.64s\n",
            "835:\tlearn: 0.0208006\ttotal: 18.4s\tremaining: 3.62s\n",
            "836:\tlearn: 0.0207840\ttotal: 18.5s\tremaining: 3.6s\n",
            "837:\tlearn: 0.0207443\ttotal: 18.5s\tremaining: 3.58s\n",
            "838:\tlearn: 0.0207131\ttotal: 18.5s\tremaining: 3.56s\n",
            "839:\tlearn: 0.0206499\ttotal: 18.6s\tremaining: 3.54s\n",
            "840:\tlearn: 0.0206271\ttotal: 18.6s\tremaining: 3.52s\n",
            "841:\tlearn: 0.0206016\ttotal: 18.6s\tremaining: 3.5s\n",
            "842:\tlearn: 0.0205655\ttotal: 18.7s\tremaining: 3.48s\n",
            "843:\tlearn: 0.0205421\ttotal: 18.7s\tremaining: 3.46s\n",
            "844:\tlearn: 0.0205042\ttotal: 18.7s\tremaining: 3.43s\n",
            "845:\tlearn: 0.0204851\ttotal: 18.8s\tremaining: 3.41s\n",
            "846:\tlearn: 0.0204617\ttotal: 18.8s\tremaining: 3.39s\n",
            "847:\tlearn: 0.0204475\ttotal: 18.8s\tremaining: 3.37s\n",
            "848:\tlearn: 0.0204285\ttotal: 18.8s\tremaining: 3.34s\n",
            "849:\tlearn: 0.0204105\ttotal: 18.8s\tremaining: 3.32s\n",
            "850:\tlearn: 0.0203860\ttotal: 18.8s\tremaining: 3.3s\n",
            "851:\tlearn: 0.0203387\ttotal: 18.9s\tremaining: 3.28s\n",
            "852:\tlearn: 0.0203123\ttotal: 18.9s\tremaining: 3.25s\n",
            "853:\tlearn: 0.0202529\ttotal: 18.9s\tremaining: 3.23s\n",
            "854:\tlearn: 0.0202171\ttotal: 18.9s\tremaining: 3.21s\n",
            "855:\tlearn: 0.0201952\ttotal: 18.9s\tremaining: 3.19s\n",
            "856:\tlearn: 0.0201343\ttotal: 19s\tremaining: 3.16s\n",
            "857:\tlearn: 0.0201159\ttotal: 19s\tremaining: 3.14s\n",
            "858:\tlearn: 0.0200826\ttotal: 19s\tremaining: 3.12s\n",
            "859:\tlearn: 0.0200207\ttotal: 19s\tremaining: 3.09s\n",
            "860:\tlearn: 0.0200059\ttotal: 19s\tremaining: 3.07s\n",
            "861:\tlearn: 0.0199850\ttotal: 19.1s\tremaining: 3.05s\n",
            "862:\tlearn: 0.0199638\ttotal: 19.1s\tremaining: 3.03s\n",
            "863:\tlearn: 0.0199356\ttotal: 19.1s\tremaining: 3.01s\n",
            "864:\tlearn: 0.0199173\ttotal: 19.1s\tremaining: 2.98s\n",
            "865:\tlearn: 0.0199077\ttotal: 19.2s\tremaining: 2.96s\n",
            "866:\tlearn: 0.0198842\ttotal: 19.2s\tremaining: 2.94s\n",
            "867:\tlearn: 0.0198756\ttotal: 19.2s\tremaining: 2.92s\n",
            "868:\tlearn: 0.0198633\ttotal: 19.2s\tremaining: 2.9s\n",
            "869:\tlearn: 0.0198040\ttotal: 19.2s\tremaining: 2.87s\n",
            "870:\tlearn: 0.0197567\ttotal: 19.3s\tremaining: 2.85s\n",
            "871:\tlearn: 0.0197206\ttotal: 19.3s\tremaining: 2.83s\n",
            "872:\tlearn: 0.0196839\ttotal: 19.3s\tremaining: 2.81s\n",
            "873:\tlearn: 0.0196551\ttotal: 19.3s\tremaining: 2.78s\n",
            "874:\tlearn: 0.0196379\ttotal: 19.3s\tremaining: 2.76s\n",
            "875:\tlearn: 0.0196126\ttotal: 19.3s\tremaining: 2.73s\n",
            "876:\tlearn: 0.0195858\ttotal: 19.3s\tremaining: 2.71s\n",
            "877:\tlearn: 0.0195668\ttotal: 19.3s\tremaining: 2.69s\n",
            "878:\tlearn: 0.0195427\ttotal: 19.4s\tremaining: 2.66s\n",
            "879:\tlearn: 0.0195073\ttotal: 19.4s\tremaining: 2.64s\n",
            "880:\tlearn: 0.0194909\ttotal: 19.4s\tremaining: 2.62s\n",
            "881:\tlearn: 0.0194702\ttotal: 19.4s\tremaining: 2.6s\n",
            "882:\tlearn: 0.0194556\ttotal: 19.4s\tremaining: 2.57s\n",
            "883:\tlearn: 0.0194206\ttotal: 19.4s\tremaining: 2.55s\n",
            "884:\tlearn: 0.0193791\ttotal: 19.5s\tremaining: 2.53s\n",
            "885:\tlearn: 0.0193517\ttotal: 19.5s\tremaining: 2.5s\n",
            "886:\tlearn: 0.0193125\ttotal: 19.5s\tremaining: 2.48s\n",
            "887:\tlearn: 0.0192968\ttotal: 19.5s\tremaining: 2.46s\n",
            "888:\tlearn: 0.0192564\ttotal: 19.5s\tremaining: 2.43s\n",
            "889:\tlearn: 0.0192128\ttotal: 19.5s\tremaining: 2.41s\n",
            "890:\tlearn: 0.0191874\ttotal: 19.5s\tremaining: 2.39s\n",
            "891:\tlearn: 0.0191637\ttotal: 19.5s\tremaining: 2.36s\n",
            "892:\tlearn: 0.0191526\ttotal: 19.5s\tremaining: 2.34s\n",
            "893:\tlearn: 0.0191351\ttotal: 19.5s\tremaining: 2.32s\n",
            "894:\tlearn: 0.0191051\ttotal: 19.6s\tremaining: 2.29s\n",
            "895:\tlearn: 0.0190801\ttotal: 19.6s\tremaining: 2.27s\n",
            "896:\tlearn: 0.0190522\ttotal: 19.6s\tremaining: 2.25s\n",
            "897:\tlearn: 0.0190253\ttotal: 19.6s\tremaining: 2.23s\n",
            "898:\tlearn: 0.0189956\ttotal: 19.6s\tremaining: 2.2s\n",
            "899:\tlearn: 0.0189440\ttotal: 19.6s\tremaining: 2.18s\n",
            "900:\tlearn: 0.0189212\ttotal: 19.6s\tremaining: 2.16s\n",
            "901:\tlearn: 0.0189042\ttotal: 19.6s\tremaining: 2.13s\n",
            "902:\tlearn: 0.0188871\ttotal: 19.6s\tremaining: 2.11s\n",
            "903:\tlearn: 0.0188725\ttotal: 19.6s\tremaining: 2.09s\n",
            "904:\tlearn: 0.0188590\ttotal: 19.7s\tremaining: 2.06s\n",
            "905:\tlearn: 0.0188363\ttotal: 19.7s\tremaining: 2.04s\n",
            "906:\tlearn: 0.0188213\ttotal: 19.7s\tremaining: 2.02s\n",
            "907:\tlearn: 0.0187765\ttotal: 19.7s\tremaining: 1.99s\n",
            "908:\tlearn: 0.0187532\ttotal: 19.7s\tremaining: 1.97s\n",
            "909:\tlearn: 0.0187365\ttotal: 19.7s\tremaining: 1.95s\n",
            "910:\tlearn: 0.0187020\ttotal: 19.7s\tremaining: 1.93s\n",
            "911:\tlearn: 0.0186779\ttotal: 19.8s\tremaining: 1.91s\n",
            "912:\tlearn: 0.0186663\ttotal: 19.8s\tremaining: 1.88s\n",
            "913:\tlearn: 0.0186281\ttotal: 19.8s\tremaining: 1.86s\n",
            "914:\tlearn: 0.0185958\ttotal: 19.8s\tremaining: 1.84s\n",
            "915:\tlearn: 0.0185777\ttotal: 19.8s\tremaining: 1.81s\n",
            "916:\tlearn: 0.0185560\ttotal: 19.8s\tremaining: 1.79s\n",
            "917:\tlearn: 0.0185353\ttotal: 19.8s\tremaining: 1.77s\n",
            "918:\tlearn: 0.0185178\ttotal: 19.8s\tremaining: 1.75s\n",
            "919:\tlearn: 0.0184984\ttotal: 19.8s\tremaining: 1.73s\n",
            "920:\tlearn: 0.0184673\ttotal: 19.9s\tremaining: 1.7s\n",
            "921:\tlearn: 0.0184462\ttotal: 19.9s\tremaining: 1.68s\n",
            "922:\tlearn: 0.0184174\ttotal: 19.9s\tremaining: 1.66s\n",
            "923:\tlearn: 0.0183986\ttotal: 19.9s\tremaining: 1.64s\n",
            "924:\tlearn: 0.0183720\ttotal: 19.9s\tremaining: 1.62s\n",
            "925:\tlearn: 0.0183295\ttotal: 20s\tremaining: 1.59s\n",
            "926:\tlearn: 0.0183130\ttotal: 20s\tremaining: 1.57s\n",
            "927:\tlearn: 0.0182869\ttotal: 20s\tremaining: 1.55s\n",
            "928:\tlearn: 0.0182382\ttotal: 20s\tremaining: 1.53s\n",
            "929:\tlearn: 0.0182148\ttotal: 20s\tremaining: 1.51s\n",
            "930:\tlearn: 0.0181636\ttotal: 20.1s\tremaining: 1.49s\n",
            "931:\tlearn: 0.0181161\ttotal: 20.1s\tremaining: 1.46s\n",
            "932:\tlearn: 0.0180962\ttotal: 20.1s\tremaining: 1.44s\n",
            "933:\tlearn: 0.0180709\ttotal: 20.1s\tremaining: 1.42s\n",
            "934:\tlearn: 0.0180459\ttotal: 20.1s\tremaining: 1.4s\n",
            "935:\tlearn: 0.0180205\ttotal: 20.1s\tremaining: 1.38s\n",
            "936:\tlearn: 0.0179904\ttotal: 20.2s\tremaining: 1.36s\n",
            "937:\tlearn: 0.0179700\ttotal: 20.2s\tremaining: 1.33s\n",
            "938:\tlearn: 0.0179378\ttotal: 20.2s\tremaining: 1.31s\n",
            "939:\tlearn: 0.0179138\ttotal: 20.2s\tremaining: 1.29s\n",
            "940:\tlearn: 0.0178974\ttotal: 20.3s\tremaining: 1.27s\n",
            "941:\tlearn: 0.0178611\ttotal: 20.3s\tremaining: 1.25s\n",
            "942:\tlearn: 0.0178295\ttotal: 20.3s\tremaining: 1.23s\n",
            "943:\tlearn: 0.0178153\ttotal: 20.3s\tremaining: 1.2s\n",
            "944:\tlearn: 0.0178004\ttotal: 20.3s\tremaining: 1.18s\n",
            "945:\tlearn: 0.0177886\ttotal: 20.3s\tremaining: 1.16s\n",
            "946:\tlearn: 0.0177406\ttotal: 20.4s\tremaining: 1.14s\n",
            "947:\tlearn: 0.0177271\ttotal: 20.4s\tremaining: 1.12s\n",
            "948:\tlearn: 0.0176772\ttotal: 20.4s\tremaining: 1.1s\n",
            "949:\tlearn: 0.0176281\ttotal: 20.4s\tremaining: 1.07s\n",
            "950:\tlearn: 0.0176067\ttotal: 20.4s\tremaining: 1.05s\n",
            "951:\tlearn: 0.0175886\ttotal: 20.5s\tremaining: 1.03s\n",
            "952:\tlearn: 0.0175762\ttotal: 20.5s\tremaining: 1.01s\n",
            "953:\tlearn: 0.0175468\ttotal: 20.6s\tremaining: 991ms\n",
            "954:\tlearn: 0.0175299\ttotal: 20.6s\tremaining: 969ms\n",
            "955:\tlearn: 0.0175149\ttotal: 20.6s\tremaining: 948ms\n",
            "956:\tlearn: 0.0174938\ttotal: 20.6s\tremaining: 926ms\n",
            "957:\tlearn: 0.0174733\ttotal: 20.6s\tremaining: 904ms\n",
            "958:\tlearn: 0.0174479\ttotal: 20.7s\tremaining: 883ms\n",
            "959:\tlearn: 0.0174097\ttotal: 20.7s\tremaining: 861ms\n",
            "960:\tlearn: 0.0173615\ttotal: 20.7s\tremaining: 839ms\n",
            "961:\tlearn: 0.0173339\ttotal: 20.7s\tremaining: 818ms\n",
            "962:\tlearn: 0.0173208\ttotal: 20.7s\tremaining: 796ms\n",
            "963:\tlearn: 0.0173067\ttotal: 20.7s\tremaining: 775ms\n",
            "964:\tlearn: 0.0172786\ttotal: 20.8s\tremaining: 754ms\n",
            "965:\tlearn: 0.0172521\ttotal: 20.8s\tremaining: 732ms\n",
            "966:\tlearn: 0.0172333\ttotal: 20.8s\tremaining: 710ms\n",
            "967:\tlearn: 0.0172205\ttotal: 20.8s\tremaining: 689ms\n",
            "968:\tlearn: 0.0171880\ttotal: 20.9s\tremaining: 667ms\n",
            "969:\tlearn: 0.0171639\ttotal: 20.9s\tremaining: 646ms\n",
            "970:\tlearn: 0.0171414\ttotal: 20.9s\tremaining: 624ms\n",
            "971:\tlearn: 0.0171164\ttotal: 20.9s\tremaining: 603ms\n",
            "972:\tlearn: 0.0170968\ttotal: 20.9s\tremaining: 581ms\n",
            "973:\tlearn: 0.0170822\ttotal: 21s\tremaining: 560ms\n",
            "974:\tlearn: 0.0170588\ttotal: 21s\tremaining: 538ms\n",
            "975:\tlearn: 0.0170455\ttotal: 21s\tremaining: 516ms\n",
            "976:\tlearn: 0.0170278\ttotal: 21s\tremaining: 495ms\n",
            "977:\tlearn: 0.0170143\ttotal: 21s\tremaining: 473ms\n",
            "978:\tlearn: 0.0170099\ttotal: 21.1s\tremaining: 452ms\n",
            "979:\tlearn: 0.0169623\ttotal: 21.1s\tremaining: 431ms\n",
            "980:\tlearn: 0.0169293\ttotal: 21.1s\tremaining: 409ms\n",
            "981:\tlearn: 0.0168953\ttotal: 21.1s\tremaining: 387ms\n",
            "982:\tlearn: 0.0168803\ttotal: 21.2s\tremaining: 366ms\n",
            "983:\tlearn: 0.0168591\ttotal: 21.2s\tremaining: 345ms\n",
            "984:\tlearn: 0.0168449\ttotal: 21.2s\tremaining: 323ms\n",
            "985:\tlearn: 0.0168184\ttotal: 21.2s\tremaining: 301ms\n",
            "986:\tlearn: 0.0167854\ttotal: 21.2s\tremaining: 280ms\n",
            "987:\tlearn: 0.0167575\ttotal: 21.3s\tremaining: 258ms\n",
            "988:\tlearn: 0.0167317\ttotal: 21.3s\tremaining: 237ms\n",
            "989:\tlearn: 0.0167201\ttotal: 21.3s\tremaining: 215ms\n",
            "990:\tlearn: 0.0167078\ttotal: 21.3s\tremaining: 194ms\n",
            "991:\tlearn: 0.0166880\ttotal: 21.3s\tremaining: 172ms\n",
            "992:\tlearn: 0.0166772\ttotal: 21.3s\tremaining: 150ms\n",
            "993:\tlearn: 0.0166512\ttotal: 21.3s\tremaining: 129ms\n",
            "994:\tlearn: 0.0166305\ttotal: 21.4s\tremaining: 107ms\n",
            "995:\tlearn: 0.0166150\ttotal: 21.4s\tremaining: 85.9ms\n",
            "996:\tlearn: 0.0165886\ttotal: 21.4s\tremaining: 64.5ms\n",
            "997:\tlearn: 0.0165690\ttotal: 21.5s\tremaining: 43ms\n",
            "998:\tlearn: 0.0165425\ttotal: 21.5s\tremaining: 21.5ms\n",
            "999:\tlearn: 0.0165286\ttotal: 21.5s\tremaining: 0us\n"
          ]
        }
      ]
    },
    {
      "cell_type": "code",
      "source": [
        "y_pred_cat = model2.predict(X_test) "
      ],
      "metadata": {
        "id": "cRS-O1zGVygz"
      },
      "execution_count": 58,
      "outputs": []
    },
    {
      "cell_type": "code",
      "source": [
        "#scores\n",
        "print(\"Accuracy Catboost:\",metrics.accuracy_score(y_test, y_pred_cat))\n",
        "print(\"Precision Catboost:\",metrics.precision_score(y_test, y_pred_cat))\n",
        "print(\"Recall Catboost:\",metrics.recall_score(y_test, y_pred_cat))\n",
        "print(\"F1 Score Catboost:\",metrics.f1_score(y_test, y_pred_cat))"
      ],
      "metadata": {
        "colab": {
          "base_uri": "https://localhost:8080/"
        },
        "id": "7LmqpGc8V9jj",
        "outputId": "9936e339-ff15-4284-cdf0-3756cdf45ab2"
      },
      "execution_count": 59,
      "outputs": [
        {
          "output_type": "stream",
          "name": "stdout",
          "text": [
            "Accuracy Catboost: 0.9594594594594594\n",
            "Precision Catboost: 0.9897959183673469\n",
            "Recall Catboost: 0.8981481481481481\n",
            "F1 Score Catboost: 0.941747572815534\n"
          ]
        }
      ]
    },
    {
      "cell_type": "code",
      "source": [
        "#CM matrix\n",
        "matrix_cat = confusion_matrix(y_test, y_pred_cat)\n",
        "cm_cat = pd.DataFrame(matrix_cat, index=['not_fraud', 'fraud'], columns=['not_fraud', 'fraud'])\n",
        "\n",
        "sns.heatmap(cm_cat, annot=True, cbar=None, cmap=\"Blues\", fmt = 'g')\n",
        "plt.title(\"Confusion Matrix Catboost\"), plt.tight_layout()\n",
        "plt.ylabel(\"True Class\"), plt.xlabel(\"Predicted Class\")\n",
        "plt.show()"
      ],
      "metadata": {
        "colab": {
          "base_uri": "https://localhost:8080/",
          "height": 311
        },
        "id": "HEBUHv9DWKEh",
        "outputId": "837fd1cb-adf4-40a7-bd13-cc12d5793196"
      },
      "execution_count": 60,
      "outputs": [
        {
          "output_type": "display_data",
          "data": {
            "text/plain": [
              "<Figure size 432x288 with 1 Axes>"
            ],
            "image/png": "[encoded data removed]"
          },
          "metadata": {
            "needs_background": "light"
          }
        }
      ]
    },
    {
      "cell_type": "code",
      "source": [
        "#AUC\n",
        "y_pred_cat_proba = model2.predict_proba(X_test)[::,1]\n",
        "fpr_cat, tpr_cat, _ = metrics.roc_curve(y_test,  y_pred_cat_proba)\n",
        "auc_cat = metrics.roc_auc_score(y_test, y_pred_cat_proba)\n",
        "print(\"AUC Catboost :\", auc_cat)"
      ],
      "metadata": {
        "colab": {
          "base_uri": "https://localhost:8080/"
        },
        "id": "CKaGMjcHWXPj",
        "outputId": "90bb94c5-055f-44a9-afc9-316172d3842b"
      },
      "execution_count": 61,
      "outputs": [
        {
          "output_type": "stream",
          "name": "stdout",
          "text": [
            "AUC Catboost : 0.9757190701339638\n"
          ]
        }
      ]
    },
    {
      "cell_type": "code",
      "source": [
        "#ROC\n",
        "plt.plot(fpr_cat,tpr_cat,label=\"Catboost, auc={:.3f})\".format(auc_cat))\n",
        "plt.plot([0, 1], [0, 1], 'k--')\n",
        "plt.xlabel('False positive rate')\n",
        "plt.ylabel('True positive rate')\n",
        "plt.title('Catboost ROC curve')\n",
        "plt.legend(loc=4)\n",
        "plt.show()"
      ],
      "metadata": {
        "colab": {
          "base_uri": "https://localhost:8080/",
          "height": 295
        },
        "id": "Ahtr5Du9Wmw6",
        "outputId": "92b5c098-65c0-475c-96de-f9a1f4929686"
      },
      "execution_count": 78,
      "outputs": [
        {
          "output_type": "display_data",
          "data": {
            "text/plain": [
              "<Figure size 432x288 with 1 Axes>"
            ],
            "image/png": "[encoded data removed]"
          },
          "metadata": {
            "needs_background": "light"
          }
        }
      ]
    },
    {
      "cell_type": "code",
      "source": [
        "cat_precision, cat_recall, _ = precision_recall_curve(y_test, y_pred_cat_proba)\n",
        "no_skill = len(y_test[y_test==1]) / len(y_test)\n",
        "plt.plot([0, 1], [no_skill, no_skill], linestyle='--', color='black', label='No Skill')\n",
        "plt.plot(cat_recall, cat_precision, color='orange', label='Catboost')\n",
        "plt.xlabel('Recall')\n",
        "plt.ylabel('Precision')\n",
        "plt.title('Precision-Recall curve')\n",
        "plt.legend()\n",
        "plt.show()"
      ],
      "metadata": {
        "colab": {
          "base_uri": "https://localhost:8080/",
          "height": 295
        },
        "id": "PJGCmLnEWub_",
        "outputId": "6c51b1d5-b076-4a0e-dd15-036fe6d249a5"
      },
      "execution_count": 63,
      "outputs": [
        {
          "output_type": "display_data",
          "data": {
            "text/plain": [
              "<Figure size 432x288 with 1 Axes>"
            ],
            "image/png": "[encoded data removed]"
          },
          "metadata": {
            "needs_background": "light"
          }
        }
      ]
    },
    {
      "cell_type": "markdown",
      "source": [
        "##LigthGBM"
      ],
      "metadata": {
        "id": "PaKY2p4xW636"
      }
    },
    {
      "cell_type": "code",
      "source": [
        "from lightgbm import LGBMClassifier\n",
        "\n",
        "model3 = LGBMClassifier()\n",
        "lgbm_clf = model3.fit(X_train, y_train)"
      ],
      "metadata": {
        "id": "XDYtAl3-W9cl"
      },
      "execution_count": 68,
      "outputs": []
    },
    {
      "cell_type": "code",
      "source": [
        "y_pred_lgbm = model3.predict(X_test) "
      ],
      "metadata": {
        "id": "3GWKqxljW9X1"
      },
      "execution_count": 69,
      "outputs": []
    },
    {
      "cell_type": "code",
      "source": [
        "#scores\n",
        "print(\"Accuracy lgbm:\",metrics.accuracy_score(y_test, y_pred_lgbm))\n",
        "print(\"Precision lgbm:\",metrics.precision_score(y_test, y_pred_lgbm))\n",
        "print(\"Recall lgbm:\",metrics.recall_score(y_test, y_pred_lgbm))\n",
        "print(\"F1 Score lgbm:\",metrics.f1_score(y_test, y_pred_lgbm))"
      ],
      "metadata": {
        "colab": {
          "base_uri": "https://localhost:8080/"
        },
        "id": "iMSoRv0lXx0x",
        "outputId": "79ae2adc-07a0-4e81-cf86-784b3acf7173"
      },
      "execution_count": 71,
      "outputs": [
        {
          "output_type": "stream",
          "name": "stdout",
          "text": [
            "Accuracy lgbm: 0.956081081081081\n",
            "Precision lgbm: 0.9896907216494846\n",
            "Recall lgbm: 0.8888888888888888\n",
            "F1 Score lgbm: 0.9365853658536585\n"
          ]
        }
      ]
    },
    {
      "cell_type": "code",
      "source": [
        "#CM matrix\n",
        "matrix_lgbm = confusion_matrix(y_test, y_pred_lgbm)\n",
        "cm_lgbm = pd.DataFrame(matrix_lgbm, index=['not_fraud', 'fraud'], columns=['not_fraud', 'fraud'])\n",
        "\n",
        "sns.heatmap(cm_lgbm, annot=True, cbar=None, cmap=\"Blues\", fmt = 'g')\n",
        "plt.title(\"Confusion Matrix Lightgmb\"), plt.tight_layout()\n",
        "plt.ylabel(\"True Class\"), plt.xlabel(\"Predicted Class\")\n",
        "plt.show()"
      ],
      "metadata": {
        "colab": {
          "base_uri": "https://localhost:8080/",
          "height": 311
        },
        "id": "xSCbQLohX-_J",
        "outputId": "2d004a00-4c44-4286-9737-ec2c9a420f40"
      },
      "execution_count": 73,
      "outputs": [
        {
          "output_type": "display_data",
          "data": {
            "text/plain": [
              "<Figure size 432x288 with 1 Axes>"
            ],
            "image/png": "[encoded data removed]"
          },
          "metadata": {
            "needs_background": "light"
          }
        }
      ]
    },
    {
      "cell_type": "code",
      "source": [
        "#AUC\n",
        "y_pred_lgbm_proba = model3.predict_proba(X_test)[::,1]\n",
        "fpr_lgbm, tpr_lgbm, _ = metrics.roc_curve(y_test,  y_pred_lgbm_proba)\n",
        "auc_lgbm = metrics.roc_auc_score(y_test, y_pred_lgbm_proba)\n",
        "print(\"AUC Ligthgbm :\", auc_lgbm)"
      ],
      "metadata": {
        "colab": {
          "base_uri": "https://localhost:8080/"
        },
        "id": "LpVPoKuMYNvm",
        "outputId": "77cc171a-9fd1-4ec0-c01f-413bb95d6539"
      },
      "execution_count": 74,
      "outputs": [
        {
          "output_type": "stream",
          "name": "stdout",
          "text": [
            "AUC Ligthgbm : 0.976063829787234\n"
          ]
        }
      ]
    },
    {
      "cell_type": "code",
      "source": [
        "#ROC\n",
        "plt.plot(fpr_lgbm,tpr_lgbm,label=\"Ligthgbm, auc={:.3f})\".format(auc_lgbm))\n",
        "plt.plot([0, 1], [0, 1], 'k--')\n",
        "plt.xlabel('False positive rate')\n",
        "plt.ylabel('True positive rate')\n",
        "plt.title('Ligthgbm ROC curve')\n",
        "plt.legend(loc=4)\n",
        "plt.show()"
      ],
      "metadata": {
        "colab": {
          "base_uri": "https://localhost:8080/",
          "height": 295
        },
        "id": "EdKcHn9fYmNd",
        "outputId": "4f57512c-0e6f-422b-936c-0668fc53ec1d"
      },
      "execution_count": 76,
      "outputs": [
        {
          "output_type": "display_data",
          "data": {
            "text/plain": [
              "<Figure size 432x288 with 1 Axes>"
            ],
            "image/png": "[encoded data removed]"
          },
          "metadata": {
            "needs_background": "light"
          }
        }
      ]
    },
    {
      "cell_type": "code",
      "source": [
        "lgbm_precision, lgbm_recall, _ = precision_recall_curve(y_test, y_pred_lgbm_proba)\n",
        "no_skill = len(y_test[y_test==1]) / len(y_test)\n",
        "plt.plot([0, 1], [no_skill, no_skill], linestyle='--', color='black', label='No Skill')\n",
        "plt.plot(lgbm_recall, lgbm_precision, color='orange', label='lgbm')\n",
        "plt.xlabel('Recall')\n",
        "plt.ylabel('Precision')\n",
        "plt.title('Precision-Recall curve')\n",
        "plt.legend()\n",
        "plt.show()"
      ],
      "metadata": {
        "colab": {
          "base_uri": "https://localhost:8080/",
          "height": 295
        },
        "id": "9Ic1uyMBYw_U",
        "outputId": "5fcef42d-d6b4-4d7d-cf1c-1642670a78b2"
      },
      "execution_count": 77,
      "outputs": [
        {
          "output_type": "display_data",
          "data": {
            "text/plain": [
              "<Figure size 432x288 with 1 Axes>"
            ],
            "image/png": "[encoded data removed]"
          },
          "metadata": {
            "needs_background": "light"
          }
        }
      ]
    },
    {
      "cell_type": "markdown",
      "source": [
        "#MLP Classification"
      ],
      "metadata": {
        "id": "uw14BaRSaSAp"
      }
    },
    {
      "cell_type": "code",
      "source": [
        "from sklearn.neural_network import MLPClassifier\n",
        "model4 = MLPClassifier(solver='lbfgs', hidden_layer_sizes=(100,100), random_state=2)\n",
        "mlp = model4.fit(X_train, y_train)"
      ],
      "metadata": {
        "id": "sOXU7bIQaUfS"
      },
      "execution_count": 84,
      "outputs": []
    },
    {
      "cell_type": "code",
      "source": [
        "model4.get_params(deep=True)"
      ],
      "metadata": {
        "colab": {
          "base_uri": "https://localhost:8080/"
        },
        "id": "knNH2imSaiPZ",
        "outputId": "32b6c786-3f5c-4249-ae00-b638db0d1183"
      },
      "execution_count": 85,
      "outputs": [
        {
          "output_type": "execute_result",
          "data": {
            "text/plain": [
              "{'activation': 'relu',\n",
              " 'alpha': 0.0001,\n",
              " 'batch_size': 'auto',\n",
              " 'beta_1': 0.9,\n",
              " 'beta_2': 0.999,\n",
              " 'early_stopping': False,\n",
              " 'epsilon': 1e-08,\n",
              " 'hidden_layer_sizes': (100, 100),\n",
              " 'learning_rate': 'constant',\n",
              " 'learning_rate_init': 0.001,\n",
              " 'max_fun': 15000,\n",
              " 'max_iter': 200,\n",
              " 'momentum': 0.9,\n",
              " 'n_iter_no_change': 10,\n",
              " 'nesterovs_momentum': True,\n",
              " 'power_t': 0.5,\n",
              " 'random_state': 2,\n",
              " 'shuffle': True,\n",
              " 'solver': 'lbfgs',\n",
              " 'tol': 0.0001,\n",
              " 'validation_fraction': 0.1,\n",
              " 'verbose': False,\n",
              " 'warm_start': False}"
            ]
          },
          "metadata": {},
          "execution_count": 85
        }
      ]
    },
    {
      "cell_type": "code",
      "source": [
        "y_pred_mlp = model4.predict(X_test)"
      ],
      "metadata": {
        "id": "1w2ljB2tamGx"
      },
      "execution_count": 86,
      "outputs": []
    },
    {
      "cell_type": "code",
      "source": [
        "#scores\n",
        "print(\"Accuracy MLP:\",metrics.accuracy_score(y_test, y_pred_mlp))\n",
        "print(\"Precision MLP:\",metrics.precision_score(y_test, y_pred_mlp))\n",
        "print(\"Recall MLP:\",metrics.recall_score(y_test, y_pred_mlp))\n",
        "print(\"F1 Score MLP:\",metrics.f1_score(y_test, y_pred_mlp))"
      ],
      "metadata": {
        "colab": {
          "base_uri": "https://localhost:8080/"
        },
        "id": "PTpR1nmiapT-",
        "outputId": "462b6e95-568e-4524-83dd-c7a6446cb7b0"
      },
      "execution_count": 87,
      "outputs": [
        {
          "output_type": "stream",
          "name": "stdout",
          "text": [
            "Accuracy MLP: 0.9493243243243243\n",
            "Precision MLP: 0.9514563106796117\n",
            "Recall MLP: 0.9074074074074074\n",
            "F1 Score MLP: 0.9289099526066351\n"
          ]
        }
      ]
    },
    {
      "cell_type": "code",
      "source": [
        "#CM matrix\n",
        "matrix_mlp = confusion_matrix(y_test, y_pred_mlp)\n",
        "cm_mlp = pd.DataFrame(matrix_mlp, index=['not_fraud', 'fraud'], columns=['not_fraud', 'fraud'])\n",
        "\n",
        "sns.heatmap(cm_mlp, annot=True, cbar=None, cmap=\"Blues\", fmt = 'g')\n",
        "plt.title(\"Confusion Matrix MLP\"), plt.tight_layout()\n",
        "plt.ylabel(\"True Class\"), plt.xlabel(\"Predicted Class\")\n",
        "plt.show()"
      ],
      "metadata": {
        "colab": {
          "base_uri": "https://localhost:8080/",
          "height": 311
        },
        "id": "DlgVXaleasBT",
        "outputId": "4f4b44d3-d816-4982-fa81-ebf4518cd518"
      },
      "execution_count": 88,
      "outputs": [
        {
          "output_type": "display_data",
          "data": {
            "text/plain": [
              "<Figure size 432x288 with 1 Axes>"
            ],
            "image/png": "[encoded data removed]"
          },
          "metadata": {
            "needs_background": "light"
          }
        }
      ]
    },
    {
      "cell_type": "code",
      "source": [
        "#AUC\n",
        "y_pred_mlp_proba = model4.predict_proba(X_test)[::,1]\n",
        "fpr_mlp, tpr_mlp, _ = metrics.roc_curve(y_test,  y_pred_mlp_proba)\n",
        "auc_mlp = metrics.roc_auc_score(y_test, y_pred_mlp_proba)\n",
        "print(\"AUC MLP :\", auc_mlp)"
      ],
      "metadata": {
        "colab": {
          "base_uri": "https://localhost:8080/"
        },
        "id": "xFv40ArtauA1",
        "outputId": "0a821d4d-63d0-418b-958b-96fa30ecb19a"
      },
      "execution_count": 90,
      "outputs": [
        {
          "output_type": "stream",
          "name": "stdout",
          "text": [
            "AUC MLP : 0.9836485421591805\n"
          ]
        }
      ]
    },
    {
      "cell_type": "code",
      "source": [
        "#ROC\n",
        "plt.plot(fpr_mlp,tpr_mlp,label=\"MLPC, auc={:.3f})\".format(auc_mlp))\n",
        "plt.plot([0, 1], [0, 1], 'k--')\n",
        "plt.xlabel('False positive rate')\n",
        "plt.ylabel('True positive rate')\n",
        "plt.title('Multilayer Perceptron ROC curve')\n",
        "plt.legend(loc=4)\n",
        "plt.show()"
      ],
      "metadata": {
        "colab": {
          "base_uri": "https://localhost:8080/",
          "height": 295
        },
        "id": "CmBcMKbta0hW",
        "outputId": "641bbcbd-4fdf-4169-d72d-9e762858d532"
      },
      "execution_count": 91,
      "outputs": [
        {
          "output_type": "display_data",
          "data": {
            "text/plain": [
              "<Figure size 432x288 with 1 Axes>"
            ],
            "image/png": "[encoded data removed]"
          },
          "metadata": {
            "needs_background": "light"
          }
        }
      ]
    },
    {
      "cell_type": "code",
      "source": [
        "mlp_precision, mlp_recall, _ = precision_recall_curve(y_test, y_pred_mlp_proba)\n",
        "no_skill = len(y_test[y_test==1]) / len(y_test)\n",
        "plt.plot([0, 1], [no_skill, no_skill], linestyle='--', color='black', label='No Skill')\n",
        "plt.plot(mlp_recall, mlp_precision, color='orange', label='MLP')\n",
        "plt.xlabel('Recall')\n",
        "plt.ylabel('Precision')\n",
        "plt.title('Precision-Recall curve')\n",
        "plt.legend()\n",
        "plt.show()"
      ],
      "metadata": {
        "colab": {
          "base_uri": "https://localhost:8080/",
          "height": 295
        },
        "id": "6_DdKUnIa26n",
        "outputId": "3e8a35b3-0507-4e31-c3d6-b5903119243c"
      },
      "execution_count": 92,
      "outputs": [
        {
          "output_type": "display_data",
          "data": {
            "text/plain": [
              "<Figure size 432x288 with 1 Axes>"
            ],
            "image/png": "[encoded data removed]"
          },
          "metadata": {
            "needs_background": "light"
          }
        }
      ]
    },
    {
      "cell_type": "markdown",
      "source": [
        "##ROC and Precision Plot for XGboost, Catboost, LightGBM and MLP Classifier"
      ],
      "metadata": {
        "id": "wkaoNMDiZF0N"
      }
    },
    {
      "cell_type": "code",
      "source": [
        "plt.plot(fpr_xgb,tpr_xgb,label=\"XGBoost, auc={:.3f})\".format(auc_xgb))\n",
        "plt.plot(fpr_lgbm,tpr_lgbm,label=\"Ligthgbm, auc={:.3f})\".format(auc_lgbm))\n",
        "plt.plot(fpr_cat,tpr_cat,label=\"Catboost, auc={:.3f})\".format(auc_xgb))\n",
        "plt.plot(fpr_mlp,tpr_mlp,label=\"MLPC, auc={:.3f})\".format(auc_mlp))\n",
        "plt.plot([0, 1], [0, 1], 'k--')\n",
        "plt.xlabel('False positive rate')\n",
        "plt.ylabel('True positive rate')\n",
        "plt.title('XGBoost ROC curve')\n",
        "plt.legend(loc=4)\n",
        "plt.show()"
      ],
      "metadata": {
        "colab": {
          "base_uri": "https://localhost:8080/",
          "height": 295
        },
        "id": "0dP7eonHZIoy",
        "outputId": "b941e062-aa6f-47b5-d3b3-8ecf29bad089"
      },
      "execution_count": 93,
      "outputs": [
        {
          "output_type": "display_data",
          "data": {
            "text/plain": [
              "<Figure size 432x288 with 1 Axes>"
            ],
            "image/png": "[encoded data removed]"
          },
          "metadata": {
            "needs_background": "light"
          }
        }
      ]
    },
    {
      "cell_type": "code",
      "source": [
        "xgb_precision, xgb_recall, _ = precision_recall_curve(y_test, y_pred_xgb_proba)\n",
        "lgbm_precision, lgbm_recall, _ = precision_recall_curve(y_test, y_pred_lgbm_proba)\n",
        "cat_precision, cat_recall, _ = precision_recall_curve(y_test, y_pred_cat_proba)\n",
        "no_skill = len(y_test[y_test==1]) / len(y_test)\n",
        "plt.plot([0, 1], [no_skill, no_skill], linestyle='--', color='black', label='No Skill')\n",
        "plt.plot(xgb_recall, xgb_precision, color='blue', label='XGB')\n",
        "plt.plot(lgbm_recall, lgbm_precision, color='orange', label='lgbm')\n",
        "plt.plot(cat_recall, cat_precision, color='green', label='Catboost')\n",
        "plt.plot(mlp_recall, mlp_precision, color='red', label='MLP')\n",
        "plt.xlabel('Recall')\n",
        "plt.ylabel('Precision')\n",
        "plt.title('Precision-Recall curve')\n",
        "plt.legend()\n",
        "plt.show()"
      ],
      "metadata": {
        "colab": {
          "base_uri": "https://localhost:8080/",
          "height": 295
        },
        "id": "i3Hnnm2oZNkF",
        "outputId": "1f4b9e0b-bd63-4f23-c189-e55a8cbed3c5"
      },
      "execution_count": 94,
      "outputs": [
        {
          "output_type": "display_data",
          "data": {
            "text/plain": [
              "<Figure size 432x288 with 1 Axes>"
            ],
            "image/png": "[encoded data removed]"
          },
          "metadata": {
            "needs_background": "light"
          }
        }
      ]
    }
  ]
}